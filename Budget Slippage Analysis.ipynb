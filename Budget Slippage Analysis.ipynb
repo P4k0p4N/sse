{
 "cells": [
  {
   "cell_type": "markdown",
   "metadata": {
    "extensions": {
     "jupyter_dashboards": {
      "version": 1,
      "views": {
       "grid_default": {},
       "report_default": {
        "hidden": false
       }
      }
     }
    },
    "nbpresent": {
     "id": "70b1a3b4-3840-46d8-90f6-ec0392761546"
    },
    "slideshow": {
     "slide_type": "-"
    }
   },
   "source": [
    "# Executive Summary"
   ]
  },
  {
   "cell_type": "markdown",
   "metadata": {
    "extensions": {
     "jupyter_dashboards": {
      "version": 1,
      "views": {
       "grid_default": {},
       "report_default": {
        "hidden": false
       }
      }
     }
    },
    "nbpresent": {
     "id": "93bc3507-e1e9-45c8-a278-4164b04dfd13"
    }
   },
   "source": [
    "# Content"
   ]
  },
  {
   "cell_type": "markdown",
   "metadata": {
    "extensions": {
     "jupyter_dashboards": {
      "version": 1,
      "views": {
       "grid_default": {},
       "report_default": {
        "hidden": true
       }
      }
     }
    },
    "nbpresent": {
     "id": "30f1f630-d5e6-4bac-ac03-5344d349c03f"
    }
   },
   "source": [
    "# Code"
   ]
  },
  {
   "cell_type": "code",
   "execution_count": 1,
   "metadata": {
    "extensions": {
     "jupyter_dashboards": {
      "version": 1,
      "views": {
       "grid_default": {},
       "report_default": {
        "hidden": true
       }
      }
     }
    },
    "nbpresent": {
     "id": "0603cec8-6604-4265-897b-580e5a03cb30"
    }
   },
   "outputs": [],
   "source": [
    "import pandas as pd\n",
    "import numpy as np\n",
    "import matplotlib as mpl\n",
    "import matplotlib.pyplot as plt\n",
    "from matplotlib.text import OffsetFrom\n",
    "from matplotlib import ticker, dates\n",
    "from matplotlib.ticker import FuncFormatter\n",
    "from pandas.api.types import CategoricalDtype\n",
    "import squarify\n",
    "#import imgkit\n",
    "%matplotlib inline\n",
    "pd.set_option('max_rows',300)\n",
    "pd.set_option('max_columns',50)\n",
    "#pd.set_option('min_rows',200)\n",
    "from ipywidgets import interact, interactive,fixed, interact_manual\n",
    "import ipywidgets as widgets"
   ]
  },
  {
   "cell_type": "code",
   "execution_count": 2,
   "metadata": {
    "extensions": {
     "jupyter_dashboards": {
      "version": 1,
      "views": {
       "grid_default": {},
       "report_default": {
        "hidden": true
       }
      }
     }
    },
    "nbpresent": {
     "id": "2900a895-2c11-4383-b09e-e60c90b6ea50"
    }
   },
   "outputs": [],
   "source": [
    "def millions(x, pos):\n",
    "    'The two args are the value and tick position'\n",
    "    return '£%1.1fM' % (x * 1e-6)"
   ]
  },
  {
   "cell_type": "code",
   "execution_count": 3,
   "metadata": {
    "extensions": {
     "jupyter_dashboards": {
      "version": 1,
      "views": {
       "grid_default": {},
       "report_default": {
        "hidden": true
       }
      }
     }
    },
    "nbpresent": {
     "id": "d96e4abc-590a-49a2-8454-6b0fa3afe7bb"
    }
   },
   "outputs": [],
   "source": [
    "import seaborn as sns\n",
    "sns.set(context=\"notebook\",style=\"white\")\n",
    "plt.rcParams['figure.figsize'] = (8, 6)\n",
    "plt.rcParams['figure.dpi'] = 75\n",
    "coma=mpl.ticker.StrMethodFormatter('{x:,}' )\n",
    "percen=mpl.ticker.PercentFormatter()\n",
    "millions=FuncFormatter(millions)\n",
    "formatter = mpl.dates.DateFormatter(\"%d/%m\")"
   ]
  },
  {
   "cell_type": "markdown",
   "metadata": {
    "extensions": {
     "jupyter_dashboards": {
      "version": 1,
      "views": {
       "grid_default": {},
       "report_default": {
        "hidden": true
       }
      }
     }
    },
    "nbpresent": {
     "id": "c37e0c31-dabf-4edc-ac32-fa5021e01ac2"
    }
   },
   "source": [
    "### Import and tidy up data from rrd "
   ]
  },
  {
   "cell_type": "code",
   "execution_count": 4,
   "metadata": {
    "extensions": {
     "jupyter_dashboards": {
      "version": 1,
      "views": {
       "grid_default": {},
       "report_default": {
        "hidden": true
       }
      }
     }
    },
    "nbpresent": {
     "id": "92553d5f-98db-4c92-a23c-535206b4b0fe"
    }
   },
   "outputs": [],
   "source": [
    "columns=['RRD ID',\n",
    " 'ProjectNumber',\n",
    " 'ProjectStage',\n",
    " 'Stage',\n",
    " 'SchemeName',\n",
    " 'FirstYearOfConstruction',\n",
    " 'IsChild',\n",
    " 'IsProgramme',\n",
    " 'ProgrammeProjectNumber',\n",
    " 'ProjectDriver',\n",
    " 'CostAllocation',\n",
    " 'Region',\n",
    " 'CostCentre',\n",
    " 'ProjectGroup',\n",
    " 'Senior Responsible Officer',\n",
    " 'Responsible Officer',\n",
    " 'Senior Investment Manager',\n",
    " 'Investment Manager',\n",
    " 'Network/Design Manager',\n",
    " 'Senior Network/Design Manager',\n",
    " 'Network/Construction Manager',\n",
    " 'Senior Network/Construction Manager',\n",
    " 'SI Field Unit Manager',\n",
    " 'SI Field Unit Engineer',\n",
    " 'WorksInProgress',\n",
    " 'Supergrid',\n",
    " 'F10SubmissionDate',\n",
    " 'FinancialStatus',\n",
    " 'ProjectEDate',\n",
    " 'C0Cost',\n",
    " 'C1Cost',\n",
    " 'TotalPAT_Inc_Risk',\n",
    " 'RiskTotal',\n",
    " 'RiskValueApproved',\n",
    " 'EAFBaseCost',\n",
    " 'TotalActualSpend',\n",
    " 'Overall Forecasted Total',\n",
    " 'Forecasted Total Outturn',\n",
    " 'RAG',\n",
    " 'LastLoadedDate',\n",
    " 'RRDID',\n",
    " '- - Addition',\n",
    " '- - Disposal',\n",
    " '11kV CB (Primary SS) - replacement (each) - Addition',\n",
    " '11kV CB (Primary SS) - replacement (each) - Disposal',\n",
    " '11kV Pole - refurbishment (each) - Addition',\n",
    " '11kV Pole - refurbishment (each) - Disposal',\n",
    " '11kV Pole - replacement (each) - Addition',\n",
    " '11kV Pole - replacement (each) - Disposal',\n",
    " '11kV Switchgear - refurbishment (each) - Addition',\n",
    " '11kV Switchgear - refurbishment (each) - Disposal',\n",
    " '132/33kV Transformers - refurbishment (each) - Addition',\n",
    " '132/33kV Transformers - refurbishment (each) - Disposal',\n",
    " '132/33kV Transformers - replacement (each) - Addition',\n",
    " '132/33kV Transformers - replacement (each) - Disposal',\n",
    " '132kV CB  (SS) - replacement (each) - Addition',\n",
    " '132kV CB  (SS) - replacement (each) - Disposal',\n",
    " '132kV Conductor Replacement (km) - Addition',\n",
    " '132kV Conductor Replacement (km) - Disposal',\n",
    " '132kV Fittings Replacement (each) - Addition',\n",
    " '132kV Fittings Replacement (each) - Disposal',\n",
    " '132kV OHL (Pole Line) Conductor (km) - Addition',\n",
    " '132kV OHL (Pole Line) Conductor (km) - Disposal',\n",
    " '132kV Pole - refurbishment (each) - Addition',\n",
    " '132kV Pole - replacement (each) - Addition',\n",
    " '132kV Pole - replacement (each) - Disposal',\n",
    " '132kV Switchgear - Other - Addition',\n",
    " '132kV Switchgear - Other - Disposal',\n",
    " '132kV Switchgear - Other (each) - Addition',\n",
    " '132kV Switchgear - Other (each) - Disposal',\n",
    " '132kV Tower Refurbishment (each) - Addition',\n",
    " '132kV Tower Refurbishment (each) - Disposal',\n",
    " '132kV Tower Replacement (each) - Addition',\n",
    " '132kV Tower Replacement (each) - Disposal',\n",
    " '132kV UG Cable (km) - Addition',\n",
    " '132kV UG Cable (km) - Disposal',\n",
    " '132kV UG Cable (Oil) (each) - Addition',\n",
    " '33/11kV Transformers - refurbishment (each) - Addition',\n",
    " '33/11kV Transformers - replacement (each) - Addition',\n",
    " '33/11kV Transformers - replacement (each) - Disposal',\n",
    " '33kV CB  (SS) - replacement (each) - Addition',\n",
    " '33kV CB  (SS) - replacement (each) - Disposal',\n",
    " '33kV Fittings Replacement (each) - Addition',\n",
    " '33kV Fittings Replacement (each) - Disposal',\n",
    " '33kV OHL (Tower line) Conductor (km) - Addition',\n",
    " '33kV OHL (Tower line) Conductor (km) - Disposal',\n",
    " '33kV Pole - refurbishment (each) - Addition',\n",
    " '33kV Pole - refurbishment (each) - Disposal',\n",
    " '33kV Pole - replacement (each) - Addition',\n",
    " '33kV Pole - replacement (each) - Disposal',\n",
    " '33kV Switch (PM) (each) - Addition',\n",
    " '33kV Switch (PM) (each) - Disposal',\n",
    " '33kV Switchgear  - refurbishment (each) - Addition',\n",
    " '33kV Switchgear  - refurbishment (each) - Disposal',\n",
    " '33kV Switchgear - Other - Addition',\n",
    " '33kV Switchgear - Other - Disposal',\n",
    " '33kV Switchgear - Other (PM) (ABSD) - Addition',\n",
    " '33kV Switchgear - Other (PM) (ABSD) - Disposal',\n",
    " '33kV Tower Refurbishment (each) - Addition',\n",
    " '33kV Tower Refurbishment (each) - Disposal',\n",
    " '33kV Tower Replacement (each) - Addition',\n",
    " '33kV Tower Replacement (each) - Disposal',\n",
    " '33kV UG Cable (km) - Addition',\n",
    " '33kV UG Cable (km) - Disposal',\n",
    " '33kV UG Cable (Non Pressurised) (each) - Addition',\n",
    " '33kV UG Cable (Oil) (each) - Addition',\n",
    " '33kV UG Cable (Oil) (each) - Disposal',\n",
    " '6_6/11kV CB (GM) Secondary (each) - Addition',\n",
    " '6_6/11kV CB (GM) Secondary (each) - Disposal',\n",
    " '6_6/11kV CB (PM) (each) - Addition',\n",
    " '6_6/11kV CB (PM) (each) - Disposal',\n",
    " '6_6/11kV RMU (each) - Addition',\n",
    " '6_6/11kV RMU (each) - Disposal',\n",
    " '6_6/11kV Switch (GM) (each) - Addition',\n",
    " '6_6/11kV Switch (GM) (each) - Disposal',\n",
    " '6_6/11kV Switchgear - Other (PM) (ABSD) - Addition',\n",
    " '6_6/11kV Switchgear - Other (PM) (ABSD) - Disposal',\n",
    " '6_6/11kV Switchgear - Other (PM) (each) - Addition',\n",
    " '6_6/11kV Switchgear - Other (PM) (each) - Disposal',\n",
    " '6_6/11kV Transformer (GM) (each) - Addition',\n",
    " '6_6/11kV Transformer (GM) (each) - Disposal',\n",
    " '6_6/11kV Transformer (PM) (each) - Addition',\n",
    " '6_6/11kV Transformer (PM) (each) - Disposal',\n",
    " '6_6/11kV UG Cable (km) - Addition',\n",
    " '6_6/11kV UG Cable (km) - Disposal',\n",
    " '66/11kV Transformers - replacement (each) - Addition',\n",
    " '66/11kV Transformers - replacement (each) - Disposal',\n",
    " '66kV CB  (SS) - replacement (each) - Addition',\n",
    " '66kV CB  (SS) - replacement (each) - Disposal',\n",
    " '66kV Switchgear - Other (each) - Addition',\n",
    " '66kV Switchgear - Other (each) - Disposal',\n",
    " '66kV UG Cable (Gas) (each) - Addition',\n",
    " '66kV UG Cable (km) - Addition',\n",
    " '66kV UG Cable (km) - Disposal',\n",
    " 'Blackstart 132kV (sites) Protection (each) - Addition',\n",
    " 'Blackstart 132kV (sites) Protection (each) - Disposal',\n",
    " 'Blackstart 132kV (sites) SCADA (each) - Addition',\n",
    " 'Blackstart 132kV (sites) SCADA (each) - Disposal',\n",
    " 'Blackstart EHV Protection (each) - Addition',\n",
    " 'Blackstart EHV Protection (each) - Disposal',\n",
    " 'Blackstart EHV SCADA (each) - Addition',\n",
    " 'Blackstart EHV SCADA (each) - Disposal',\n",
    " 'Cable LV Main (UG Consac & Paper) - (km) - Addition',\n",
    " 'Cable LV Main (UG Consac & Paper) - (km) - Disposal',\n",
    " 'Cable LV Main (UG Plastic) (km) - Addition',\n",
    " 'Cable LV Main (UG Plastic) (km) - Disposal',\n",
    " 'Circuit Reinforcement 132kv & EHV No of Schemes - N-1 - Addition',\n",
    " 'Circuit Reinforcement 132kv & EHV No of Schemes - N-2 - Addition',\n",
    " 'Circuit Reinforcement HV (km) - Addition',\n",
    " 'Circuit Reinforcement HV (km) - Disposal',\n",
    " 'Circuit Reinforcement LV (km) - Addition',\n",
    " 'Circuit Reinforcement LV (km) - Disposal',\n",
    " 'Cut Out (Metered) (each) - Addition',\n",
    " 'Cut Out (Metered) (each) - Disposal',\n",
    " 'Distribution S/S Reinforcement No of Schemes (each) - Addition',\n",
    " 'Distribution S/S Reinforcement No of Schemes (each) - Disposal',\n",
    " 'Fault Level 11kV Primary Reinforcement No of Schemes - Addition',\n",
    " 'Fault Level EHV Reinforcement No of Schemes - Addition',\n",
    " 'LV Board (WM) (each) - Addition',\n",
    " 'LV Board (WM) (each) - Disposal',\n",
    " 'LV Cut Out (Metered) - (each) - Addition',\n",
    " 'LV Cut Out (Metered) - (each) - Disposal',\n",
    " 'LV Main (UG Paper) - (km) - Disposal',\n",
    " 'LV Main (UG Plastic) - (km) - Addition',\n",
    " 'LV Main (UG Plastic) - (km) - Disposal',\n",
    " 'LV Pillar (ID) (Each) - Addition',\n",
    " 'LV Pillar (ID) (Each) - Disposal',\n",
    " 'LV Pillar (OD at Substation) (each) - Addition',\n",
    " 'LV Pillar (OD at Substation) (each) - Disposal',\n",
    " 'LV Pole Refurbished pole (each) - Addition',\n",
    " 'LV Pole Refurbished pole (each) - Disposal',\n",
    " 'LV Rising & Lateral Mains - No_ of Mains - Addition',\n",
    " 'LV Rising & Lateral Mains - No_ of Mains - Disposal',\n",
    " 'LV Service associated with RLM - (each) - Addition',\n",
    " 'LV Service associated with RLM - (each) - Disposal',\n",
    " 'LV Service replacement (UG) (each) - Addition',\n",
    " 'LV Service replacement (UG) (each) - Disposal',\n",
    " 'LV Transformers/Regulators (each) - Disposal',\n",
    " 'LV UGB & LV Pillars (OD not at Substation) (each) - Addition',\n",
    " 'LV UGB & LV Pillars (OD not at Substation) (each) - Disposal',\n",
    " 'LV Underground service transfers (each) - Addition',\n",
    " 'LV Underground service transfers (each) - Disposal',\n",
    " 'Overhead Line BLX 11kV Conductor - replacement (km) - Addition',\n",
    " 'Overhead Line BLX 11kV Conductor - replacement (km) - Disposal',\n",
    " 'Overhead Line Conventional 11kV Conductor - replacement (km) - A',\n",
    " 'Overhead Line Conventional 11kV Conductor - replacement (km) - D',\n",
    " 'Overhead Pole Line 33kV Conductor - replacement (km) - Addition',\n",
    " 'Overhead Pole Line 33kV Conductor - replacement (km) - Disposal',\n",
    " 'Overhead Pole Line LV Main (OHL) Conductor (km) - Addition',\n",
    " 'Overhead Pole Line LV Main (OHL) Conductor (km) - Disposal',\n",
    " 'Overhead Pole Line LV Poles - replacement (each) - Addition',\n",
    " 'Overhead Pole Line LV Poles - replacement (each) - Disposal',\n",
    " 'Overhead Pole Line LV Service (OHL) (each) - Addition',\n",
    " 'Overhead Pole Line LV Service (OHL) (each) - Disposal',\n",
    " 'S/S Reinforcement No of Schemes - N-1 (each) - Addition',\n",
    " 'S/S Reinforcement No of Schemes - N-2 (each) - Addition',\n",
    " 'Substation Flood Mitigation (132kv) (sites) (each) - Addition',\n",
    " 'Substation Flood Mitigation (EHV) (sites) (each) - Addition',\n",
    " 'Substation Flood Mitigation (EHV) (sites) (each) - Disposal',\n",
    " 'Substation RTUs, marshalling kiosks, receivers - Addition',\n",
    " 'Substation RTUs, marshalling kiosks, receivers - Disposal',\n",
    " 'Tree Cutting ENATS 43-8 132kv (span) - Addition',\n",
    " 'Tree Cutting ENATS 43-8 132kv (span) - Disposal',\n",
    " 'Tree Cutting ENATS 43-8 EHV (span) - Addition',\n",
    " 'Tree Cutting ENATS 43-8 EHV (span) - Disposal',\n",
    " 'Tree Cutting ENATS 43-8 HV (span) - Addition',\n",
    " 'Tree Cutting ENATS 43-8 HV (span) - Disposal',\n",
    " 'Tree Cutting ENATS 43-8 LV (span) - Addition',\n",
    " 'Tree Cutting ENATS 43-8 LV (span) - Disposal']\n",
    "rrd=pd.read_excel(\"South Portfolio.xlsx\",sheet_name=\"Data\", usecols=columns)\n",
    "\n",
    "rrd.set_index(\"RRD ID\",inplace=True,drop=False)\n",
    "\n",
    "rrd[\"FirstYearOfConstruction\"]=rrd[\"FirstYearOfConstruction\"].str.split(\"/\").str.get(1).astype(int)+2000"
   ]
  },
  {
   "cell_type": "markdown",
   "metadata": {
    "extensions": {
     "jupyter_dashboards": {
      "version": 1,
      "views": {
       "grid_default": {},
       "report_default": {
        "hidden": true
       }
      }
     }
    },
    "nbpresent": {
     "id": "d48230b5-61ef-4ea3-a9c9-d04490236cd3"
    }
   },
   "source": [
    "### Identify Load - Not Load related Projects "
   ]
  },
  {
   "cell_type": "code",
   "execution_count": 5,
   "metadata": {
    "extensions": {
     "jupyter_dashboards": {
      "version": 1,
      "views": {
       "grid_default": {},
       "report_default": {
        "hidden": true
       }
      }
     }
    },
    "nbpresent": {
     "id": "7a8c960b-3f89-4349-bd7f-7e5b73385526"
    }
   },
   "outputs": [],
   "source": [
    "rrd.insert(10,\"Driver\",rrd['ProjectDriver'].str.split(\"-\").str.get(0).str.strip())\n",
    "not_load=['CV5','CV6','CV7','CV8','CV9','CV10','CV11','CV12','CV13','CV14','CV15','CV16','CV17','CV18','CV19','CV20','CV21','CV22']\n",
    "rrd.insert(11,'NotLoad',rrd['Driver'].isin(not_load))"
   ]
  },
  {
   "cell_type": "markdown",
   "metadata": {
    "extensions": {
     "jupyter_dashboards": {
      "version": 1,
      "views": {
       "grid_default": {},
       "report_default": {
        "hidden": true
       }
      }
     }
    },
    "nbpresent": {
     "id": "2f7381f5-5306-49d0-89f3-15700b828906"
    }
   },
   "source": [
    "### Identify Driving Assets per Project"
   ]
  },
  {
   "cell_type": "code",
   "execution_count": 6,
   "metadata": {
    "extensions": {
     "jupyter_dashboards": {
      "version": 1,
      "views": {
       "grid_default": {},
       "report_default": {
        "hidden": true
       }
      }
     }
    },
    "nbpresent": {
     "id": "2419c5a9-800f-438f-a001-d721e73b34a0"
    }
   },
   "outputs": [],
   "source": [
    "assets=rrd.loc[:,'11kV CB (Primary SS) - replacement (each) - Addition':'Tree Cutting ENATS 43-8 LV (span) - Disposal']\n",
    "first_asset=[]\n",
    "for i in range(4922):\n",
    "    for c in range(166):\n",
    "        if pd.notna(assets.iloc[i,c]):\n",
    "            x=(assets.iloc[i,:].name,assets.iloc[:,c].name)\n",
    "            first_asset.append(x)\n",
    "            break\n",
    "\n",
    "first_asset_frame=pd.DataFrame(first_asset).set_index(0)\n",
    "first_asset_frame.columns=[\"Asset\"]\n",
    "first_asset_frame[\"First-Asset\"]=first_asset_frame[\"Asset\"].str.split(\" - \").str.get(0)\n",
    "first_asset_frame['Driving Asset']=first_asset_frame['First-Asset'].str.split(\"(\").str.get(0).str.strip()\n",
    "first_asset_frame['Note']=first_asset_frame['First-Asset'].str.split(\"(\").str.get(1).str.strip().str.replace(\")\",\"\")\n",
    "\n",
    "rrd=rrd.merge(first_asset_frame['Driving Asset'],'left',left_index=True,right_index=True)\n",
    "\n",
    "rrd['Driving Asset'].fillna('unkonown',inplace=True)"
   ]
  },
  {
   "cell_type": "markdown",
   "metadata": {
    "extensions": {
     "jupyter_dashboards": {
      "version": 1,
      "views": {
       "grid_default": {},
       "report_default": {
        "hidden": true
       }
      }
     }
    },
    "nbpresent": {
     "id": "23838a8d-91d5-4d9d-84aa-d400bab4bb9a"
    }
   },
   "source": [
    "### Categorising Projects According to Size \n",
    "using C1Cost as the Driving Criteria"
   ]
  },
  {
   "cell_type": "code",
   "execution_count": 7,
   "metadata": {
    "extensions": {
     "jupyter_dashboards": {
      "version": 1,
      "views": {
       "grid_default": {},
       "report_default": {
        "hidden": true
       }
      }
     }
    },
    "nbpresent": {
     "id": "7ac0f178-a82f-44b4-930b-6e6d6a4a1a81"
    }
   },
   "outputs": [],
   "source": [
    "cat_type = CategoricalDtype(categories=[\"<£1M\",\"<£2.5M\",\"<£10M\",\"£10M+\"],ordered=True)\n",
    "\n",
    "def price_tag(x):\n",
    "    if x<=1e6:\n",
    "        return \"<£1M\"\n",
    "    if x<=2.5e6:\n",
    "        return \"<£2.5M\"\n",
    "    if x<=10e6:\n",
    "        return \"<£10M\"\n",
    "    else:\n",
    "        return \"£10M+\"\n",
    "\n",
    "rrd[\"Pjct Group\"]=rrd['C1Cost'].apply(price_tag).astype(cat_type)"
   ]
  },
  {
   "cell_type": "markdown",
   "metadata": {
    "extensions": {
     "jupyter_dashboards": {
      "version": 1,
      "views": {
       "grid_default": {},
       "report_default": {
        "hidden": true
       }
      }
     }
    },
    "nbpresent": {
     "id": "605d0041-5fb5-4233-b03e-dc0263f3e398"
    }
   },
   "source": [
    "### Filtering Data to Contain only in scope: \n",
    "- 2016-2023, \n",
    "- Not Load related,\n",
    "- Projects with initial Budget higher than £1000 "
   ]
  },
  {
   "cell_type": "code",
   "execution_count": 8,
   "metadata": {
    "extensions": {
     "jupyter_dashboards": {
      "version": 1,
      "views": {
       "grid_default": {},
       "report_default": {
        "hidden": true
       }
      }
     }
    },
    "nbpresent": {
     "id": "c61c748a-3adb-4f2e-9c64-ea76148248a8"
    }
   },
   "outputs": [],
   "source": [
    "mask=rrd['NotLoad']==True\n",
    "mask1=rrd['FirstYearOfConstruction']>=2016\n",
    "mask2=rrd['FirstYearOfConstruction']<=2023\n",
    "mask3=rrd['IsChild']==0\n",
    "mask5=rrd['C1Cost']>1000\n",
    "rrd=rrd[mask&mask1&mask2&mask3&mask5]"
   ]
  },
  {
   "cell_type": "markdown",
   "metadata": {
    "extensions": {
     "jupyter_dashboards": {
      "version": 1,
      "views": {
       "grid_default": {},
       "report_default": {
        "hidden": true
       }
      }
     }
    },
    "nbpresent": {
     "id": "2f27818a-fb02-44c9-a03d-59270ebd32bd"
    }
   },
   "source": [
    "### Add Budget Variation fields "
   ]
  },
  {
   "cell_type": "code",
   "execution_count": 9,
   "metadata": {
    "extensions": {
     "jupyter_dashboards": {
      "version": 1,
      "views": {
       "grid_default": {},
       "report_default": {
        "hidden": true
       }
      }
     }
    },
    "nbpresent": {
     "id": "8c9b87c2-f409-4377-90bc-ffc14a4bd2fb"
    }
   },
   "outputs": [],
   "source": [
    "change0=rrd['C1Cost']-rrd['C0Cost']\n",
    "change1=rrd['TotalPAT_Inc_Risk']-rrd['C1Cost']\n",
    "change2=rrd['TotalActualSpend']-rrd['TotalPAT_Inc_Risk']\n",
    "change3=rrd['TotalActualSpend']-rrd['C1Cost']\n",
    "\n",
    "rrd['Change from Allowance to Outperformace Target']=change0\n",
    "rrd[\"Change from Outperformace Target to G3 budget\"]=change1\n",
    "rrd['Change from G3 Budget to Actual Spend']=change2\n",
    "rrd['Change from Target to Actual Spend']=change3\n",
    "\n",
    "rrd['Var0']=rrd['Change from Allowance to Outperformace Target']/rrd['C0Cost']\n",
    "rrd[\"Var1\"]=rrd[\"Change from Outperformace Target to G3 budget\"]/rrd['C1Cost']\n",
    "rrd[\"Var2\"]=rrd['Change from G3 Budget to Actual Spend']/rrd['TotalPAT_Inc_Risk']\n",
    "rrd[\"Var3\"]=rrd['Change from Target to Actual Spend']/rrd['C1Cost']"
   ]
  },
  {
   "cell_type": "markdown",
   "metadata": {
    "extensions": {
     "jupyter_dashboards": {
      "version": 1,
      "views": {
       "grid_default": {},
       "report_default": {
        "hidden": true
       }
      }
     }
    },
    "nbpresent": {
     "id": "99768df9-f6af-459b-badf-f48be2639f99"
    }
   },
   "source": [
    "### Setting Interactive Widgets"
   ]
  },
  {
   "cell_type": "code",
   "execution_count": null,
   "metadata": {
    "extensions": {
     "jupyter_dashboards": {
      "version": 1,
      "views": {
       "grid_default": {},
       "report_default": {
        "hidden": true
       }
      }
     }
    }
   },
   "outputs": [],
   "source": []
  },
  {
   "cell_type": "code",
   "execution_count": 10,
   "metadata": {
    "extensions": {
     "jupyter_dashboards": {
      "version": 1,
      "views": {
       "grid_default": {
        "hidden": true
       },
       "report_default": {
        "hidden": true
       }
      }
     }
    }
   },
   "outputs": [],
   "source": [
    "year0=widgets.IntRangeSlider(\n",
    "    value=[2016, 2020],\n",
    "    min=2016,\n",
    "    max=2023,\n",
    "    step=1,\n",
    "    description='First Year:',\n",
    "    disabled=False,\n",
    "    continuous_update=False,\n",
    "    orientation='horizontal',\n",
    "    readout=True,\n",
    "    readout_format='d',\n",
    ")\n"
   ]
  },
  {
   "cell_type": "code",
   "execution_count": 11,
   "metadata": {
    "extensions": {
     "jupyter_dashboards": {
      "version": 1,
      "views": {
       "grid_default": {
        "hidden": true
       },
       "report_default": {
        "hidden": true
       }
      }
     }
    }
   },
   "outputs": [],
   "source": [
    "stage0 = widgets.Dropdown(\n",
    "    options=['All',\"Pre-Execution\",\"Execution\",\"Closed/Completed\"],\n",
    "    value='All',\n",
    "    description='Project Stage:',\n",
    "    continuous_update=False\n",
    ")\n"
   ]
  },
  {
   "cell_type": "code",
   "execution_count": 12,
   "metadata": {
    "extensions": {
     "jupyter_dashboards": {
      "version": 1,
      "views": {
       "grid_default": {
        "hidden": true
       },
       "report_default": {
        "hidden": true
       }
      }
     }
    }
   },
   "outputs": [],
   "source": [
    "regions0 = widgets.Dropdown(\n",
    "    options=['All','SEPD South East','SEPD Wessex','SEPD Ridgeway','SEPD Thames Valley','SEPD Major Projects','SEPD Central', 'Multiple'],\n",
    "    value='All',\n",
    "    description='Region:',\n",
    ")"
   ]
  },
  {
   "cell_type": "code",
   "execution_count": 13,
   "metadata": {
    "extensions": {
     "jupyter_dashboards": {
      "version": 1,
      "views": {
       "grid_default": {
        "hidden": true
       },
       "report_default": {
        "hidden": true
       }
      }
     }
    }
   },
   "outputs": [],
   "source": [
    "groups0 = widgets.Dropdown(\n",
    "    options=['All','<£1M', '<£2.5M', '<£10M', '£10M+'],\n",
    "    value='All',\n",
    "    description='Group:',\n",
    ")"
   ]
  },
  {
   "cell_type": "code",
   "execution_count": 14,
   "metadata": {
    "extensions": {
     "jupyter_dashboards": {
      "version": 1,
      "views": {
       "grid_default": {},
       "report_default": {
        "hidden": true
       }
      }
     }
    },
    "nbpresent": {
     "id": "f507fc79-aece-4119-973a-46fc8933b415"
    }
   },
   "outputs": [],
   "source": [
    "year1=widgets.IntRangeSlider(\n",
    "    value=[2016, 2020],\n",
    "    min=2016,\n",
    "    max=2023,\n",
    "    step=1,\n",
    "    description='First Year:',\n",
    "    disabled=False,\n",
    "    continuous_update=False,\n",
    "    orientation='horizontal',\n",
    "    readout=True,\n",
    "    readout_format='d',\n",
    ")\n"
   ]
  },
  {
   "cell_type": "code",
   "execution_count": 15,
   "metadata": {
    "extensions": {
     "jupyter_dashboards": {
      "version": 1,
      "views": {
       "grid_default": {},
       "report_default": {
        "hidden": true
       }
      }
     }
    },
    "nbpresent": {
     "id": "c1f051b9-69d0-4fa1-ab65-feb43b479462"
    }
   },
   "outputs": [],
   "source": [
    "stage1 = widgets.Dropdown(\n",
    "    options=[\"Pre-Execution\",\"Execution\",\"Closed/Completed\"],\n",
    "    value='Closed/Completed',\n",
    "    description='Project Stage:',\n",
    "    continuous_update=False\n",
    ")\n"
   ]
  },
  {
   "cell_type": "code",
   "execution_count": 16,
   "metadata": {
    "extensions": {
     "jupyter_dashboards": {
      "version": 1,
      "views": {
       "grid_default": {
        "hidden": true
       },
       "report_default": {
        "hidden": true
       }
      }
     }
    }
   },
   "outputs": [],
   "source": [
    "regions1 = widgets.Dropdown(\n",
    "    options=['All','SEPD South East','SEPD Wessex','SEPD Ridgeway','SEPD Thames Valley','SEPD Major Projects','SEPD Central', 'Multiple'],\n",
    "    value='All',\n",
    "    description='Region:',\n",
    ")"
   ]
  },
  {
   "cell_type": "code",
   "execution_count": 17,
   "metadata": {
    "extensions": {
     "jupyter_dashboards": {
      "version": 1,
      "views": {
       "grid_default": {
        "hidden": true
       },
       "report_default": {
        "hidden": true
       }
      }
     }
    }
   },
   "outputs": [],
   "source": [
    "groups1 = widgets.Dropdown(\n",
    "    options=['All','<£1M', '<£2.5M', '<£10M', '£10M+'],\n",
    "    value='All',\n",
    "    description='Group:',\n",
    ")"
   ]
  },
  {
   "cell_type": "code",
   "execution_count": 18,
   "metadata": {
    "extensions": {
     "jupyter_dashboards": {
      "version": 1,
      "views": {
       "grid_default": {
        "hidden": true
       },
       "report_default": {
        "hidden": true
       }
      }
     }
    },
    "nbpresent": {
     "id": "afdf751c-a8b2-4dd4-8951-2c97490ecb6b"
    }
   },
   "outputs": [],
   "source": [
    "year2=widgets.IntRangeSlider(\n",
    "    value=[2016, 2020],\n",
    "    min=2016,\n",
    "    max=2023,\n",
    "    step=1,\n",
    "    description='First Year:',\n",
    "    disabled=False,\n",
    "    continuous_update=False,\n",
    "    orientation='horizontal',\n",
    "    readout=True,\n",
    "    readout_format='d',\n",
    ")\n"
   ]
  },
  {
   "cell_type": "code",
   "execution_count": 19,
   "metadata": {
    "extensions": {
     "jupyter_dashboards": {
      "version": 1,
      "views": {
       "grid_default": {
        "hidden": true
       },
       "report_default": {
        "hidden": true
       }
      }
     }
    },
    "nbpresent": {
     "id": "71bd2d5d-75a1-489b-b0e2-d5ac5211f859"
    }
   },
   "outputs": [],
   "source": [
    "stage2 = widgets.Dropdown(\n",
    "    options=[\"Pre-Execution\",\"Execution\",\"Closed/Completed\"],\n",
    "    value='Closed/Completed',\n",
    "    description='Project Stage:',\n",
    ")\n"
   ]
  },
  {
   "cell_type": "code",
   "execution_count": 20,
   "metadata": {
    "extensions": {
     "jupyter_dashboards": {
      "version": 1,
      "views": {
       "grid_default": {
        "hidden": true
       },
       "report_default": {
        "hidden": true
       }
      }
     }
    }
   },
   "outputs": [],
   "source": [
    "regions2 = widgets.Dropdown(\n",
    "    options=['All','SEPD South East','SEPD Wessex','SEPD Ridgeway','SEPD Thames Valley','SEPD Major Projects','SEPD Central', 'Multiple'],\n",
    "    value='All',\n",
    "    description='Region:',\n",
    ")"
   ]
  },
  {
   "cell_type": "code",
   "execution_count": 21,
   "metadata": {
    "extensions": {
     "jupyter_dashboards": {
      "version": 1,
      "views": {
       "grid_default": {
        "hidden": true
       },
       "report_default": {
        "hidden": true
       }
      }
     }
    }
   },
   "outputs": [],
   "source": [
    "groups2 = widgets.Dropdown(\n",
    "    options=['All','<£1M', '<£2.5M', '<£10M', '£10M+'],\n",
    "    value='All',\n",
    "    description='Group:',\n",
    ")"
   ]
  },
  {
   "cell_type": "code",
   "execution_count": 22,
   "metadata": {
    "extensions": {
     "jupyter_dashboards": {
      "version": 1,
      "views": {
       "grid_default": {
        "hidden": true
       },
       "report_default": {
        "hidden": true
       }
      }
     }
    },
    "nbpresent": {
     "id": "8b73a992-a698-4340-b20e-5fcbfe9fec6d"
    }
   },
   "outputs": [],
   "source": [
    "year3=widgets.IntRangeSlider(\n",
    "    value=[2016, 2020],\n",
    "    min=2016,\n",
    "    max=2023,\n",
    "    step=1,\n",
    "    description='First Year:',\n",
    "    disabled=False,\n",
    "    continuous_update=False,\n",
    "    orientation='horizontal',\n",
    "    readout=True,\n",
    "    readout_format='d',\n",
    ")\n"
   ]
  },
  {
   "cell_type": "code",
   "execution_count": 23,
   "metadata": {
    "extensions": {
     "jupyter_dashboards": {
      "version": 1,
      "views": {
       "grid_default": {
        "hidden": true
       },
       "report_default": {
        "hidden": true
       }
      }
     }
    },
    "nbpresent": {
     "id": "1091768d-c688-4301-8e2a-2b2f77c8aabe"
    }
   },
   "outputs": [],
   "source": [
    "stage3 = widgets.Dropdown(\n",
    "    options=[\"Pre-Execution\",\"Execution\",\"Closed/Completed\"],\n",
    "    value='Closed/Completed',\n",
    "    description='Project Stage:',\n",
    ")\n"
   ]
  },
  {
   "cell_type": "code",
   "execution_count": 24,
   "metadata": {
    "extensions": {
     "jupyter_dashboards": {
      "version": 1,
      "views": {
       "grid_default": {
        "hidden": true
       },
       "report_default": {
        "hidden": true
       }
      }
     }
    }
   },
   "outputs": [],
   "source": [
    "regions3 = widgets.Dropdown(\n",
    "    options=['All','SEPD South East','SEPD Wessex','SEPD Ridgeway','SEPD Thames Valley','SEPD Major Projects','SEPD Central', 'Multiple'],\n",
    "    value='All',\n",
    "    description='Region:',\n",
    ")"
   ]
  },
  {
   "cell_type": "code",
   "execution_count": 25,
   "metadata": {
    "extensions": {
     "jupyter_dashboards": {
      "version": 1,
      "views": {
       "grid_default": {
        "hidden": true
       },
       "report_default": {
        "hidden": true
       }
      }
     }
    }
   },
   "outputs": [],
   "source": [
    "groups3 = widgets.Dropdown(\n",
    "    options=['All','<£1M', '<£2.5M', '<£10M', '£10M+'],\n",
    "    value='All',\n",
    "    description='Group:',\n",
    ")"
   ]
  },
  {
   "cell_type": "code",
   "execution_count": 26,
   "metadata": {
    "extensions": {
     "jupyter_dashboards": {
      "version": 1,
      "views": {
       "grid_default": {
        "hidden": true
       },
       "report_default": {
        "hidden": true
       }
      }
     }
    },
    "nbpresent": {
     "id": "56b46a78-a95c-47cb-a8f9-7100f9fafdb6"
    }
   },
   "outputs": [],
   "source": [
    "year4=widgets.IntRangeSlider(\n",
    "    value=[2016, 2020],\n",
    "    min=2016,\n",
    "    max=2023,\n",
    "    step=1,\n",
    "    description='First Year:',\n",
    "    disabled=False,\n",
    "    continuous_update=False,\n",
    "    orientation='horizontal',\n",
    "    readout=True,\n",
    "    readout_format='d',\n",
    ")\n"
   ]
  },
  {
   "cell_type": "code",
   "execution_count": 27,
   "metadata": {
    "extensions": {
     "jupyter_dashboards": {
      "version": 1,
      "views": {
       "grid_default": {
        "hidden": true
       },
       "report_default": {
        "hidden": true
       }
      }
     }
    },
    "nbpresent": {
     "id": "6500d26a-ed61-4ebf-8db5-e02301448355"
    }
   },
   "outputs": [],
   "source": [
    "stage4 = widgets.Dropdown(\n",
    "    options=[\"Pre-Execution\",\"Execution\",\"Closed/Completed\"],\n",
    "    value='Closed/Completed',\n",
    "    description='Project Stage:',\n",
    ")\n"
   ]
  },
  {
   "cell_type": "code",
   "execution_count": 28,
   "metadata": {
    "extensions": {
     "jupyter_dashboards": {
      "version": 1,
      "views": {
       "grid_default": {
        "hidden": true
       },
       "report_default": {
        "hidden": true
       }
      }
     }
    }
   },
   "outputs": [],
   "source": [
    "regions4 = widgets.Dropdown(\n",
    "    options=['All','SEPD South East','SEPD Wessex','SEPD Ridgeway','SEPD Thames Valley','SEPD Major Projects','SEPD Central', 'Multiple'],\n",
    "    value='All',\n",
    "    description='Region:',\n",
    ")"
   ]
  },
  {
   "cell_type": "code",
   "execution_count": 29,
   "metadata": {
    "extensions": {
     "jupyter_dashboards": {
      "version": 1,
      "views": {
       "grid_default": {
        "hidden": true
       },
       "report_default": {
        "hidden": true
       }
      }
     }
    }
   },
   "outputs": [],
   "source": [
    "groups4 = widgets.Dropdown(\n",
    "    options=['All','<£1M', '<£2.5M', '<£10M', '£10M+'],\n",
    "    value='All',\n",
    "    description='Group:',\n",
    ")"
   ]
  },
  {
   "cell_type": "code",
   "execution_count": 30,
   "metadata": {
    "extensions": {
     "jupyter_dashboards": {
      "version": 1,
      "views": {
       "grid_default": {
        "hidden": true
       },
       "report_default": {
        "hidden": true
       }
      }
     }
    },
    "nbpresent": {
     "id": "eb21cc96-5635-4a26-829d-09220051fb17"
    }
   },
   "outputs": [],
   "source": [
    "year5=widgets.IntRangeSlider(\n",
    "    value=[2016, 2020],\n",
    "    min=2016,\n",
    "    max=2023,\n",
    "    step=1,\n",
    "    description='First Year:',\n",
    "    disabled=False,\n",
    "    continuous_update=False,\n",
    "    orientation='horizontal',\n",
    "    readout=True,\n",
    "    readout_format='d',\n",
    ")\n"
   ]
  },
  {
   "cell_type": "code",
   "execution_count": 31,
   "metadata": {
    "extensions": {
     "jupyter_dashboards": {
      "version": 1,
      "views": {
       "grid_default": {
        "hidden": true
       },
       "report_default": {
        "hidden": true
       }
      }
     }
    },
    "nbpresent": {
     "id": "2a8d72f9-c536-416d-bfab-b3449400b057"
    }
   },
   "outputs": [],
   "source": [
    "stage5 = widgets.Dropdown(\n",
    "    options=[\"Pre-Execution\",\"Execution\",\"Closed/Completed\"],\n",
    "    value='Closed/Completed',\n",
    "    description='Project Stage:',\n",
    ")\n"
   ]
  },
  {
   "cell_type": "code",
   "execution_count": 32,
   "metadata": {
    "extensions": {
     "jupyter_dashboards": {
      "version": 1,
      "views": {
       "grid_default": {
        "hidden": true
       },
       "report_default": {
        "hidden": true
       }
      }
     }
    }
   },
   "outputs": [],
   "source": [
    "regions5 = widgets.Dropdown(\n",
    "    options=['All','SEPD South East','SEPD Wessex','SEPD Ridgeway','SEPD Thames Valley','SEPD Major Projects','SEPD Central', 'Multiple'],\n",
    "    value='All',\n",
    "    description='Region:',\n",
    ")"
   ]
  },
  {
   "cell_type": "code",
   "execution_count": 33,
   "metadata": {
    "extensions": {
     "jupyter_dashboards": {
      "version": 1,
      "views": {
       "grid_default": {
        "hidden": true
       },
       "report_default": {
        "hidden": true
       }
      }
     }
    }
   },
   "outputs": [],
   "source": [
    "groups5 = widgets.Dropdown(\n",
    "    options=['All','<£1M', '<£2.5M', '<£10M', '£10M+'],\n",
    "    value='All',\n",
    "    description='Group:',\n",
    ")"
   ]
  },
  {
   "cell_type": "code",
   "execution_count": 34,
   "metadata": {
    "extensions": {
     "jupyter_dashboards": {
      "version": 1,
      "views": {
       "grid_default": {},
       "report_default": {
        "hidden": true
       }
      }
     }
    },
    "nbpresent": {
     "id": "b864890c-de84-4c9a-a60a-35b8245f07a5"
    }
   },
   "outputs": [],
   "source": [
    "stages = widgets.Dropdown(\n",
    "    options=[\"Pre-Execution\",\"Execution\",\"Closed/Completed\"],\n",
    "    value='Closed/Completed',\n",
    "    description='Project Stage:',\n",
    ")"
   ]
  },
  {
   "cell_type": "code",
   "execution_count": 35,
   "metadata": {
    "extensions": {
     "jupyter_dashboards": {
      "version": 1,
      "views": {
       "grid_default": {},
       "report_default": {
        "hidden": true
       }
      }
     }
    },
    "nbpresent": {
     "id": "a2d7330f-f409-40d5-a9d8-2a6266b26134"
    }
   },
   "outputs": [],
   "source": [
    "regions=rrd['Region'].value_counts().index.to_list()\n",
    "groups=rrd['Pjct Group'].value_counts().index.to_list()"
   ]
  },
  {
   "cell_type": "code",
   "execution_count": 36,
   "metadata": {
    "extensions": {
     "jupyter_dashboards": {
      "version": 1,
      "views": {
       "grid_default": {},
       "report_default": {
        "hidden": true
       }
      }
     }
    },
    "nbpresent": {
     "id": "4659b8ae-7a74-406b-873c-2e2432248b83"
    }
   },
   "outputs": [],
   "source": [
    "regions = widgets.Dropdown(\n",
    "    options=['All','SEPD South East','SEPD Wessex','SEPD Ridgeway','SEPD Thames Valley','SEPD Major Projects','SEPD Central', 'Multiple'],\n",
    "    value='All',\n",
    "    description='Region:',\n",
    ")"
   ]
  },
  {
   "cell_type": "code",
   "execution_count": 37,
   "metadata": {
    "extensions": {
     "jupyter_dashboards": {
      "version": 1,
      "views": {
       "grid_default": {},
       "report_default": {
        "hidden": true
       }
      }
     }
    },
    "nbpresent": {
     "id": "451d5673-59e7-4ed7-9dcf-d29b4bdc9606"
    }
   },
   "outputs": [],
   "source": [
    "groups = widgets.Dropdown(\n",
    "    options=['All','<£1M', '<£2.5M', '<£10M', '£10M+'],\n",
    "    value='All',\n",
    "    description='Group:',\n",
    ")"
   ]
  },
  {
   "cell_type": "code",
   "execution_count": null,
   "metadata": {},
   "outputs": [],
   "source": []
  },
  {
   "cell_type": "code",
   "execution_count": null,
   "metadata": {},
   "outputs": [],
   "source": []
  },
  {
   "cell_type": "code",
   "execution_count": null,
   "metadata": {},
   "outputs": [],
   "source": []
  },
  {
   "cell_type": "code",
   "execution_count": null,
   "metadata": {},
   "outputs": [],
   "source": []
  },
  {
   "cell_type": "code",
   "execution_count": null,
   "metadata": {},
   "outputs": [],
   "source": []
  },
  {
   "cell_type": "markdown",
   "metadata": {
    "extensions": {
     "jupyter_dashboards": {
      "version": 1,
      "views": {
       "grid_default": {},
       "report_default": {
        "hidden": true
       }
      }
     }
    },
    "nbpresent": {
     "id": "02dca08f-828f-44c0-b6c1-a2390920b014"
    }
   },
   "source": [
    "### Summary of Allowance, Targets and Current Spent - SEPD"
   ]
  },
  {
   "cell_type": "code",
   "execution_count": 38,
   "metadata": {
    "extensions": {
     "jupyter_dashboards": {
      "version": 1,
      "views": {
       "grid_default": {},
       "report_default": {
        "hidden": true
       }
      }
     }
    },
    "nbpresent": {
     "id": "7646563e-0376-4c9e-a572-e84bc3bb30cd"
    },
    "scrolled": true
   },
   "outputs": [],
   "source": [
    "def high_level_summary(Region,stage):\n",
    "    if Region=='All': region=rrd['Region']!=Region\n",
    "    else: region=rrd['Region']==Region\n",
    "    \n",
    "    if stage==\"Pre-Execution\": rangex=range(1,4)\n",
    "    elif stage==\"Execution\": rangex=range(4,5)\n",
    "    elif stage==\"All\":rangex=range(0,9)\n",
    "    else: rangex=range(5,9)\n",
    "    mask4=rrd['Stage'].isin(rangex)\n",
    "    \n",
    "    summary=rrd[mask4&region].pivot_table(index='Pjct Group',values=['C0Cost','C1Cost','TotalPAT_Inc_Risk','TotalActualSpend'],\n",
    "                    aggfunc=\"sum\",margins=True,dropna=True,observed=True).round(2)\n",
    "\n",
    "    summary=summary[['C0Cost','C1Cost','TotalPAT_Inc_Risk','TotalActualSpend']]\n",
    "    summary.columns=['1-Allowance','2-Outperformace Target (G3)','3-Budget (G4)','4-Spent']\n",
    "    summary=summary.style.format('{:,}',na_rep='-')\n",
    "\n",
    "    def hover(hover_color=\"#ffff99\"):\n",
    "        return dict(selector=\"tr:hover\",\n",
    "                    props=[(\"background-color\", \"%s\" % hover_color)])\n",
    "\n",
    "    styles = [\n",
    "        hover(),\n",
    "        dict(selector=\"th\", props=[(\"font-size\", \"150%\"),\n",
    "                                   (\"text-align\", \"center\")]),\n",
    "        dict(selector=\"caption\", props=[(\"caption-side\", \"bottom\")])\n",
    "    ]\n",
    "    html = summary.set_table_styles(styles).set_properties(**{'font-size': '12pt'})\n",
    "    return html"
   ]
  },
  {
   "cell_type": "code",
   "execution_count": null,
   "metadata": {
    "extensions": {
     "jupyter_dashboards": {
      "version": 1,
      "views": {
       "grid_default": {},
       "report_default": {
        "hidden": true
       }
      }
     }
    },
    "nbpresent": {
     "id": "ade9326d-1846-475f-8cd1-f7e94e483ae9"
    }
   },
   "outputs": [],
   "source": []
  },
  {
   "cell_type": "code",
   "execution_count": null,
   "metadata": {
    "extensions": {
     "jupyter_dashboards": {
      "version": 1,
      "views": {
       "grid_default": {},
       "report_default": {
        "hidden": true
       }
      }
     }
    },
    "nbpresent": {
     "id": "e0c7432f-8435-4b02-ae07-da33de23528d"
    }
   },
   "outputs": [],
   "source": []
  },
  {
   "cell_type": "markdown",
   "metadata": {
    "extensions": {
     "jupyter_dashboards": {
      "version": 1,
      "views": {
       "grid_default": {},
       "report_default": {
        "hidden": true
       }
      }
     }
    },
    "nbpresent": {
     "id": "4d1ea15a-f010-42f9-bbf8-895f8f9db0f7"
    }
   },
   "source": [
    "### Allowance vs. Budget vs. Actual Spent"
   ]
  },
  {
   "cell_type": "code",
   "execution_count": 39,
   "metadata": {
    "extensions": {
     "jupyter_dashboards": {
      "version": 1,
      "views": {
       "grid_default": {},
       "report_default": {
        "hidden": true
       }
      }
     }
    },
    "nbpresent": {
     "id": "668e7fd3-a58a-45f0-ac7e-0d26c24e86be"
    }
   },
   "outputs": [],
   "source": [
    "def setup(yrange,stage):\n",
    "    mask=rrd['FirstYearOfConstruction'].isin(range(yrange[0],yrange[1]+1))\n",
    "    if stage==\"Pre-Execution\":\n",
    "        rangex=range(1,4)\n",
    "    elif stage==\"Execution\":\n",
    "        rangex=range(4,5)\n",
    "    else:\n",
    "        rangex=range(5,9)\n",
    "    mask4=rrd['Stage'].isin(rangex)\n",
    "    budget_evolution=rrd[mask&mask4][['RRD ID','FirstYearOfConstruction',\"Region\",\"Driving Asset\",\"Pjct Group\",\n",
    "                                                  \"C0Cost\",'Change from Allowance to Outperformace Target','Var0',\n",
    "                                                  \"C1Cost\",\"Change from Outperformace Target to G3 budget\",'Var1',\n",
    "                                                  \"TotalPAT_Inc_Risk\",\"Change from G3 Budget to Actual Spend\",'Var2',\n",
    "                                                  \"TotalActualSpend\",\"Change from Target to Actual Spend\",'Var3']]\n",
    "\n",
    "    regions=budget_evolution['Region'].value_counts().index.to_list()\n",
    "    groups=budget_evolution['Pjct Group'].value_counts().index.to_list()\n",
    "\n",
    "    fig, ax=plt.subplots(1,1,sharex=True)\n",
    "    evolve=budget_evolution.pivot_table(index='Pjct Group',\n",
    "                                        values=['C0Cost','C1Cost','TotalPAT_Inc_Risk','TotalActualSpend'],aggfunc=\"sum\")\n",
    "    evolve=evolve[['C0Cost','C1Cost','TotalPAT_Inc_Risk','TotalActualSpend']]\n",
    "    evolve.columns=['1-Allowance','2-Outperformace Target (G3)','3-Budget (G4)','4-Spent']\n",
    "\n",
    "    sns.lineplot(data=evolve.loc['<£1M',:],palette='tab10',linewidth=2.5,ax=ax,label='<£1M')\n",
    "    sns.lineplot(data=evolve.loc['<£2.5M',:],palette='tab10',linewidth=2.5,ax=ax,label='<£2.5M')\n",
    "    sns.lineplot(data=evolve.loc['<£10M',:],palette='tab10',linewidth=2.5,ax=ax,label='<£10M')\n",
    "    sns.lineplot(data=evolve.loc['£10M+',:],palette='tab10',linewidth=2.5,ax=ax,label='£10M+')\n",
    "    ax.xaxis.grid(True, linestyle='--', which='major',color='grey', alpha=.25,linewidth=0.5)\n",
    "    ax.yaxis.grid(True, linestyle='--', which='major',color='grey', alpha=.25,linewidth=0.5)\n",
    "    ax.legend(title='Project Group')\n",
    "    ax.yaxis.set_major_formatter(millions)\n",
    "    ax.yaxis.set_major_formatter(millions)\n",
    "    ax.set_position([0.5, 0, 1, .9],which='original')\n",
    "    ax.set_title('Budget Slippage and Actual Spent per Project Group',size=18);\n",
    "\n",
    "    bud_ev_sum=budget_evolution.pivot_table(index='Pjct Group',aggfunc={'RRD ID':\"count\",\n",
    "        'C0Cost':\"sum\",'Change from Allowance to Outperformace Target':\"sum\",'Var0':\"mean\",\n",
    "        \"C1Cost\":\"sum\",\"Change from Outperformace Target to G3 budget\":\"sum\",'Var1':\"mean\",\n",
    "        \"TotalPAT_Inc_Risk\":\"sum\",\"Change from G3 Budget to Actual Spend\":\"sum\",'Var2':\"mean\",\n",
    "        \"TotalActualSpend\":'sum',\"Change from Target to Actual Spend\":'sum','Var3':\"mean\"},\n",
    "                                            dropna=False,observed=True)\n",
    "\n",
    "\n",
    "    bud_ev_sum=bud_ev_sum[['RRD ID','C0Cost','C1Cost','Change from Allowance to Outperformace Target','Var0',\n",
    "                           'TotalPAT_Inc_Risk','Change from Outperformace Target to G3 budget','Var1',\n",
    "                           'TotalActualSpend','Change from G3 Budget to Actual Spend','Var2',\n",
    "                           'Change from Target to Actual Spend','Var3']].round(2)\n",
    "\n",
    "    bud_ev_sum['Var0']=bud_ev_sum['Change from Allowance to Outperformace Target']/bud_ev_sum['C0Cost']\n",
    "    bud_ev_sum[\"Var1\"]=bud_ev_sum[\"Change from Outperformace Target to G3 budget\"]/bud_ev_sum['C1Cost']\n",
    "    bud_ev_sum[\"Var2\"]=bud_ev_sum['Change from G3 Budget to Actual Spend']/bud_ev_sum['TotalPAT_Inc_Risk']\n",
    "    bud_ev_sum[\"Var3\"]=bud_ev_sum['Change from Target to Actual Spend']/bud_ev_sum['TotalActualSpend']\n",
    "    bud_ev_sum.replace([np.inf,-np.inf],0,inplace=True)\n",
    "    #bud_ev_sum.drop('Unkown',axis=0,inplace=True)\n",
    "    bud_ev_sum.rename({'C0Cost':'1-Allowance','C1Cost':'2-Outperformance Target (G3)',\n",
    "                       'TotalPAT_Inc_Risk':'3-Budget(G4)','TotalActualSpend':'4-Spent'},inplace=True,axis=1)\n",
    "\n",
    "    slippage=bud_ev_sum.style.format({'RRD ID':'{:,}','1-Allowance':'{:,}','2-Outperformance Target (G3)':'{:,}','Change from Allowance to Outperformace Target':'{:,}','Var0':'{:.2%}',\n",
    "                                      '3-Budget(G4)':'{:,}','Change from Outperformace Target to G3 budget':'{:,}','Var1':\"{:.2%}\",\n",
    "                                      '4-Spent':'{:,}','Change from G3 Budget to Actual Spend':'{:,}','Var2':\"{:.2%}\",\n",
    "                                      'Change from Target to Actual Spend':'{:,}','Var3':\"{:.2%}\"},na_rep='-')\n",
    "    from matplotlib import cm\n",
    "    cm1=sns.diverging_palette(220, 22, sep=20, as_cmap=True)\n",
    "    cm=sns.diverging_palette(220, 20, sep=20, as_cmap=True)\n",
    "    slippage.background_gradient(cmap=cm1,axis=0,#low=-0.1,high=0.3, \n",
    "                            subset=[\"Var0\",\"Var1\",\"Var2\",\"Var3\"])\n",
    "    slippage.background_gradient(cmap=cm,axis=0,#low=-0.3,high=0.3, \n",
    "                            subset=[\"Change from Allowance to Outperformace Target\",\n",
    "                                    \"Change from Outperformace Target to G3 budget\",\n",
    "                                    \"Change from G3 Budget to Actual Spend\",\n",
    "                                    \"Change from Target to Actual Spend\"])\n",
    "\n",
    "\n",
    "\n",
    "    return slippage"
   ]
  },
  {
   "cell_type": "markdown",
   "metadata": {
    "extensions": {
     "jupyter_dashboards": {
      "version": 1,
      "views": {
       "grid_default": {},
       "report_default": {
        "hidden": true
       }
      }
     }
    },
    "nbpresent": {
     "id": "31742b06-b65c-4b6d-b2ad-b4197f35d81d"
    }
   },
   "source": [
    "### Analysis of Allowance vs. Budget vs. Actual Spent"
   ]
  },
  {
   "cell_type": "code",
   "execution_count": null,
   "metadata": {
    "extensions": {
     "jupyter_dashboards": {
      "version": 1,
      "views": {
       "grid_default": {},
       "report_default": {
        "hidden": true
       }
      }
     }
    },
    "nbpresent": {
     "id": "4f69422e-b2ce-45fb-bf96-abd5ea30f3c6"
    }
   },
   "outputs": [],
   "source": []
  },
  {
   "cell_type": "code",
   "execution_count": 40,
   "metadata": {
    "extensions": {
     "jupyter_dashboards": {
      "version": 1,
      "views": {
       "grid_default": {
        "hidden": true
       },
       "report_default": {
        "hidden": true
       }
      }
     }
    },
    "nbpresent": {
     "id": "afa71dc1-1c27-468d-9284-d53fafedd54a"
    }
   },
   "outputs": [],
   "source": [
    "def box(yrange,stage,Group,Region):\n",
    "    fig,ax=plt.subplots(1,2,figsize=(10,10),sharey=True)\n",
    "    fig.suptitle('Projects by Driving Assets, Over-spending Analysis')\n",
    "    \n",
    "    mask1=rrd['FirstYearOfConstruction'].isin(range(yrange[0],yrange[1]+1))\n",
    "    if stage==\"Pre-Execution\":\n",
    "        rangex=range(1,4)\n",
    "    elif stage==\"Execution\":\n",
    "        rangex=range(4,5)\n",
    "    else:\n",
    "        rangex=range(5,9)\n",
    "    mask2=rrd['Stage'].isin(rangex)\n",
    "    mask3=rrd['Driving Asset']!='unkonown'\n",
    "    \n",
    "    if Group=='All': group=rrd['Pjct Group']!=Group\n",
    "    else: group=rrd['Pjct Group']==Group\n",
    "    \n",
    "    if Region=='All': region=rrd['Region']!=Region\n",
    "    else: region=rrd['Region']==Region\n",
    "    \n",
    "    rrd2=rrd[mask1&mask2&mask3&group&region]\n",
    "    avg_os=rrd2['Change from Target to Actual Spend'].mean()\n",
    "    tot_os=rrd2['Change from Target to Actual Spend'].sum()\n",
    "\n",
    "    ax[0].axvline(x=avg_os,color='r')\n",
    "    sns.boxplot(data=rrd2,y='Driving Asset',x='Change from Target to Actual Spend',orient='h',palette=\"Blues\",ax=ax[0],saturation=0.9)\n",
    "    ax[0].tick_params(axis='y', labelrotation= 0,labelsize=12,labelleft=True)\n",
    "    bbox_args = dict(boxstyle=\"round\", fc=\"1\")\n",
    "    arrow_args = dict(arrowstyle=\"->\",color=\"r\")\n",
    "    ax[0].annotate('Project Over Spending\\n Average: {}\\n Total: {}\\n'.format('£%2.3fM'%(avg_os*1e-6),'£%2.3fM'%(tot_os*1e-6)),\n",
    "                    xy=(avg_os,0.5), xycoords=('data','axes fraction'),\n",
    "                    xytext=(120, 0), textcoords='offset points',\n",
    "                    ha=\"center\", va=\"top\",\n",
    "                    bbox=bbox_args,\n",
    "                    arrowprops=arrow_args)\n",
    "    \n",
    "    ax[0].xaxis.grid(True, linestyle='--', which='major',color='grey', alpha=.25,linewidth=0.5)\n",
    "    ax[0].yaxis.grid(True, linestyle='--', which='major',color='grey', alpha=.25,linewidth=0.5)\n",
    "    ax[0].xaxis.set_major_formatter(millions)\n",
    "    ax[0].set_xlabel('Difference between Outperfomance Target and Actual Spent per Project')\n",
    "    ax[0].set_position([.1,0.05,.68,.9])\n",
    "    sns.countplot(y=\"Driving Asset\",palette=\"Blues\", data=rrd2,ax=ax[1],saturation=0.9)\n",
    "    ax[1].xaxis.grid(True, linestyle='--', which='major',color='grey', alpha=.25,linewidth=0.5)\n",
    "    ax[1].set_xlabel('Number of Projects')\n",
    "    ax[1].set_position([.8,0.05,.2,.9])\n",
    "    ax[1].set_ylabel('');"
   ]
  },
  {
   "cell_type": "code",
   "execution_count": 41,
   "metadata": {
    "extensions": {
     "jupyter_dashboards": {
      "version": 1,
      "views": {
       "grid_default": {},
       "report_default": {
        "hidden": true
       }
      }
     }
    },
    "nbpresent": {
     "id": "ed8da471-76b4-4132-947f-bc8b5877a862"
    }
   },
   "outputs": [],
   "source": [
    "def setup2(yrange,stage):\n",
    "    mask1=rrd['FirstYearOfConstruction'].isin(range(yrange[0],yrange[1]+1))\n",
    "    if stage==\"Pre-Execution\":\n",
    "        rangex=range(1,4)\n",
    "    elif stage==\"Execution\":\n",
    "        rangex=range(4,5)\n",
    "    else:\n",
    "        rangex=range(5,9)\n",
    "    mask2=rrd['Stage'].isin(rangex)\n",
    "\n",
    "    budget_evolution=rrd[mask1&mask2][['FirstYearOfConstruction',\"Region\",\"Driving Asset\",\"Pjct Group\",\n",
    "                                                  \"C0Cost\",'Change from Allowance to Outperformace Target','Var0',\n",
    "                                                  \"C1Cost\",\"Change from Outperformace Target to G3 budget\",'Var1',\n",
    "                                                  \"TotalPAT_Inc_Risk\",\"Change from G3 Budget to Actual Spend\",'Var2',\n",
    "                                                  \"TotalActualSpend\",\"Change from Target to Actual Spend\",'Var3']]\n",
    "\n",
    "\n",
    "\n",
    "    regions=budget_evolution['Region'].value_counts().index.to_list()\n",
    "    groups=budget_evolution['Pjct Group'].value_counts().index.to_list()\n",
    "    #if region.sum()>0 and group.sum()>0:\n",
    "\n",
    "    fig,ax=plt.subplots(5,3,sharex=True, sharey=False,squeeze=True,constrained_layout=True,figsize=(10,10))\n",
    "    fig.suptitle('Slippage in Bugets across Regions and Project Groups',size=20)\n",
    "    for i in range(5):\n",
    "        for j in range(3):\n",
    "            mask1=budget_evolution['Region']==regions[i]\n",
    "            mask2=budget_evolution['Pjct Group']==groups[j]\n",
    "            \n",
    "            evolve=budget_evolution[mask1&mask2].pivot_table(index='Region',\n",
    "                                                values=['C0Cost','C1Cost','TotalPAT_Inc_Risk',\n",
    "                                                        'TotalActualSpend'],aggfunc=\"sum\",dropna=False)\n",
    "          \n",
    "\n",
    "\n",
    "            evolve=evolve[['C0Cost','C1Cost','TotalPAT_Inc_Risk','TotalActualSpend']]\n",
    "            evolve.columns=['1-Allowance','2-Target (G3)','3-Budget (G4)','4-Spent']\n",
    "            evolve=evolve.transpose()\n",
    "            if evolve.empty:\n",
    "                x=123\n",
    "            else: \n",
    "                if (evolve.iloc[1,0]<evolve.iloc[-1,0]): colr='r'\n",
    "                else: colr='b'\n",
    "                ax[i,j].plot(evolve,linewidth=2.5,color=colr,label=regions[1]+\" - \"+groups[j])\n",
    "                \n",
    "            ax[i,j].yaxis.set_major_formatter(millions)\n",
    "            ax[i,j].set_title(label=regions[i]+\" - \"+groups[j],size=10)\n",
    "            ax[i,j].tick_params(axis='x', labelrotation= 30,labelsize=8,labelleft=True)\n",
    "            ax[i,j].tick_params(axis='y',labelsize=8)\n",
    "            ax[i,j].xaxis.grid(True, linestyle='--', which='major',color='grey', alpha=.25,linewidth=0.5)"
   ]
  },
  {
   "cell_type": "markdown",
   "metadata": {
    "extensions": {
     "jupyter_dashboards": {
      "version": 1,
      "views": {
       "grid_default": {},
       "report_default": {
        "hidden": true
       }
      }
     }
    },
    "nbpresent": {
     "id": "9ad9e138-5e2b-4488-88a6-efb3d374970d"
    }
   },
   "source": [
    "### Allowance vs. Budget vs. Actual Spent per Region and Project  Group"
   ]
  },
  {
   "cell_type": "code",
   "execution_count": 42,
   "metadata": {
    "extensions": {
     "jupyter_dashboards": {
      "version": 1,
      "views": {
       "grid_default": {},
       "report_default": {
        "hidden": true
       }
      }
     }
    },
    "nbpresent": {
     "id": "aed717eb-60c4-4a8f-90de-0a0864beea5d"
    }
   },
   "outputs": [],
   "source": [
    "def budget_evolve(Region,Group,yrange,stage):\n",
    "    mask1=rrd['FirstYearOfConstruction'].isin(range(yrange[0],yrange[1]+1))\n",
    "    if stage==\"Pre-Execution\":\n",
    "        rangex=range(1,4)\n",
    "    elif stage==\"Execution\":\n",
    "        rangex=range(4,5)\n",
    "    else:\n",
    "        rangex=range(5,9)\n",
    "    mask2=rrd['Stage'].isin(rangex)\n",
    "    if Group=='All': group=rrd['Pjct Group']!=Group\n",
    "    else: group=rrd['Pjct Group']==Group\n",
    "    \n",
    "    if Region=='All': region=rrd['Region']!=Region\n",
    "    else: region=rrd['Region']==Region\n",
    "    \n",
    "    budget_evolution=rrd[mask1&mask2&region&group][['RRD ID','FirstYearOfConstruction',\"Region\",\"Driving Asset\",\"Pjct Group\",\n",
    "                                                  \"C0Cost\",'Change from Allowance to Outperformace Target','Var0',\n",
    "                                                  \"C1Cost\",\"Change from Outperformace Target to G3 budget\",'Var1',\n",
    "                                                  \"TotalPAT_Inc_Risk\",\"Change from G3 Budget to Actual Spend\",'Var2',\n",
    "                                                  \"TotalActualSpend\",\"Change from Target to Actual Spend\",'Var3']]\n",
    "\n",
    "    \n",
    "\n",
    "    if region.sum()>0 and group.sum()>0:\n",
    "        \n",
    "        fig, ax=plt.subplots(1,1)\n",
    "        evolve=budget_evolution.pivot_table(index='FirstYearOfConstruction',\n",
    "                                            values=['C0Cost','C1Cost','TotalPAT_Inc_Risk','TotalActualSpend'],\n",
    "                                                         aggfunc=\"sum\")\n",
    "        evolve=evolve[['C0Cost','C1Cost','TotalPAT_Inc_Risk','TotalActualSpend']]\n",
    "        evolve.columns=['1-Allowance','2-Outperformace Target (G3)','3-Budget (G4)','4-Spent']\n",
    "        \n",
    "        ax=sns.lineplot(data=evolve.transpose(),palette='tab10',linewidth=2.5)\n",
    "        ax.yaxis.set_major_formatter(millions)\n",
    "        ax.set_title('Budget evolution and Spent {} - Projects {}'.format(Region,Group))\n",
    "        ax.legend(title='First Year of Construction')\n",
    "        ax.set_position([0.3, 0, 1, .9],which='original')\n",
    "        \n",
    "        bud_ev_sum=budget_evolution.pivot_table(index='Driving Asset',aggfunc={'RRD ID':\"count\",\n",
    "            'C0Cost':\"sum\",'Change from Allowance to Outperformace Target':\"sum\",'Var0':\"mean\",\n",
    "            \"C1Cost\":\"sum\",\"Change from Outperformace Target to G3 budget\":\"sum\",'Var1':\"mean\",\n",
    "            \"TotalPAT_Inc_Risk\":\"sum\",\"Change from G3 Budget to Actual Spend\":\"sum\",'Var2':\"mean\",\n",
    "            \"TotalActualSpend\":'sum',\"Change from Target to Actual Spend\":'sum','Var3':\"mean\"},dropna=False)\n",
    "\n",
    "\n",
    "        bud_ev_sum=bud_ev_sum[['RRD ID','C0Cost','Change from Allowance to Outperformace Target','Var0',\n",
    "                               'C1Cost','TotalPAT_Inc_Risk','Change from Outperformace Target to G3 budget','Var1',\n",
    "                               'TotalActualSpend','Change from G3 Budget to Actual Spend','Var2',\n",
    "                               'Change from Target to Actual Spend','Var3']].round(2)\n",
    "        \n",
    "        bud_ev_sum['Var0']=bud_ev_sum['Change from Allowance to Outperformace Target']/bud_ev_sum['C0Cost']\n",
    "        bud_ev_sum[\"Var1\"]=bud_ev_sum[\"Change from Outperformace Target to G3 budget\"]/bud_ev_sum['C1Cost']\n",
    "        bud_ev_sum[\"Var2\"]=bud_ev_sum['Change from G3 Budget to Actual Spend']/bud_ev_sum['TotalPAT_Inc_Risk']\n",
    "        bud_ev_sum[\"Var3\"]=bud_ev_sum['Change from Target to Actual Spend']/bud_ev_sum['TotalActualSpend']\n",
    "        bud_ev_sum.replace([np.inf,-np.inf],0,inplace=True)\n",
    "        bud_ev_sum.sort_values('Change from Target to Actual Spend',ascending=False,inplace=True)\n",
    "\n",
    "\n",
    "        slippage=bud_ev_sum.style.format({'RRD ID':'{:,}','C0Cost':'{:,}','C1Cost':'{:,}','Change from Allowance to Outperformace Target':'{:,}','Var0':'{:.2%}',\n",
    "                                          'TotalPAT_Inc_Risk':'{:,}','Change from Outperformace Target to G3 budget':'{:,}','Var1':\"{:.2%}\",\n",
    "                                          'TotalActualSpend':'{:,}','Change from G3 Budget to Actual Spend':'{:,}','Var2':\"{:.2%}\",\n",
    "                                          'Change from Target to Actual Spend':'{:,}','Var3':\"{:.2%}\"})\n",
    "        from matplotlib import cm\n",
    "        cm1=sns.diverging_palette(240, 10, sep=20, n=4, as_cmap=True)\n",
    "        cm=sns.light_palette(\"orange\", as_cmap=True)\n",
    "        #slippage.background_gradient(cmap=cm1,axis=0,low=0,high=0.3, \n",
    "                        #subset=[\"Var0\",\"Var1\",\"Var2\",\"Var3\"])\n",
    "        slippage.background_gradient(cmap=cm,#axis=0,low=0,high=0.1, \n",
    "                        subset=[#\"Change from Allowance to Outperformace Target\",\n",
    "                                #\"Change from Outperformace Target to G3 budget\",\n",
    "                                #\"Change from G3 Budget to Actual Spend\",\n",
    "                                \"Change from Target to Actual Spend\"])\n",
    "        return slippage"
   ]
  },
  {
   "cell_type": "code",
   "execution_count": null,
   "metadata": {
    "extensions": {
     "jupyter_dashboards": {
      "version": 1,
      "views": {
       "grid_default": {},
       "report_default": {
        "hidden": true
       }
      }
     }
    },
    "nbpresent": {
     "id": "41d38390-6aa3-408b-99e5-8c511a192d08"
    }
   },
   "outputs": [],
   "source": []
  },
  {
   "cell_type": "code",
   "execution_count": 43,
   "metadata": {
    "extensions": {
     "jupyter_dashboards": {
      "version": 1,
      "views": {
       "grid_default": {},
       "report_default": {
        "hidden": true
       }
      }
     }
    },
    "nbpresent": {
     "id": "d3b748ba-2abf-4c14-9605-f723eaf1028e"
    }
   },
   "outputs": [],
   "source": [
    "assets=first_asset_frame['Driving Asset'].unique()\n",
    "\n",
    "def budget_asset(Region,Group,Asset,yrange,stage):\n",
    "    \n",
    "    mask1=rrd['FirstYearOfConstruction'].isin(range(yrange[0],yrange[1]+1))\n",
    "    if stage==\"Pre-Execution\":\n",
    "        rangex=range(1,4)\n",
    "    elif stage==\"Execution\":\n",
    "        rangex=range(4,5)\n",
    "    else:\n",
    "        rangex=range(5,9)\n",
    "        \n",
    "    mask2=rrd['Stage'].isin(rangex)\n",
    "    mask3=rrd['Driving Asset']==Asset\n",
    "    if Group=='All': group=rrd['Pjct Group']!=Group\n",
    "    else: group=rrd['Pjct Group']==Group\n",
    "    \n",
    "    if Region=='All': region=rrd['Region']!=Region\n",
    "    else: region=rrd['Region']==Region\n",
    "    \n",
    "    budget_evolution=rrd[mask1&mask2&mask3&region&group][['FirstYearOfConstruction',\n",
    "                                                  \"C0Cost\",'Change from Allowance to Outperformace Target','Var0',\n",
    "                                                  \"C1Cost\",\"Change from Outperformace Target to G3 budget\",'Var1',\n",
    "                                                  \"TotalPAT_Inc_Risk\",\"Change from G3 Budget to Actual Spend\",'Var2',\n",
    "                                                  \"TotalActualSpend\",\"Change from Target to Actual Spend\",'Var3']].round(2)\n",
    "\n",
    "\n",
    "\n",
    "\n",
    "    fig, ax=plt.subplots(1,1)\n",
    "    evolve=budget_evolution.pivot_table(index='FirstYearOfConstruction',\n",
    "                                        values=['C0Cost','C1Cost','TotalPAT_Inc_Risk','TotalActualSpend'],\n",
    "                                                     aggfunc=\"sum\")\n",
    "    evolve=evolve[['C0Cost','C1Cost','TotalPAT_Inc_Risk','TotalActualSpend']]\n",
    "    evolve.columns=['1-Allowance','2-Outperformace Target (G3)','3-Budget (G4)','4-Spent']\n",
    "\n",
    "    ax=sns.lineplot(data=evolve.transpose(),palette='tab10',linewidth=2.5)\n",
    "    ax.yaxis.set_major_formatter(millions)\n",
    "    ax.set_title('Budget evolution and Spent {} - Projects {}'.format(Region,Group))\n",
    "    ax.legend(title='First Year of Construction')\n",
    "    ax.set_position([0.3, 0, 1, .9],which='original')\n",
    "\n",
    "\n",
    "    budget_evolution.replace([np.inf,-np.inf],0,inplace=True)\n",
    "    budget_evolution.sort_values('Change from Target to Actual Spend',ascending=False,inplace=True)\n",
    "\n",
    "\n",
    "    slippage= budget_evolution.style.format({'C0Cost':'{:,}','C1Cost':'{:,}','Change from Allowance to Outperformace Target':'{:,}','Var0':'{:.2%}',\n",
    "                                      'TotalPAT_Inc_Risk':'{:,}','Change from Outperformace Target to G3 budget':'{:,}','Var1':\"{:.2%}\",\n",
    "                                      'TotalActualSpend':'{:,}','Change from G3 Budget to Actual Spend':'{:,}','Var2':\"{:.2%}\",\n",
    "                                      'Change from Target to Actual Spend':'{:,}','Var3':\"{:.2%}\"})\n",
    "    from matplotlib import cm\n",
    "    cm1=sns.diverging_palette(240, 10, sep=20, n=4, as_cmap=True)\n",
    "    cm=sns.light_palette(\"orange\", as_cmap=True)\n",
    "    #slippage.background_gradient(cmap=cm1,axis=0,low=0,high=0.3, \n",
    "                    #subset=[\"Var0\",\"Var1\",\"Var2\",\"Var3\"])\n",
    "    slippage.background_gradient(cmap=cm,#axis=0,low=0,high=0.1, \n",
    "                    subset=[#\"Change from Allowance to Outperformace Target\",\n",
    "                            #\"Change from Outperformace Target to G3 budget\",\n",
    "                            #\"Change from G3 Budget to Actual Spend\",\n",
    "                            \"Change from Target to Actual Spend\"])\n",
    "    return slippage"
   ]
  },
  {
   "cell_type": "markdown",
   "metadata": {
    "extensions": {
     "jupyter_dashboards": {
      "version": 1,
      "views": {
       "grid_default": {},
       "report_default": {
        "hidden": false
       }
      }
     }
    }
   },
   "source": [
    "# Report"
   ]
  },
  {
   "cell_type": "markdown",
   "metadata": {
    "extensions": {
     "jupyter_dashboards": {
      "version": 1,
      "views": {
       "grid_default": {},
       "report_default": {
        "hidden": true
       }
      }
     }
    }
   },
   "source": [
    "## Current Status of Ofgem Allowance, Outperformance Targets, Project Budgets and Actual Expenditure"
   ]
  },
  {
   "cell_type": "code",
   "execution_count": 44,
   "metadata": {
    "extensions": {
     "jupyter_dashboards": {
      "version": 1,
      "views": {
       "grid_default": {
        "hidden": true
       },
       "report_default": {
        "hidden": false
       }
      }
     }
    },
    "jupyter": {
     "source_hidden": true
    }
   },
   "outputs": [
    {
     "data": {
      "application/vnd.jupyter.widget-view+json": {
       "model_id": "c221d87fda094d0fb520ea4c49c576ad",
       "version_major": 2,
       "version_minor": 0
      },
      "text/plain": [
       "interactive(children=(Dropdown(description='Region:', options=('All', 'SEPD South East', 'SEPD Wessex', 'SEPD …"
      ]
     },
     "metadata": {},
     "output_type": "display_data"
    }
   ],
   "source": [
    "interact(high_level_summary,Region=regions0,stage=stage0);"
   ]
  },
  {
   "cell_type": "code",
   "execution_count": 45,
   "metadata": {
    "extensions": {
     "jupyter_dashboards": {
      "version": 1,
      "views": {
       "grid_default": {
        "hidden": true
       },
       "report_default": {
        "hidden": false
       }
      }
     }
    },
    "jupyter": {
     "source_hidden": true
    }
   },
   "outputs": [
    {
     "data": {
      "application/vnd.jupyter.widget-view+json": {
       "model_id": "a71b92dfb52b4a38a2db2cf9032bd2e8",
       "version_major": 2,
       "version_minor": 0
      },
      "text/plain": [
       "interactive(children=(IntRangeSlider(value=(2016, 2020), continuous_update=False, description='First Year:', m…"
      ]
     },
     "metadata": {},
     "output_type": "display_data"
    }
   ],
   "source": [
    "interact(setup,yrange=year1,stage=stage1);"
   ]
  },
  {
   "cell_type": "markdown",
   "metadata": {
    "extensions": {
     "jupyter_dashboards": {
      "version": 1,
      "views": {
       "grid_default": {},
       "report_default": {
        "hidden": false
       }
      }
     }
    }
   },
   "source": [
    "## Overview of Project Over-Spending when Compared to Outperformance Targets"
   ]
  },
  {
   "cell_type": "code",
   "execution_count": 46,
   "metadata": {
    "extensions": {
     "jupyter_dashboards": {
      "version": 1,
      "views": {
       "grid_default": {
        "hidden": true
       },
       "report_default": {
        "hidden": false
       }
      }
     }
    },
    "jupyter": {
     "source_hidden": true
    }
   },
   "outputs": [
    {
     "data": {
      "application/vnd.jupyter.widget-view+json": {
       "model_id": "fb23c445ac2b4ca7882b37aadbcc171c",
       "version_major": 2,
       "version_minor": 0
      },
      "text/plain": [
       "interactive(children=(IntRangeSlider(value=(2016, 2020), continuous_update=False, description='First Year:', m…"
      ]
     },
     "metadata": {},
     "output_type": "display_data"
    }
   ],
   "source": [
    "interact(box,yrange=year2,stage=stage2,Group=groups2,Region=regions2);"
   ]
  },
  {
   "cell_type": "markdown",
   "metadata": {
    "extensions": {
     "jupyter_dashboards": {
      "version": 1,
      "views": {
       "grid_default": {},
       "report_default": {
        "hidden": false
       }
      }
     }
    }
   },
   "source": [
    "## Analysis  of the Evolution of Project Allowance to Actual Expenditure per Region and Project Group"
   ]
  },
  {
   "cell_type": "code",
   "execution_count": 47,
   "metadata": {
    "extensions": {
     "jupyter_dashboards": {
      "version": 1,
      "views": {
       "grid_default": {
        "hidden": true
       },
       "report_default": {
        "hidden": false
       }
      }
     }
    },
    "jupyter": {
     "source_hidden": true
    }
   },
   "outputs": [
    {
     "data": {
      "application/vnd.jupyter.widget-view+json": {
       "model_id": "7c036437ba4540c794c9443edb8770e9",
       "version_major": 2,
       "version_minor": 0
      },
      "text/plain": [
       "interactive(children=(IntRangeSlider(value=(2016, 2020), continuous_update=False, description='First Year:', m…"
      ]
     },
     "metadata": {},
     "output_type": "display_data"
    }
   ],
   "source": [
    "interact(setup2,yrange=year3,stage=stage3);"
   ]
  },
  {
   "cell_type": "markdown",
   "metadata": {
    "extensions": {
     "jupyter_dashboards": {
      "version": 1,
      "views": {
       "grid_default": {},
       "report_default": {
        "hidden": false
       }
      }
     }
    }
   },
   "source": [
    "## Identification of Projects  with largest over-spend per Project Driving Assets"
   ]
  },
  {
   "cell_type": "code",
   "execution_count": 48,
   "metadata": {
    "extensions": {
     "jupyter_dashboards": {
      "version": 1,
      "views": {
       "grid_default": {
        "hidden": true
       },
       "report_default": {
        "hidden": false
       }
      }
     }
    },
    "jupyter": {
     "source_hidden": true
    }
   },
   "outputs": [
    {
     "data": {
      "application/vnd.jupyter.widget-view+json": {
       "model_id": "02cb4a6778214a7ba5888a00cde12dd5",
       "version_major": 2,
       "version_minor": 0
      },
      "text/plain": [
       "interactive(children=(Dropdown(description='Region:', options=('All', 'SEPD South East', 'SEPD Wessex', 'SEPD …"
      ]
     },
     "metadata": {},
     "output_type": "display_data"
    }
   ],
   "source": [
    "interact(budget_evolve,Region=regions4,Group=groups4,yrange=year4,stage=stage4);"
   ]
  },
  {
   "cell_type": "markdown",
   "metadata": {
    "extensions": {
     "jupyter_dashboards": {
      "version": 1,
      "views": {
       "grid_default": {},
       "report_default": {
        "hidden": false
       }
      }
     }
    }
   },
   "source": [
    "## Identification of Specific Projects by Drining Asset and Region orgsnised by value of over-spending"
   ]
  },
  {
   "cell_type": "code",
   "execution_count": 49,
   "metadata": {
    "extensions": {
     "jupyter_dashboards": {
      "version": 1,
      "views": {
       "grid_default": {
        "hidden": true
       },
       "report_default": {
        "hidden": false
       }
      }
     }
    }
   },
   "outputs": [
    {
     "data": {
      "application/vnd.jupyter.widget-view+json": {
       "model_id": "7554b628c6a442b79e5642168b2ac51c",
       "version_major": 2,
       "version_minor": 0
      },
      "text/plain": [
       "interactive(children=(Dropdown(description='Region:', options=('All', 'SEPD South East', 'SEPD Wessex', 'SEPD …"
      ]
     },
     "metadata": {},
     "output_type": "display_data"
    }
   ],
   "source": [
    "interact(budget_asset,Region=regions5,Group=groups5,Asset=assets,yrange=year5,stage=stage5);"
   ]
  },
  {
   "cell_type": "code",
   "execution_count": null,
   "metadata": {
    "extensions": {
     "jupyter_dashboards": {
      "version": 1,
      "views": {
       "grid_default": {},
       "report_default": {
        "hidden": true
       }
      }
     }
    }
   },
   "outputs": [],
   "source": []
  },
  {
   "cell_type": "code",
   "execution_count": null,
   "metadata": {
    "extensions": {
     "jupyter_dashboards": {
      "version": 1,
      "views": {
       "grid_default": {},
       "report_default": {
        "hidden": true
       }
      }
     }
    }
   },
   "outputs": [],
   "source": []
  },
  {
   "cell_type": "code",
   "execution_count": null,
   "metadata": {
    "extensions": {
     "jupyter_dashboards": {
      "version": 1,
      "views": {
       "grid_default": {},
       "report_default": {
        "hidden": true
       }
      }
     }
    }
   },
   "outputs": [],
   "source": []
  },
  {
   "cell_type": "code",
   "execution_count": null,
   "metadata": {
    "extensions": {
     "jupyter_dashboards": {
      "version": 1,
      "views": {
       "grid_default": {},
       "report_default": {
        "hidden": true
       }
      }
     }
    }
   },
   "outputs": [],
   "source": []
  },
  {
   "cell_type": "code",
   "execution_count": null,
   "metadata": {
    "extensions": {
     "jupyter_dashboards": {
      "version": 1,
      "views": {
       "grid_default": {},
       "report_default": {
        "hidden": true
       }
      }
     }
    }
   },
   "outputs": [],
   "source": []
  },
  {
   "cell_type": "code",
   "execution_count": null,
   "metadata": {
    "extensions": {
     "jupyter_dashboards": {
      "version": 1,
      "views": {
       "grid_default": {},
       "report_default": {
        "hidden": true
       }
      }
     }
    }
   },
   "outputs": [],
   "source": []
  },
  {
   "cell_type": "code",
   "execution_count": null,
   "metadata": {
    "extensions": {
     "jupyter_dashboards": {
      "version": 1,
      "views": {
       "grid_default": {},
       "report_default": {
        "hidden": true
       }
      }
     }
    }
   },
   "outputs": [],
   "source": []
  },
  {
   "cell_type": "code",
   "execution_count": null,
   "metadata": {
    "extensions": {
     "jupyter_dashboards": {
      "version": 1,
      "views": {
       "grid_default": {},
       "report_default": {
        "hidden": true
       }
      }
     }
    }
   },
   "outputs": [],
   "source": []
  },
  {
   "cell_type": "code",
   "execution_count": null,
   "metadata": {
    "extensions": {
     "jupyter_dashboards": {
      "version": 1,
      "views": {
       "grid_default": {},
       "report_default": {
        "hidden": true
       }
      }
     }
    }
   },
   "outputs": [],
   "source": []
  },
  {
   "cell_type": "code",
   "execution_count": null,
   "metadata": {
    "extensions": {
     "jupyter_dashboards": {
      "version": 1,
      "views": {
       "grid_default": {},
       "report_default": {
        "hidden": true
       }
      }
     }
    }
   },
   "outputs": [],
   "source": []
  },
  {
   "cell_type": "markdown",
   "metadata": {
    "extensions": {
     "jupyter_dashboards": {
      "version": 1,
      "views": {
       "grid_default": {},
       "report_default": {
        "hidden": true
       }
      }
     }
    }
   },
   "source": [
    "## Other experimental Code"
   ]
  },
  {
   "cell_type": "code",
   "execution_count": 50,
   "metadata": {
    "extensions": {
     "jupyter_dashboards": {
      "version": 1,
      "views": {
       "grid_default": {
        "hidden": true
       },
       "report_default": {
        "hidden": true
       }
      }
     }
    },
    "nbpresent": {
     "id": "f0a1558b-a407-4a17-98ea-392e11aec280"
    }
   },
   "outputs": [],
   "source": [
    "def budget_ev(r,g):\n",
    "    region=budget_evolution['Region']==r\n",
    "    group=budget_evolution['Pjct Group']==g\n",
    "    if region.sum()>0 and group.sum()>0:        \n",
    "        bud_ev_sum=budget_evolution[region&group].pivot_table(index='Driving Asset',aggfunc={\n",
    "            'C0Cost':\"sum\",'Change from Allowance to Outperformace Target':\"sum\",'Var0':\"mean\",\n",
    "            \"C1Cost\":\"sum\",\"Change from Outperformace Target to G3 budget\":\"sum\",'Var1':\"mean\",\n",
    "            \"TotalPAT_Inc_Risk\":\"sum\",\"Change from G3 Budget to Actual Spend\":\"sum\",'Var2':\"mean\",\n",
    "            \"TotalActualSpend\":'sum',\"Change from Target to Actual Spend\":'sum','Var3':\"mean\"},dropna=False)\n",
    "\n",
    "\n",
    "        bud_ev_sum=bud_ev_sum[['C0Cost','Change from Allowance to Outperformace Target','Var0',\n",
    "                               'C1Cost','TotalPAT_Inc_Risk','Change from Outperformace Target to G3 budget','Var1',\n",
    "                               'TotalActualSpend','Change from G3 Budget to Actual Spend','Var2',\n",
    "                               'Change from Target to Actual Spend','Var3']].round(2)\n",
    "        \n",
    "        bud_ev_sum['Var0']=bud_ev_sum['Change from Allowance to Outperformace Target']/bud_ev_sum['C0Cost']\n",
    "        bud_ev_sum[\"Var1\"]=bud_ev_sum[\"Change from Outperformace Target to G3 budget\"]/bud_ev_sum['C1Cost']\n",
    "        bud_ev_sum[\"Var2\"]=bud_ev_sum['Change from G3 Budget to Actual Spend']/bud_ev_sum['TotalPAT_Inc_Risk']\n",
    "        bud_ev_sum[\"Var3\"]=bud_ev_sum['Change from Target to Actual Spend']/bud_ev_sum['TotalActualSpend']\n",
    "        bud_ev_sum.replace([np.inf,-np.inf],0,inplace=True)\n",
    "\n",
    "        slippage=bud_ev_sum.style.format({'C0Cost':'{:,}','C1Cost':'{:,}','Change from Allowance to Outperformace Target':'{:,}','Var0':'{:.2%}',\n",
    "                                          'TotalPAT_Inc_Risk':'{:,}','Change from Outperformace Target to G3 budget':'{:,}','Var1':\"{:.2%}\",\n",
    "                                          'TotalActualSpend':'{:,}','Change from G3 Budget to Actual Spend':'{:,}','Var2':\"{:.2%}\",\n",
    "                                          'Change from Target to Actual Spend':'{:,}','Var3':\"{:.2%}\"})\n",
    "        sheet_name=r+\"-\"+g\n",
    "        return slippage,sheet_name\n"
   ]
  },
  {
   "cell_type": "code",
   "execution_count": 51,
   "metadata": {
    "extensions": {
     "jupyter_dashboards": {
      "version": 1,
      "views": {
       "grid_default": {},
       "report_default": {
        "hidden": true
       }
      }
     }
    },
    "nbpresent": {
     "id": "60ced245-397b-4d44-951c-89e497abbed7"
    }
   },
   "outputs": [
    {
     "ename": "TypeError",
     "evalue": "'Dropdown' object is not iterable",
     "output_type": "error",
     "traceback": [
      "\u001b[0;31m---------------------------------------------------------------------------\u001b[0m",
      "\u001b[0;31mTypeError\u001b[0m                                 Traceback (most recent call last)",
      "\u001b[0;32m<ipython-input-51-874e9ea784f8>\u001b[0m in \u001b[0;36m<module>\u001b[0;34m()\u001b[0m\n\u001b[1;32m      1\u001b[0m \u001b[0mtables\u001b[0m\u001b[0;34m=\u001b[0m\u001b[0;34m[\u001b[0m\u001b[0;34m]\u001b[0m\u001b[0;34m\u001b[0m\u001b[0m\n\u001b[0;32m----> 2\u001b[0;31m \u001b[0;32mfor\u001b[0m \u001b[0mr\u001b[0m \u001b[0;32min\u001b[0m \u001b[0mregions\u001b[0m\u001b[0;34m:\u001b[0m\u001b[0;34m\u001b[0m\u001b[0m\n\u001b[0m\u001b[1;32m      3\u001b[0m     \u001b[0;32mfor\u001b[0m \u001b[0mg\u001b[0m \u001b[0;32min\u001b[0m \u001b[0mgroups\u001b[0m\u001b[0;34m:\u001b[0m\u001b[0;34m\u001b[0m\u001b[0m\n\u001b[1;32m      4\u001b[0m         \u001b[0mvalues\u001b[0m\u001b[0;34m=\u001b[0m\u001b[0mbudget_ev\u001b[0m\u001b[0;34m(\u001b[0m\u001b[0mr\u001b[0m\u001b[0;34m,\u001b[0m\u001b[0mg\u001b[0m\u001b[0;34m)\u001b[0m\u001b[0;34m\u001b[0m\u001b[0m\n\u001b[1;32m      5\u001b[0m         \u001b[0;32mif\u001b[0m \u001b[0mtype\u001b[0m\u001b[0;34m(\u001b[0m\u001b[0mvalues\u001b[0m\u001b[0;34m)\u001b[0m\u001b[0;34m==\u001b[0m\u001b[0mtuple\u001b[0m\u001b[0;34m:\u001b[0m\u001b[0;34m\u001b[0m\u001b[0m\n",
      "\u001b[0;31mTypeError\u001b[0m: 'Dropdown' object is not iterable"
     ]
    }
   ],
   "source": [
    "tables=[]\n",
    "for r in regions:\n",
    "    for g in groups:\n",
    "        values=budget_ev(r,g)\n",
    "        if type(values)==tuple:\n",
    "            tables.append((values[0],values[1]))\n",
    "\n",
    "with pd.ExcelWriter('slippage.xlsx',engine='openpyxl') as writer:  \n",
    "        for i in tables:\n",
    "            i[0].to_excel(writer, sheet_name=i[1])"
   ]
  },
  {
   "cell_type": "code",
   "execution_count": null,
   "metadata": {
    "extensions": {
     "jupyter_dashboards": {
      "version": 1,
      "views": {
       "grid_default": {},
       "report_default": {
        "hidden": true
       }
      }
     }
    },
    "nbpresent": {
     "id": "807a9841-7a80-4bd3-b5d5-bf3b796843d8"
    }
   },
   "outputs": [],
   "source": []
  },
  {
   "cell_type": "code",
   "execution_count": null,
   "metadata": {
    "extensions": {
     "jupyter_dashboards": {
      "version": 1,
      "views": {
       "grid_default": {},
       "report_default": {
        "hidden": true
       }
      }
     }
    },
    "nbpresent": {
     "id": "76417661-d9ac-4321-9550-dd629118854b"
    }
   },
   "outputs": [],
   "source": [
    "outputs=['- - Addition',\n",
    " '- - Disposal',\n",
    " '11kV CB (Primary SS) - replacement (each) - Addition',\n",
    " '11kV CB (Primary SS) - replacement (each) - Disposal',\n",
    " '11kV Pole - refurbishment (each) - Addition',\n",
    " '11kV Pole - refurbishment (each) - Disposal',\n",
    " '11kV Pole - replacement (each) - Addition',\n",
    " '11kV Pole - replacement (each) - Disposal',\n",
    " '11kV Switchgear - refurbishment (each) - Addition',\n",
    " '11kV Switchgear - refurbishment (each) - Disposal',\n",
    " '132/33kV Transformers - refurbishment (each) - Addition',\n",
    " '132/33kV Transformers - refurbishment (each) - Disposal',\n",
    " '132/33kV Transformers - replacement (each) - Addition',\n",
    " '132/33kV Transformers - replacement (each) - Disposal',\n",
    " '132kV CB  (SS) - replacement (each) - Addition',\n",
    " '132kV CB  (SS) - replacement (each) - Disposal',\n",
    " '132kV Conductor Replacement (km) - Addition',\n",
    " '132kV Conductor Replacement (km) - Disposal',\n",
    " '132kV Fittings Replacement (each) - Addition',\n",
    " '132kV Fittings Replacement (each) - Disposal',\n",
    " '132kV OHL (Pole Line) Conductor (km) - Addition',\n",
    " '132kV OHL (Pole Line) Conductor (km) - Disposal',\n",
    " '132kV Pole - refurbishment (each) - Addition',\n",
    " '132kV Pole - replacement (each) - Addition',\n",
    " '132kV Pole - replacement (each) - Disposal',\n",
    " '132kV Switchgear - Other - Addition',\n",
    " '132kV Switchgear - Other - Disposal',\n",
    " '132kV Switchgear - Other (each) - Addition',\n",
    " '132kV Switchgear - Other (each) - Disposal',\n",
    " '132kV Tower Refurbishment (each) - Addition',\n",
    " '132kV Tower Refurbishment (each) - Disposal',\n",
    " '132kV Tower Replacement (each) - Addition',\n",
    " '132kV Tower Replacement (each) - Disposal',\n",
    " '132kV UG Cable (km) - Addition',\n",
    " '132kV UG Cable (km) - Disposal',\n",
    " '132kV UG Cable (Oil) (each) - Addition',\n",
    " '33/11kV Transformers - refurbishment (each) - Addition',\n",
    " '33/11kV Transformers - replacement (each) - Addition',\n",
    " '33/11kV Transformers - replacement (each) - Disposal',\n",
    " '33kV CB  (SS) - replacement (each) - Addition',\n",
    " '33kV CB  (SS) - replacement (each) - Disposal',\n",
    " '33kV Fittings Replacement (each) - Addition',\n",
    " '33kV Fittings Replacement (each) - Disposal',\n",
    " '33kV OHL (Tower line) Conductor (km) - Addition',\n",
    " '33kV OHL (Tower line) Conductor (km) - Disposal',\n",
    " '33kV Pole - refurbishment (each) - Addition',\n",
    " '33kV Pole - refurbishment (each) - Disposal',\n",
    " '33kV Pole - replacement (each) - Addition',\n",
    " '33kV Pole - replacement (each) - Disposal',\n",
    " '33kV Switch (PM) (each) - Addition',\n",
    " '33kV Switch (PM) (each) - Disposal',\n",
    " '33kV Switchgear  - refurbishment (each) - Addition',\n",
    " '33kV Switchgear  - refurbishment (each) - Disposal',\n",
    " '33kV Switchgear - Other - Addition',\n",
    " '33kV Switchgear - Other - Disposal',\n",
    " '33kV Switchgear - Other (PM) (ABSD) - Addition',\n",
    " '33kV Switchgear - Other (PM) (ABSD) - Disposal',\n",
    " '33kV Tower Refurbishment (each) - Addition',\n",
    " '33kV Tower Refurbishment (each) - Disposal',\n",
    " '33kV Tower Replacement (each) - Addition',\n",
    " '33kV Tower Replacement (each) - Disposal',\n",
    " '33kV UG Cable (km) - Addition',\n",
    " '33kV UG Cable (km) - Disposal',\n",
    " '33kV UG Cable (Non Pressurised) (each) - Addition',\n",
    " '33kV UG Cable (Oil) (each) - Addition',\n",
    " '33kV UG Cable (Oil) (each) - Disposal',\n",
    " '6_6/11kV CB (GM) Secondary (each) - Addition',\n",
    " '6_6/11kV CB (GM) Secondary (each) - Disposal',\n",
    " '6_6/11kV CB (PM) (each) - Addition',\n",
    " '6_6/11kV CB (PM) (each) - Disposal',\n",
    " '6_6/11kV RMU (each) - Addition',\n",
    " '6_6/11kV RMU (each) - Disposal',\n",
    " '6_6/11kV Switch (GM) (each) - Addition',\n",
    " '6_6/11kV Switch (GM) (each) - Disposal',\n",
    " '6_6/11kV Switchgear - Other (PM) (ABSD) - Addition',\n",
    " '6_6/11kV Switchgear - Other (PM) (ABSD) - Disposal',\n",
    " '6_6/11kV Switchgear - Other (PM) (each) - Addition',\n",
    " '6_6/11kV Switchgear - Other (PM) (each) - Disposal',\n",
    " '6_6/11kV Transformer (GM) (each) - Addition',\n",
    " '6_6/11kV Transformer (GM) (each) - Disposal',\n",
    " '6_6/11kV Transformer (PM) (each) - Addition',\n",
    " '6_6/11kV Transformer (PM) (each) - Disposal',\n",
    " '6_6/11kV UG Cable (km) - Addition',\n",
    " '6_6/11kV UG Cable (km) - Disposal',\n",
    " '66/11kV Transformers - replacement (each) - Addition',\n",
    " '66/11kV Transformers - replacement (each) - Disposal',\n",
    " '66kV CB  (SS) - replacement (each) - Addition',\n",
    " '66kV CB  (SS) - replacement (each) - Disposal',\n",
    " '66kV Switchgear - Other (each) - Addition',\n",
    " '66kV Switchgear - Other (each) - Disposal',\n",
    " '66kV UG Cable (Gas) (each) - Addition',\n",
    " '66kV UG Cable (km) - Addition',\n",
    " '66kV UG Cable (km) - Disposal',\n",
    " 'Blackstart 132kV (sites) Protection (each) - Addition',\n",
    " 'Blackstart 132kV (sites) Protection (each) - Disposal',\n",
    " 'Blackstart 132kV (sites) SCADA (each) - Addition',\n",
    " 'Blackstart 132kV (sites) SCADA (each) - Disposal',\n",
    " 'Blackstart EHV Protection (each) - Addition',\n",
    " 'Blackstart EHV Protection (each) - Disposal',\n",
    " 'Blackstart EHV SCADA (each) - Addition',\n",
    " 'Blackstart EHV SCADA (each) - Disposal',\n",
    " 'Cable LV Main (UG Consac & Paper) - (km) - Addition',\n",
    " 'Cable LV Main (UG Consac & Paper) - (km) - Disposal',\n",
    " 'Cable LV Main (UG Plastic) (km) - Addition',\n",
    " 'Cable LV Main (UG Plastic) (km) - Disposal',\n",
    " 'Circuit Reinforcement 132kv & EHV No of Schemes - N-1 - Addition',\n",
    " 'Circuit Reinforcement 132kv & EHV No of Schemes - N-2 - Addition',\n",
    " 'Circuit Reinforcement HV (km) - Addition',\n",
    " 'Circuit Reinforcement HV (km) - Disposal',\n",
    " 'Circuit Reinforcement LV (km) - Addition',\n",
    " 'Circuit Reinforcement LV (km) - Disposal',\n",
    " 'Cut Out (Metered) (each) - Addition',\n",
    " 'Cut Out (Metered) (each) - Disposal',\n",
    " 'Distribution S/S Reinforcement No of Schemes (each) - Addition',\n",
    " 'Distribution S/S Reinforcement No of Schemes (each) - Disposal',\n",
    " 'Fault Level 11kV Primary Reinforcement No of Schemes - Addition',\n",
    " 'Fault Level EHV Reinforcement No of Schemes - Addition',\n",
    " 'LV Board (WM) (each) - Addition',\n",
    " 'LV Board (WM) (each) - Disposal',\n",
    " 'LV Cut Out (Metered) - (each) - Addition',\n",
    " 'LV Cut Out (Metered) - (each) - Disposal',\n",
    " 'LV Main (UG Paper) - (km) - Disposal',\n",
    " 'LV Main (UG Plastic) - (km) - Addition',\n",
    " 'LV Main (UG Plastic) - (km) - Disposal',\n",
    " 'LV Pillar (ID) (Each) - Addition',\n",
    " 'LV Pillar (ID) (Each) - Disposal',\n",
    " 'LV Pillar (OD at Substation) (each) - Addition',\n",
    " 'LV Pillar (OD at Substation) (each) - Disposal',\n",
    " 'LV Pole Refurbished pole (each) - Addition',\n",
    " 'LV Pole Refurbished pole (each) - Disposal',\n",
    " 'LV Rising & Lateral Mains - No_ of Mains - Addition',\n",
    " 'LV Rising & Lateral Mains - No_ of Mains - Disposal',\n",
    " 'LV Service associated with RLM - (each) - Addition',\n",
    " 'LV Service associated with RLM - (each) - Disposal',\n",
    " 'LV Service replacement (UG) (each) - Addition',\n",
    " 'LV Service replacement (UG) (each) - Disposal',\n",
    " 'LV Transformers/Regulators (each) - Disposal',\n",
    " 'LV UGB & LV Pillars (OD not at Substation) (each) - Addition',\n",
    " 'LV UGB & LV Pillars (OD not at Substation) (each) - Disposal',\n",
    " 'LV Underground service transfers (each) - Addition',\n",
    " 'LV Underground service transfers (each) - Disposal',\n",
    " 'Overhead Line BLX 11kV Conductor - replacement (km) - Addition',\n",
    " 'Overhead Line BLX 11kV Conductor - replacement (km) - Disposal',\n",
    " 'Overhead Line Conventional 11kV Conductor - replacement (km) - A',\n",
    " 'Overhead Line Conventional 11kV Conductor - replacement (km) - D',\n",
    " 'Overhead Pole Line 33kV Conductor - replacement (km) - Addition',\n",
    " 'Overhead Pole Line 33kV Conductor - replacement (km) - Disposal',\n",
    " 'Overhead Pole Line LV Main (OHL) Conductor (km) - Addition',\n",
    " 'Overhead Pole Line LV Main (OHL) Conductor (km) - Disposal',\n",
    " 'Overhead Pole Line LV Poles - replacement (each) - Addition',\n",
    " 'Overhead Pole Line LV Poles - replacement (each) - Disposal',\n",
    " 'Overhead Pole Line LV Service (OHL) (each) - Addition',\n",
    " 'Overhead Pole Line LV Service (OHL) (each) - Disposal',\n",
    " 'S/S Reinforcement No of Schemes - N-1 (each) - Addition',\n",
    " 'S/S Reinforcement No of Schemes - N-2 (each) - Addition',\n",
    " 'Substation Flood Mitigation (132kv) (sites) (each) - Addition',\n",
    " 'Substation Flood Mitigation (EHV) (sites) (each) - Addition',\n",
    " 'Substation Flood Mitigation (EHV) (sites) (each) - Disposal',\n",
    " 'Substation RTUs, marshalling kiosks, receivers - Addition',\n",
    " 'Substation RTUs, marshalling kiosks, receivers - Disposal',\n",
    " 'Tree Cutting ENATS 43-8 132kv (span) - Addition',\n",
    " 'Tree Cutting ENATS 43-8 132kv (span) - Disposal',\n",
    " 'Tree Cutting ENATS 43-8 EHV (span) - Addition',\n",
    " 'Tree Cutting ENATS 43-8 EHV (span) - Disposal',\n",
    " 'Tree Cutting ENATS 43-8 HV (span) - Addition',\n",
    " 'Tree Cutting ENATS 43-8 HV (span) - Disposal',\n",
    " 'Tree Cutting ENATS 43-8 LV (span) - Addition',\n",
    " 'Tree Cutting ENATS 43-8 LV (span) - Disposal']"
   ]
  },
  {
   "cell_type": "code",
   "execution_count": null,
   "metadata": {
    "extensions": {
     "jupyter_dashboards": {
      "version": 1,
      "views": {
       "grid_default": {},
       "report_default": {
        "hidden": true
       }
      }
     }
    },
    "nbpresent": {
     "id": "d5f2c824-f860-4bf3-95ae-2c73808d7d30"
    }
   },
   "outputs": [],
   "source": [
    "mask=rrd['FirstYearOfConstruction']>=2016\n",
    "mask2=rrd['FirstYearOfConstruction']<=2023\n",
    "outputs_summary=rrd[mask&mask2].pivot_table(index=['FirstYearOfConstruction'],values=outputs,aggfunc=\"sum\",dropna=True).round(2).transpose()"
   ]
  },
  {
   "cell_type": "code",
   "execution_count": null,
   "metadata": {
    "extensions": {
     "jupyter_dashboards": {
      "version": 1,
      "views": {
       "grid_default": {},
       "report_default": {
        "hidden": true
       }
      }
     }
    },
    "nbpresent": {
     "id": "c65e7bf2-d735-4cc9-9ca9-f048622dd42e"
    }
   },
   "outputs": [],
   "source": [
    "outputs_summary.replace(0.0,np.nan,inplace=True)\n",
    "outputs_summary.style.format('{:,}',na_rep='-')"
   ]
  },
  {
   "cell_type": "code",
   "execution_count": null,
   "metadata": {
    "extensions": {
     "jupyter_dashboards": {
      "version": 1,
      "views": {
       "grid_default": {},
       "report_default": {
        "hidden": true
       }
      }
     }
    },
    "nbpresent": {
     "id": "acef4604-9cca-4673-b2d8-4f13827c460d"
    }
   },
   "outputs": [],
   "source": []
  },
  {
   "cell_type": "code",
   "execution_count": null,
   "metadata": {
    "extensions": {
     "jupyter_dashboards": {
      "version": 1,
      "views": {
       "grid_default": {},
       "report_default": {
        "hidden": true
       }
      }
     }
    },
    "nbpresent": {
     "id": "14fa95ac-e2ae-4ca0-b4e0-dbbbcfcd8be6"
    }
   },
   "outputs": [],
   "source": []
  },
  {
   "cell_type": "code",
   "execution_count": null,
   "metadata": {
    "extensions": {
     "jupyter_dashboards": {
      "version": 1,
      "views": {
       "grid_default": {},
       "report_default": {
        "hidden": true
       }
      }
     }
    },
    "nbpresent": {
     "id": "f096edf9-6b7d-45a2-a74a-cf0aae7d0524"
    }
   },
   "outputs": [],
   "source": []
  },
  {
   "cell_type": "code",
   "execution_count": null,
   "metadata": {
    "extensions": {
     "jupyter_dashboards": {
      "version": 1,
      "views": {
       "grid_default": {},
       "report_default": {
        "hidden": true
       }
      }
     }
    },
    "nbpresent": {
     "id": "dfc989ec-89bf-46a3-99b6-e0f57bb946c2"
    }
   },
   "outputs": [],
   "source": []
  },
  {
   "cell_type": "code",
   "execution_count": null,
   "metadata": {
    "extensions": {
     "jupyter_dashboards": {
      "version": 1,
      "views": {
       "grid_default": {},
       "report_default": {
        "hidden": true
       }
      }
     }
    },
    "nbpresent": {
     "id": "b36a9cd7-f253-4bd1-89cd-7da64df5977d"
    }
   },
   "outputs": [],
   "source": [
    "PS001173_summary=rrd.loc['PS001173','C0Cost':'Forecasted Total Outturn'].to_frame().style.format('{:,}')"
   ]
  },
  {
   "cell_type": "code",
   "execution_count": null,
   "metadata": {
    "extensions": {
     "jupyter_dashboards": {
      "version": 1,
      "views": {
       "grid_default": {},
       "report_default": {
        "hidden": true
       }
      }
     }
    },
    "nbpresent": {
     "id": "9d3dd925-8760-4e67-880e-e115b7a4abad"
    }
   },
   "outputs": [],
   "source": [
    "budget_evolution.head()"
   ]
  },
  {
   "cell_type": "code",
   "execution_count": null,
   "metadata": {
    "extensions": {
     "jupyter_dashboards": {
      "version": 1,
      "views": {
       "grid_default": {},
       "report_default": {
        "hidden": true
       }
      }
     }
    },
    "nbpresent": {
     "id": "e75ee831-4d94-4958-8e40-4fba9b887a04"
    }
   },
   "outputs": [],
   "source": []
  },
  {
   "cell_type": "code",
   "execution_count": null,
   "metadata": {
    "extensions": {
     "jupyter_dashboards": {
      "version": 1,
      "views": {
       "grid_default": {},
       "report_default": {
        "hidden": true
       }
      }
     }
    },
    "nbpresent": {
     "id": "5653ab6d-fb00-402b-9ebf-6beedfacbce8"
    }
   },
   "outputs": [],
   "source": []
  },
  {
   "cell_type": "code",
   "execution_count": null,
   "metadata": {
    "extensions": {
     "jupyter_dashboards": {
      "version": 1,
      "views": {
       "grid_default": {},
       "report_default": {
        "hidden": true
       }
      }
     }
    },
    "nbpresent": {
     "id": "5a8a927c-e90f-4170-8f46-f78a54057f50"
    }
   },
   "outputs": [],
   "source": []
  },
  {
   "cell_type": "code",
   "execution_count": null,
   "metadata": {
    "extensions": {
     "jupyter_dashboards": {
      "version": 1,
      "views": {
       "grid_default": {},
       "report_default": {
        "hidden": true
       }
      }
     }
    },
    "nbpresent": {
     "id": "6715ff9e-88f5-427a-b75e-a1a0ea3d520c"
    }
   },
   "outputs": [],
   "source": [
    "def f(m, b):\n",
    "    plt.figure(2)\n",
    "    x = np.linspace(-10, 10, num=1000)\n",
    "    plt.plot(x, m * x + b)\n",
    "    plt.ylim(-5, 5)\n",
    "    plt.show()\n",
    "\n",
    "interactive_plot = interactive(f, m=(-2.0, 2.0), b=(-3, 3, 0.5))\n",
    "output = interactive_plot.children[-1]\n",
    "output.layout.height = '350px'\n",
    "interactive_plot"
   ]
  },
  {
   "cell_type": "code",
   "execution_count": null,
   "metadata": {
    "extensions": {
     "jupyter_dashboards": {
      "version": 1,
      "views": {
       "grid_default": {},
       "report_default": {
        "hidden": true
       }
      }
     }
    },
    "nbpresent": {
     "id": "6595d2b0-e0a3-433b-b1df-f26e1faf12c3"
    }
   },
   "outputs": [],
   "source": []
  }
 ],
 "metadata": {
  "extensions": {
   "jupyter_dashboards": {
    "activeView": "report_default",
    "version": 1,
    "views": {
     "grid_default": {
      "name": "grid",
      "type": "grid"
     },
     "report_default": {
      "name": "report",
      "type": "report"
     }
    }
   }
  },
  "kernelspec": {
   "display_name": "Python 3",
   "language": "python",
   "name": "python3"
  },
  "language_info": {
   "codemirror_mode": {
    "name": "ipython",
    "version": 3
   },
   "file_extension": ".py",
   "mimetype": "text/x-python",
   "name": "python",
   "nbconvert_exporter": "python",
   "pygments_lexer": "ipython3",
   "version": "3.7.0"
  },
  "widgets": {
   "application/vnd.jupyter.widget-state+json": {
    "state": {
     "01140df0a0904c2c8eb76d8a90c95f03": {
      "model_module": "@jupyter-widgets/output",
      "model_module_version": "1.0.0",
      "model_name": "OutputModel",
      "state": {
       "layout": "IPY_MODEL_31e50e9d8953494c9cc2b0f44b227b45",
       "outputs": [
        {
         "data": {
          "image/png": "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\n",
          "text/plain": "<Figure size 750x750 with 2 Axes>"
         },
         "metadata": {},
         "output_type": "display_data"
        }
       ]
      }
     },
     "02cb4a6778214a7ba5888a00cde12dd5": {
      "model_module": "@jupyter-widgets/controls",
      "model_module_version": "1.5.0",
      "model_name": "VBoxModel",
      "state": {
       "_dom_classes": [
        "widget-interact"
       ],
       "children": [
        "IPY_MODEL_8230d3586b2643168a3c5a4364de101d",
        "IPY_MODEL_7914f6e00b67409f90e319fbf3b00125",
        "IPY_MODEL_abc1742133ae47b5bfaf5305e69a86b4",
        "IPY_MODEL_153ef029d4964ed98797bf1429c8f9b2",
        "IPY_MODEL_ffa382d0bbaf4dbb9d85841f7fbaa3ed"
       ],
       "layout": "IPY_MODEL_e69cc6481c36479cbf2a4708c040a89f"
      }
     },
     "06f781c63885488e8e0a474b23d6d9a4": {
      "model_module": "@jupyter-widgets/controls",
      "model_module_version": "1.5.0",
      "model_name": "DropdownModel",
      "state": {
       "_options_labels": [
        "All",
        "SEPD South East",
        "SEPD Wessex",
        "SEPD Ridgeway",
        "SEPD Thames Valley",
        "SEPD Major Projects",
        "SEPD Central",
        "Multiple"
       ],
       "description": "Region:",
       "index": 0,
       "layout": "IPY_MODEL_7dd39b52212d4ebc98ac680646379d3b",
       "style": "IPY_MODEL_71a29a11f407462ca49f666f50fc4cc2"
      }
     },
     "07aa407e1621442cb6477a6bd7d72ebd": {
      "model_module": "@jupyter-widgets/controls",
      "model_module_version": "1.5.0",
      "model_name": "DropdownModel",
      "state": {
       "_options_labels": [
        "Pre-Execution",
        "Execution",
        "Closed/Completed"
       ],
       "description": "Project Stage:",
       "index": 2,
       "layout": "IPY_MODEL_897df73496564f02979bbdf72060fa81",
       "style": "IPY_MODEL_310de8e398f84a948efdf02f6f332833"
      }
     },
     "0a6518f594f94acabd62f169bec53be8": {
      "model_module": "@jupyter-widgets/controls",
      "model_module_version": "1.5.0",
      "model_name": "IntRangeSliderModel",
      "state": {
       "_model_name": "IntRangeSliderModel",
       "_view_name": "IntRangeSliderView",
       "continuous_update": false,
       "description": "First Year:",
       "layout": "IPY_MODEL_f5f2ba03a522474f967e2b9395a6f3c2",
       "max": 2023,
       "min": 2016,
       "style": "IPY_MODEL_6bb9830484bb49b38e5be34d39a68ca1",
       "value": [
        2016,
        2020
       ]
      }
     },
     "153ef029d4964ed98797bf1429c8f9b2": {
      "model_module": "@jupyter-widgets/controls",
      "model_module_version": "1.5.0",
      "model_name": "DropdownModel",
      "state": {
       "_options_labels": [
        "Pre-Execution",
        "Execution",
        "Closed/Completed"
       ],
       "description": "Project Stage:",
       "index": 2,
       "layout": "IPY_MODEL_981ba3a8b2ae4023b24c8852404af708",
       "style": "IPY_MODEL_6706f694e270474ba3dfa4938052d9b7"
      }
     },
     "158b0bc37c1d49d48730b1124c4c895b": {
      "model_module": "@jupyter-widgets/controls",
      "model_module_version": "1.5.0",
      "model_name": "DescriptionStyleModel",
      "state": {
       "description_width": ""
      }
     },
     "176c9246265643ac8ad17a2d4aee1222": {
      "model_module": "@jupyter-widgets/output",
      "model_module_version": "1.0.0",
      "model_name": "OutputModel",
      "state": {
       "layout": "IPY_MODEL_fc656fadab4e426f8814255587d25340",
       "outputs": [
        {
         "data": {
          "image/png": "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\n",
          "text/plain": "<Figure size 750x750 with 15 Axes>"
         },
         "metadata": {},
         "output_type": "display_data"
        }
       ]
      }
     },
     "1a6a14157dde4dfd9225451e46a45f9f": {
      "model_module": "@jupyter-widgets/controls",
      "model_module_version": "1.5.0",
      "model_name": "DropdownModel",
      "state": {
       "_options_labels": [
        "All",
        "SEPD South East",
        "SEPD Wessex",
        "SEPD Ridgeway",
        "SEPD Thames Valley",
        "SEPD Major Projects",
        "SEPD Central",
        "Multiple"
       ],
       "description": "Region:",
       "index": 0,
       "layout": "IPY_MODEL_bf2485dab91d454fa5d1d95075cabed1",
       "style": "IPY_MODEL_a6b9f2966a3747ffa5914a116545677a"
      }
     },
     "1aceb1d3e35244e2a280b7cd9d67f2ac": {
      "model_module": "@jupyter-widgets/base",
      "model_module_version": "1.2.0",
      "model_name": "LayoutModel",
      "state": {}
     },
     "1f087795714247a7a6a56340e878e0ba": {
      "model_module": "@jupyter-widgets/controls",
      "model_module_version": "1.5.0",
      "model_name": "DropdownModel",
      "state": {
       "_options_labels": [
        "All",
        "<£1M",
        "<£2.5M",
        "<£10M",
        "£10M+"
       ],
       "description": "Group:",
       "index": 0,
       "layout": "IPY_MODEL_cb6bf5973a8c42a6ba365c6cdbb1d018",
       "style": "IPY_MODEL_3f13b169c0a54e09985eda111706489b"
      }
     },
     "20c835513cfe4b45a622912f259f9a9f": {
      "model_module": "@jupyter-widgets/base",
      "model_module_version": "1.2.0",
      "model_name": "LayoutModel",
      "state": {}
     },
     "215ad47780a647239b3eb1bebd8f165f": {
      "model_module": "@jupyter-widgets/output",
      "model_module_version": "1.0.0",
      "model_name": "OutputModel",
      "state": {
       "layout": "IPY_MODEL_9ea556c238af421fa40b1b751375aae7",
       "outputs": [
        {
         "data": {
          "image/png": "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\n",
          "text/plain": "<Figure size 600x450 with 1 Axes>"
         },
         "metadata": {},
         "output_type": "display_data"
        },
        {
         "data": {
          "text/html": "<style  type=\"text/css\" >\n    #T_9adf2412_d353_11ea_8086_10ddb19df918row0_col3 {\n            background-color:  #3f7f93;\n            color:  #000000;\n        }    #T_9adf2412_d353_11ea_8086_10ddb19df918row0_col4 {\n            background-color:  #3f7f93;\n            color:  #000000;\n        }    #T_9adf2412_d353_11ea_8086_10ddb19df918row0_col6 {\n            background-color:  #c3553a;\n            color:  #000000;\n        }    #T_9adf2412_d353_11ea_8086_10ddb19df918row0_col7 {\n            background-color:  #be593a;\n            color:  #000000;\n        }    #T_9adf2412_d353_11ea_8086_10ddb19df918row0_col9 {\n            background-color:  #3f7f93;\n            color:  #000000;\n        }    #T_9adf2412_d353_11ea_8086_10ddb19df918row0_col10 {\n            background-color:  #be593a;\n            color:  #000000;\n        }    #T_9adf2412_d353_11ea_8086_10ddb19df918row0_col11 {\n            background-color:  #c3553a;\n            color:  #000000;\n        }    #T_9adf2412_d353_11ea_8086_10ddb19df918row0_col12 {\n            background-color:  #be593a;\n            color:  #000000;\n        }    #T_9adf2412_d353_11ea_8086_10ddb19df918row1_col3 {\n            background-color:  #e7bcb1;\n            color:  #000000;\n        }    #T_9adf2412_d353_11ea_8086_10ddb19df918row1_col4 {\n            background-color:  #c3d9df;\n            color:  #000000;\n        }    #T_9adf2412_d353_11ea_8086_10ddb19df918row1_col6 {\n            background-color:  #7ca8b6;\n            color:  #000000;\n        }    #T_9adf2412_d353_11ea_8086_10ddb19df918row1_col7 {\n            background-color:  #c2d8df;\n            color:  #000000;\n        }    #T_9adf2412_d353_11ea_8086_10ddb19df918row1_col9 {\n            background-color:  #c3553a;\n            color:  #000000;\n        }    #T_9adf2412_d353_11ea_8086_10ddb19df918row1_col10 {\n            background-color:  #c87258;\n            color:  #000000;\n        }    #T_9adf2412_d353_11ea_8086_10ddb19df918row1_col11 {\n            background-color:  #8cb3bf;\n            color:  #000000;\n        }    #T_9adf2412_d353_11ea_8086_10ddb19df918row1_col12 {\n            background-color:  #d69581;\n            color:  #000000;\n        }    #T_9adf2412_d353_11ea_8086_10ddb19df918row2_col3 {\n            background-color:  #c3553a;\n            color:  #000000;\n        }    #T_9adf2412_d353_11ea_8086_10ddb19df918row2_col4 {\n            background-color:  #be593a;\n            color:  #000000;\n        }    #T_9adf2412_d353_11ea_8086_10ddb19df918row2_col6 {\n            background-color:  #3f7f93;\n            color:  #000000;\n        }    #T_9adf2412_d353_11ea_8086_10ddb19df918row2_col7 {\n            background-color:  #3f7f93;\n            color:  #000000;\n        }    #T_9adf2412_d353_11ea_8086_10ddb19df918row2_col9 {\n            background-color:  #c45a3f;\n            color:  #000000;\n        }    #T_9adf2412_d353_11ea_8086_10ddb19df918row2_col10 {\n            background-color:  #3f7f93;\n            color:  #000000;\n        }    #T_9adf2412_d353_11ea_8086_10ddb19df918row2_col11 {\n            background-color:  #3f7f93;\n            color:  #000000;\n        }    #T_9adf2412_d353_11ea_8086_10ddb19df918row2_col12 {\n            background-color:  #3f7f93;\n            color:  #000000;\n        }</style><table id=\"T_9adf2412_d353_11ea_8086_10ddb19df918\" ><thead>    <tr>        <th class=\"blank level0\" ></th>        <th class=\"col_heading level0 col0\" >RRD ID</th>        <th class=\"col_heading level0 col1\" >1-Allowance</th>        <th class=\"col_heading level0 col2\" >2-Outperformance Target (G3)</th>        <th class=\"col_heading level0 col3\" >Change from Allowance to Outperformace Target</th>        <th class=\"col_heading level0 col4\" >Var0</th>        <th class=\"col_heading level0 col5\" >3-Budget(G4)</th>        <th class=\"col_heading level0 col6\" >Change from Outperformace Target to G3 budget</th>        <th class=\"col_heading level0 col7\" >Var1</th>        <th class=\"col_heading level0 col8\" >4-Spent</th>        <th class=\"col_heading level0 col9\" >Change from G3 Budget to Actual Spend</th>        <th class=\"col_heading level0 col10\" >Var2</th>        <th class=\"col_heading level0 col11\" >Change from Target to Actual Spend</th>        <th class=\"col_heading level0 col12\" >Var3</th>    </tr>    <tr>        <th class=\"index_name level0\" >Pjct Group</th>        <th class=\"blank\" ></th>        <th class=\"blank\" ></th>        <th class=\"blank\" ></th>        <th class=\"blank\" ></th>        <th class=\"blank\" ></th>        <th class=\"blank\" ></th>        <th class=\"blank\" ></th>        <th class=\"blank\" ></th>        <th class=\"blank\" ></th>        <th class=\"blank\" ></th>        <th class=\"blank\" ></th>        <th class=\"blank\" ></th>        <th class=\"blank\" ></th>    </tr></thead><tbody>\n                <tr>\n                        <th id=\"T_9adf2412_d353_11ea_8086_10ddb19df918level0_row0\" class=\"row_heading level0 row0\" ><£1M</th>\n                        <td id=\"T_9adf2412_d353_11ea_8086_10ddb19df918row0_col0\" class=\"data row0 col0\" >116</td>\n                        <td id=\"T_9adf2412_d353_11ea_8086_10ddb19df918row0_col1\" class=\"data row0 col1\" >25,128,248.74</td>\n                        <td id=\"T_9adf2412_d353_11ea_8086_10ddb19df918row0_col2\" class=\"data row0 col2\" >17,642,713.96</td>\n                        <td id=\"T_9adf2412_d353_11ea_8086_10ddb19df918row0_col3\" class=\"data row0 col3\" >-7,485,534.78</td>\n                        <td id=\"T_9adf2412_d353_11ea_8086_10ddb19df918row0_col4\" class=\"data row0 col4\" >-29.79%</td>\n                        <td id=\"T_9adf2412_d353_11ea_8086_10ddb19df918row0_col5\" class=\"data row0 col5\" >29,585,807.09</td>\n                        <td id=\"T_9adf2412_d353_11ea_8086_10ddb19df918row0_col6\" class=\"data row0 col6\" >11,943,093.13</td>\n                        <td id=\"T_9adf2412_d353_11ea_8086_10ddb19df918row0_col7\" class=\"data row0 col7\" >67.69%</td>\n                        <td id=\"T_9adf2412_d353_11ea_8086_10ddb19df918row0_col8\" class=\"data row0 col8\" >24,397,081.48</td>\n                        <td id=\"T_9adf2412_d353_11ea_8086_10ddb19df918row0_col9\" class=\"data row0 col9\" >-5,188,725.61</td>\n                        <td id=\"T_9adf2412_d353_11ea_8086_10ddb19df918row0_col10\" class=\"data row0 col10\" >-17.54%</td>\n                        <td id=\"T_9adf2412_d353_11ea_8086_10ddb19df918row0_col11\" class=\"data row0 col11\" >6,754,367.52</td>\n                        <td id=\"T_9adf2412_d353_11ea_8086_10ddb19df918row0_col12\" class=\"data row0 col12\" >27.69%</td>\n            </tr>\n            <tr>\n                        <th id=\"T_9adf2412_d353_11ea_8086_10ddb19df918level0_row1\" class=\"row_heading level0 row1\" ><£2.5M</th>\n                        <td id=\"T_9adf2412_d353_11ea_8086_10ddb19df918row1_col0\" class=\"data row1 col0\" >7</td>\n                        <td id=\"T_9adf2412_d353_11ea_8086_10ddb19df918row1_col1\" class=\"data row1 col1\" >12,674,120.0</td>\n                        <td id=\"T_9adf2412_d353_11ea_8086_10ddb19df918row1_col2\" class=\"data row1 col2\" >10,877,620.0</td>\n                        <td id=\"T_9adf2412_d353_11ea_8086_10ddb19df918row1_col3\" class=\"data row1 col3\" >-1,796,500.0</td>\n                        <td id=\"T_9adf2412_d353_11ea_8086_10ddb19df918row1_col4\" class=\"data row1 col4\" >-14.17%</td>\n                        <td id=\"T_9adf2412_d353_11ea_8086_10ddb19df918row1_col5\" class=\"data row1 col5\" >11,380,109.0</td>\n                        <td id=\"T_9adf2412_d353_11ea_8086_10ddb19df918row1_col6\" class=\"data row1 col6\" >502,489.0</td>\n                        <td id=\"T_9adf2412_d353_11ea_8086_10ddb19df918row1_col7\" class=\"data row1 col7\" >4.62%</td>\n                        <td id=\"T_9adf2412_d353_11ea_8086_10ddb19df918row1_col8\" class=\"data row1 col8\" >9,022,195.7</td>\n                        <td id=\"T_9adf2412_d353_11ea_8086_10ddb19df918row1_col9\" class=\"data row1 col9\" >-2,357,913.3</td>\n                        <td id=\"T_9adf2412_d353_11ea_8086_10ddb19df918row1_col10\" class=\"data row1 col10\" >-20.72%</td>\n                        <td id=\"T_9adf2412_d353_11ea_8086_10ddb19df918row1_col11\" class=\"data row1 col11\" >-1,855,424.3</td>\n                        <td id=\"T_9adf2412_d353_11ea_8086_10ddb19df918row1_col12\" class=\"data row1 col12\" >-20.57%</td>\n            </tr>\n            <tr>\n                        <th id=\"T_9adf2412_d353_11ea_8086_10ddb19df918level0_row2\" class=\"row_heading level0 row2\" ><£10M</th>\n                        <td id=\"T_9adf2412_d353_11ea_8086_10ddb19df918row2_col0\" class=\"data row2 col0\" >1</td>\n                        <td id=\"T_9adf2412_d353_11ea_8086_10ddb19df918row2_col1\" class=\"data row2 col1\" >5,117,500.0</td>\n                        <td id=\"T_9adf2412_d353_11ea_8086_10ddb19df918row2_col2\" class=\"data row2 col2\" >5,866,000.0</td>\n                        <td id=\"T_9adf2412_d353_11ea_8086_10ddb19df918row2_col3\" class=\"data row2 col3\" >748,500.0</td>\n                        <td id=\"T_9adf2412_d353_11ea_8086_10ddb19df918row2_col4\" class=\"data row2 col4\" >14.63%</td>\n                        <td id=\"T_9adf2412_d353_11ea_8086_10ddb19df918row2_col5\" class=\"data row2 col5\" >4,180,000.0</td>\n                        <td id=\"T_9adf2412_d353_11ea_8086_10ddb19df918row2_col6\" class=\"data row2 col6\" >-1,686,000.0</td>\n                        <td id=\"T_9adf2412_d353_11ea_8086_10ddb19df918row2_col7\" class=\"data row2 col7\" >-28.74%</td>\n                        <td id=\"T_9adf2412_d353_11ea_8086_10ddb19df918row2_col8\" class=\"data row2 col8\" >1,768,486.2</td>\n                        <td id=\"T_9adf2412_d353_11ea_8086_10ddb19df918row2_col9\" class=\"data row2 col9\" >-2,411,513.8</td>\n                        <td id=\"T_9adf2412_d353_11ea_8086_10ddb19df918row2_col10\" class=\"data row2 col10\" >-57.69%</td>\n                        <td id=\"T_9adf2412_d353_11ea_8086_10ddb19df918row2_col11\" class=\"data row2 col11\" >-4,097,513.8</td>\n                        <td id=\"T_9adf2412_d353_11ea_8086_10ddb19df918row2_col12\" class=\"data row2 col12\" >-231.70%</td>\n            </tr>\n    </tbody></table>",
          "text/plain": "<pandas.io.formats.style.Styler at 0x7ff60fb13b00>"
         },
         "metadata": {},
         "output_type": "display_data"
        }
       ]
      }
     },
     "21b32835210542fa813346ada6abafc2": {
      "model_module": "@jupyter-widgets/controls",
      "model_module_version": "1.5.0",
      "model_name": "DescriptionStyleModel",
      "state": {
       "description_width": ""
      }
     },
     "22fefe6b461e4875af50a48ba46ccc85": {
      "model_module": "@jupyter-widgets/base",
      "model_module_version": "1.2.0",
      "model_name": "LayoutModel",
      "state": {}
     },
     "25197afd79774ff4baaafbe17e2b784c": {
      "model_module": "@jupyter-widgets/controls",
      "model_module_version": "1.5.0",
      "model_name": "DescriptionStyleModel",
      "state": {
       "description_width": ""
      }
     },
     "29669d921158488183b166e9fcf0fd74": {
      "model_module": "@jupyter-widgets/controls",
      "model_module_version": "1.5.0",
      "model_name": "SliderStyleModel",
      "state": {
       "description_width": ""
      }
     },
     "299383caf4f04d25affdb553213cf00d": {
      "model_module": "@jupyter-widgets/controls",
      "model_module_version": "1.5.0",
      "model_name": "DropdownModel",
      "state": {
       "_options_labels": [
        "All",
        "<£1M",
        "<£2.5M",
        "<£10M",
        "£10M+"
       ],
       "description": "Group:",
       "index": 0,
       "layout": "IPY_MODEL_97cbf1c75ba44dd9872904c75206d1b6",
       "style": "IPY_MODEL_2ab413edd860419691b0897cb5da77c6"
      }
     },
     "2a9070b70eb54dcfb5de4b4e8a8908f9": {
      "model_module": "@jupyter-widgets/base",
      "model_module_version": "1.2.0",
      "model_name": "LayoutModel",
      "state": {}
     },
     "2ab413edd860419691b0897cb5da77c6": {
      "model_module": "@jupyter-widgets/controls",
      "model_module_version": "1.5.0",
      "model_name": "DescriptionStyleModel",
      "state": {
       "description_width": ""
      }
     },
     "310de8e398f84a948efdf02f6f332833": {
      "model_module": "@jupyter-widgets/controls",
      "model_module_version": "1.5.0",
      "model_name": "DescriptionStyleModel",
      "state": {
       "description_width": ""
      }
     },
     "31e50e9d8953494c9cc2b0f44b227b45": {
      "model_module": "@jupyter-widgets/base",
      "model_module_version": "1.2.0",
      "model_name": "LayoutModel",
      "state": {}
     },
     "3271e937a03f4b2898794e482111ffb7": {
      "model_module": "@jupyter-widgets/controls",
      "model_module_version": "1.5.0",
      "model_name": "DropdownModel",
      "state": {
       "_options_labels": [
        "All",
        "SEPD South East",
        "SEPD Wessex",
        "SEPD Ridgeway",
        "SEPD Thames Valley",
        "SEPD Major Projects",
        "SEPD Central",
        "Multiple"
       ],
       "description": "Region:",
       "index": 0,
       "layout": "IPY_MODEL_cf4e75f1e29c48f4a40d218fc6b9f502",
       "style": "IPY_MODEL_f50539d4123a4285bf7a2d908c35b915"
      }
     },
     "3dff1ad4ac5443c3825e666e0ab5cec0": {
      "model_module": "@jupyter-widgets/base",
      "model_module_version": "1.2.0",
      "model_name": "LayoutModel",
      "state": {}
     },
     "3f13b169c0a54e09985eda111706489b": {
      "model_module": "@jupyter-widgets/controls",
      "model_module_version": "1.5.0",
      "model_name": "DescriptionStyleModel",
      "state": {
       "description_width": ""
      }
     },
     "3f97ce21d0b94bb288d9cdb4f794fac6": {
      "model_module": "@jupyter-widgets/controls",
      "model_module_version": "1.5.0",
      "model_name": "DescriptionStyleModel",
      "state": {
       "description_width": ""
      }
     },
     "4253334e13c34a56b88d2d20fd9edf16": {
      "model_module": "@jupyter-widgets/controls",
      "model_module_version": "1.5.0",
      "model_name": "IntRangeSliderModel",
      "state": {
       "_model_name": "IntRangeSliderModel",
       "_view_name": "IntRangeSliderView",
       "continuous_update": false,
       "description": "First Year:",
       "layout": "IPY_MODEL_1aceb1d3e35244e2a280b7cd9d67f2ac",
       "max": 2023,
       "min": 2016,
       "style": "IPY_MODEL_7b0e9989149840a9b109208daa4e2f54",
       "value": [
        2016,
        2020
       ]
      }
     },
     "4319c165416345f69d026b9fbb223a13": {
      "model_module": "@jupyter-widgets/base",
      "model_module_version": "1.2.0",
      "model_name": "LayoutModel",
      "state": {}
     },
     "447a60fb576841adbffc832e06552535": {
      "model_module": "@jupyter-widgets/base",
      "model_module_version": "1.2.0",
      "model_name": "LayoutModel",
      "state": {}
     },
     "476404b407944be18a4a8c6ba9ca1b69": {
      "model_module": "@jupyter-widgets/controls",
      "model_module_version": "1.5.0",
      "model_name": "DescriptionStyleModel",
      "state": {
       "description_width": ""
      }
     },
     "47eae41bf97c4a5e882155d180121d86": {
      "model_module": "@jupyter-widgets/base",
      "model_module_version": "1.2.0",
      "model_name": "LayoutModel",
      "state": {}
     },
     "4f1f7cfc7a334dc7846b1c307efd345d": {
      "model_module": "@jupyter-widgets/controls",
      "model_module_version": "1.5.0",
      "model_name": "DropdownModel",
      "state": {
       "_options_labels": [
        "All",
        "<£1M",
        "<£2.5M",
        "<£10M",
        "£10M+"
       ],
       "description": "Group:",
       "index": 0,
       "layout": "IPY_MODEL_447a60fb576841adbffc832e06552535",
       "style": "IPY_MODEL_25197afd79774ff4baaafbe17e2b784c"
      }
     },
     "526d64e2b2da48b3a893b35a0f2e9577": {
      "model_module": "@jupyter-widgets/controls",
      "model_module_version": "1.5.0",
      "model_name": "DescriptionStyleModel",
      "state": {
       "description_width": ""
      }
     },
     "5eaaadbd9ee0464f9b4e4e23850aeb27": {
      "model_module": "@jupyter-widgets/base",
      "model_module_version": "1.2.0",
      "model_name": "LayoutModel",
      "state": {}
     },
     "643852ac681e4f44a874138674021ec7": {
      "model_module": "@jupyter-widgets/base",
      "model_module_version": "1.2.0",
      "model_name": "LayoutModel",
      "state": {}
     },
     "647231ab9aa845958bf7336f61aed3db": {
      "model_module": "@jupyter-widgets/base",
      "model_module_version": "1.2.0",
      "model_name": "LayoutModel",
      "state": {}
     },
     "64ff29c2bffc4ced984060fc5f59adf6": {
      "model_module": "@jupyter-widgets/controls",
      "model_module_version": "1.5.0",
      "model_name": "DescriptionStyleModel",
      "state": {
       "description_width": ""
      }
     },
     "6530b26457bc456bab0cfd9e67d9f764": {
      "model_module": "@jupyter-widgets/controls",
      "model_module_version": "1.5.0",
      "model_name": "DescriptionStyleModel",
      "state": {
       "description_width": ""
      }
     },
     "6706f694e270474ba3dfa4938052d9b7": {
      "model_module": "@jupyter-widgets/controls",
      "model_module_version": "1.5.0",
      "model_name": "DescriptionStyleModel",
      "state": {
       "description_width": ""
      }
     },
     "6a391d910bd6465ea6edc97c33a6813e": {
      "model_module": "@jupyter-widgets/controls",
      "model_module_version": "1.5.0",
      "model_name": "DropdownModel",
      "state": {
       "_options_labels": [
        "Cable LV Main",
        "6_6/11kV Transformer",
        "6_6/11kV RMU",
        "6_6/11kV CB",
        "6_6/11kV UG Cable",
        "Circuit Reinforcement HV",
        "11kV CB",
        "132kV Conductor Replacement",
        "11kV Pole",
        "132kV Tower Refurbishment",
        "Substation Flood Mitigation",
        "33kV UG Cable",
        "132kV UG Cable",
        "6_6/11kV Switch",
        "6_6/11kV Switchgear",
        "132kV Fittings Replacement",
        "Circuit Reinforcement 132kv & EHV No of Schemes",
        "33kV Pole",
        "Substation RTUs, marshalling kiosks, receivers",
        "S/S Reinforcement No of Schemes",
        "33kV CB",
        "33/11kV Transformers",
        "132kV CB",
        "132/33kV Transformers",
        "132kV Switchgear",
        "33kV Switchgear",
        "LV Service replacement",
        "Circuit Reinforcement LV",
        "Overhead Line Conventional 11kV Conductor",
        "LV Cut Out",
        "Fault Level 11kV Primary Reinforcement No of Schemes",
        "Blackstart EHV Protection",
        "11kV Switchgear",
        "Overhead Pole Line LV Main",
        "LV UGB & LV Pillars",
        "LV Pillar",
        "Tree Cutting ENATS 43-8 132kv",
        "66kV UG Cable",
        "LV Pole Refurbished pole",
        "66/11kV Transformers",
        "33kV Fittings Replacement",
        "Blackstart 132kV",
        "33kV Switch"
       ],
       "description": "Asset",
       "index": 0,
       "layout": "IPY_MODEL_a22f294d33b140d78c8da461bc17a4ff",
       "style": "IPY_MODEL_526d64e2b2da48b3a893b35a0f2e9577"
      }
     },
     "6ae23f641a7748d3ac16cb924f40120a": {
      "model_module": "@jupyter-widgets/base",
      "model_module_version": "1.2.0",
      "model_name": "LayoutModel",
      "state": {}
     },
     "6bb9830484bb49b38e5be34d39a68ca1": {
      "model_module": "@jupyter-widgets/controls",
      "model_module_version": "1.5.0",
      "model_name": "SliderStyleModel",
      "state": {
       "description_width": ""
      }
     },
     "6ca4a8cede824f62b1ad4a540a1c608a": {
      "model_module": "@jupyter-widgets/output",
      "model_module_version": "1.0.0",
      "model_name": "OutputModel",
      "state": {
       "layout": "IPY_MODEL_9d86bbaaa6ca4a2c8dc5939e8582f428",
       "outputs": [
        {
         "data": {
          "image/png": "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\n",
          "text/plain": "<Figure size 600x450 with 1 Axes>"
         },
         "metadata": {},
         "output_type": "display_data"
        },
        {
         "data": {
          "text/html": "<style  type=\"text/css\" >\n    #T_9fe6d9c8_d353_11ea_8086_10ddb19df918row0_col11 {\n            background-color:  #ffa500;\n            color:  #000000;\n        }    #T_9fe6d9c8_d353_11ea_8086_10ddb19df918row1_col11 {\n            background-color:  #ffaa0e;\n            color:  #000000;\n        }    #T_9fe6d9c8_d353_11ea_8086_10ddb19df918row2_col11 {\n            background-color:  #ffaf1b;\n            color:  #000000;\n        }    #T_9fe6d9c8_d353_11ea_8086_10ddb19df918row3_col11 {\n            background-color:  #ffc356;\n            color:  #000000;\n        }    #T_9fe6d9c8_d353_11ea_8086_10ddb19df918row4_col11 {\n            background-color:  #ffd587;\n            color:  #000000;\n        }    #T_9fe6d9c8_d353_11ea_8086_10ddb19df918row5_col11 {\n            background-color:  #ffd890;\n            color:  #000000;\n        }    #T_9fe6d9c8_d353_11ea_8086_10ddb19df918row6_col11 {\n            background-color:  #ffd994;\n            color:  #000000;\n        }    #T_9fe6d9c8_d353_11ea_8086_10ddb19df918row7_col11 {\n            background-color:  #ffda95;\n            color:  #000000;\n        }    #T_9fe6d9c8_d353_11ea_8086_10ddb19df918row8_col11 {\n            background-color:  #ffdc9d;\n            color:  #000000;\n        }    #T_9fe6d9c8_d353_11ea_8086_10ddb19df918row9_col11 {\n            background-color:  #ffdd9f;\n            color:  #000000;\n        }    #T_9fe6d9c8_d353_11ea_8086_10ddb19df918row10_col11 {\n            background-color:  #ffdea2;\n            color:  #000000;\n        }    #T_9fe6d9c8_d353_11ea_8086_10ddb19df918row11_col11 {\n            background-color:  #ffe2ad;\n            color:  #000000;\n        }    #T_9fe6d9c8_d353_11ea_8086_10ddb19df918row12_col11 {\n            background-color:  #ffe6b8;\n            color:  #000000;\n        }    #T_9fe6d9c8_d353_11ea_8086_10ddb19df918row13_col11 {\n            background-color:  #ffe6b9;\n            color:  #000000;\n        }    #T_9fe6d9c8_d353_11ea_8086_10ddb19df918row14_col11 {\n            background-color:  #ffe7bb;\n            color:  #000000;\n        }    #T_9fe6d9c8_d353_11ea_8086_10ddb19df918row15_col11 {\n            background-color:  #ffe8bd;\n            color:  #000000;\n        }    #T_9fe6d9c8_d353_11ea_8086_10ddb19df918row16_col11 {\n            background-color:  #ffe8be;\n            color:  #000000;\n        }    #T_9fe6d9c8_d353_11ea_8086_10ddb19df918row17_col11 {\n            background-color:  #ffe8be;\n            color:  #000000;\n        }    #T_9fe6d9c8_d353_11ea_8086_10ddb19df918row18_col11 {\n            background-color:  #ffe8be;\n            color:  #000000;\n        }    #T_9fe6d9c8_d353_11ea_8086_10ddb19df918row19_col11 {\n            background-color:  #ffe9c1;\n            color:  #000000;\n        }    #T_9fe6d9c8_d353_11ea_8086_10ddb19df918row20_col11 {\n            background-color:  #ffe9c2;\n            color:  #000000;\n        }    #T_9fe6d9c8_d353_11ea_8086_10ddb19df918row21_col11 {\n            background-color:  #ffe9c2;\n            color:  #000000;\n        }    #T_9fe6d9c8_d353_11ea_8086_10ddb19df918row22_col11 {\n            background-color:  #ffeac2;\n            color:  #000000;\n        }    #T_9fe6d9c8_d353_11ea_8086_10ddb19df918row23_col11 {\n            background-color:  #ffeac3;\n            color:  #000000;\n        }    #T_9fe6d9c8_d353_11ea_8086_10ddb19df918row24_col11 {\n            background-color:  #ffebc7;\n            color:  #000000;\n        }    #T_9fe6d9c8_d353_11ea_8086_10ddb19df918row25_col11 {\n            background-color:  #ffecc8;\n            color:  #000000;\n        }    #T_9fe6d9c8_d353_11ea_8086_10ddb19df918row26_col11 {\n            background-color:  #ffecc9;\n            color:  #000000;\n        }    #T_9fe6d9c8_d353_11ea_8086_10ddb19df918row27_col11 {\n            background-color:  #ffecc9;\n            color:  #000000;\n        }    #T_9fe6d9c8_d353_11ea_8086_10ddb19df918row28_col11 {\n            background-color:  #ffecca;\n            color:  #000000;\n        }    #T_9fe6d9c8_d353_11ea_8086_10ddb19df918row29_col11 {\n            background-color:  #ffecca;\n            color:  #000000;\n        }    #T_9fe6d9c8_d353_11ea_8086_10ddb19df918row30_col11 {\n            background-color:  #ffedcc;\n            color:  #000000;\n        }    #T_9fe6d9c8_d353_11ea_8086_10ddb19df918row31_col11 {\n            background-color:  #ffeecf;\n            color:  #000000;\n        }    #T_9fe6d9c8_d353_11ea_8086_10ddb19df918row32_col11 {\n            background-color:  #ffeed0;\n            color:  #000000;\n        }    #T_9fe6d9c8_d353_11ea_8086_10ddb19df918row33_col11 {\n            background-color:  #ffefd3;\n            color:  #000000;\n        }    #T_9fe6d9c8_d353_11ea_8086_10ddb19df918row34_col11 {\n            background-color:  #ffefd3;\n            color:  #000000;\n        }    #T_9fe6d9c8_d353_11ea_8086_10ddb19df918row35_col11 {\n            background-color:  #fff3dc;\n            color:  #000000;\n        }    #T_9fe6d9c8_d353_11ea_8086_10ddb19df918row36_col11 {\n            background-color:  #fff3dd;\n            color:  #000000;\n        }    #T_9fe6d9c8_d353_11ea_8086_10ddb19df918row37_col11 {\n            background-color:  #fff6e5;\n            color:  #000000;\n        }</style><table id=\"T_9fe6d9c8_d353_11ea_8086_10ddb19df918\" ><thead>    <tr>        <th class=\"blank level0\" ></th>        <th class=\"col_heading level0 col0\" >FirstYearOfConstruction</th>        <th class=\"col_heading level0 col1\" >C0Cost</th>        <th class=\"col_heading level0 col2\" >Change from Allowance to Outperformace Target</th>        <th class=\"col_heading level0 col3\" >Var0</th>        <th class=\"col_heading level0 col4\" >C1Cost</th>        <th class=\"col_heading level0 col5\" >Change from Outperformace Target to G3 budget</th>        <th class=\"col_heading level0 col6\" >Var1</th>        <th class=\"col_heading level0 col7\" >TotalPAT_Inc_Risk</th>        <th class=\"col_heading level0 col8\" >Change from G3 Budget to Actual Spend</th>        <th class=\"col_heading level0 col9\" >Var2</th>        <th class=\"col_heading level0 col10\" >TotalActualSpend</th>        <th class=\"col_heading level0 col11\" >Change from Target to Actual Spend</th>        <th class=\"col_heading level0 col12\" >Var3</th>    </tr>    <tr>        <th class=\"index_name level0\" >RRD ID</th>        <th class=\"blank\" ></th>        <th class=\"blank\" ></th>        <th class=\"blank\" ></th>        <th class=\"blank\" ></th>        <th class=\"blank\" ></th>        <th class=\"blank\" ></th>        <th class=\"blank\" ></th>        <th class=\"blank\" ></th>        <th class=\"blank\" ></th>        <th class=\"blank\" ></th>        <th class=\"blank\" ></th>        <th class=\"blank\" ></th>        <th class=\"blank\" ></th>    </tr></thead><tbody>\n                <tr>\n                        <th id=\"T_9fe6d9c8_d353_11ea_8086_10ddb19df918level0_row0\" class=\"row_heading level0 row0\" >3173</th>\n                        <td id=\"T_9fe6d9c8_d353_11ea_8086_10ddb19df918row0_col0\" class=\"data row0 col0\" >2018</td>\n                        <td id=\"T_9fe6d9c8_d353_11ea_8086_10ddb19df918row0_col1\" class=\"data row0 col1\" >233,908.28</td>\n                        <td id=\"T_9fe6d9c8_d353_11ea_8086_10ddb19df918row0_col2\" class=\"data row0 col2\" >-44,449.78</td>\n                        <td id=\"T_9fe6d9c8_d353_11ea_8086_10ddb19df918row0_col3\" class=\"data row0 col3\" >-19.00%</td>\n                        <td id=\"T_9fe6d9c8_d353_11ea_8086_10ddb19df918row0_col4\" class=\"data row0 col4\" >189,458.5</td>\n                        <td id=\"T_9fe6d9c8_d353_11ea_8086_10ddb19df918row0_col5\" class=\"data row0 col5\" >552,035.5</td>\n                        <td id=\"T_9fe6d9c8_d353_11ea_8086_10ddb19df918row0_col6\" class=\"data row0 col6\" >291.00%</td>\n                        <td id=\"T_9fe6d9c8_d353_11ea_8086_10ddb19df918row0_col7\" class=\"data row0 col7\" >741,494.0</td>\n                        <td id=\"T_9fe6d9c8_d353_11ea_8086_10ddb19df918row0_col8\" class=\"data row0 col8\" >74,410.38</td>\n                        <td id=\"T_9fe6d9c8_d353_11ea_8086_10ddb19df918row0_col9\" class=\"data row0 col9\" >10.00%</td>\n                        <td id=\"T_9fe6d9c8_d353_11ea_8086_10ddb19df918row0_col10\" class=\"data row0 col10\" >815,904.38</td>\n                        <td id=\"T_9fe6d9c8_d353_11ea_8086_10ddb19df918row0_col11\" class=\"data row0 col11\" >626,445.88</td>\n                        <td id=\"T_9fe6d9c8_d353_11ea_8086_10ddb19df918row0_col12\" class=\"data row0 col12\" >331.00%</td>\n            </tr>\n            <tr>\n                        <th id=\"T_9fe6d9c8_d353_11ea_8086_10ddb19df918level0_row1\" class=\"row_heading level0 row1\" >3212</th>\n                        <td id=\"T_9fe6d9c8_d353_11ea_8086_10ddb19df918row1_col0\" class=\"data row1 col0\" >2018</td>\n                        <td id=\"T_9fe6d9c8_d353_11ea_8086_10ddb19df918row1_col1\" class=\"data row1 col1\" >428,861.0</td>\n                        <td id=\"T_9fe6d9c8_d353_11ea_8086_10ddb19df918row1_col2\" class=\"data row1 col2\" >-81,360.0</td>\n                        <td id=\"T_9fe6d9c8_d353_11ea_8086_10ddb19df918row1_col3\" class=\"data row1 col3\" >-19.00%</td>\n                        <td id=\"T_9fe6d9c8_d353_11ea_8086_10ddb19df918row1_col4\" class=\"data row1 col4\" >347,501.0</td>\n                        <td id=\"T_9fe6d9c8_d353_11ea_8086_10ddb19df918row1_col5\" class=\"data row1 col5\" >624,258.0</td>\n                        <td id=\"T_9fe6d9c8_d353_11ea_8086_10ddb19df918row1_col6\" class=\"data row1 col6\" >180.00%</td>\n                        <td id=\"T_9fe6d9c8_d353_11ea_8086_10ddb19df918row1_col7\" class=\"data row1 col7\" >971,759.0</td>\n                        <td id=\"T_9fe6d9c8_d353_11ea_8086_10ddb19df918row1_col8\" class=\"data row1 col8\" >-43,941.73</td>\n                        <td id=\"T_9fe6d9c8_d353_11ea_8086_10ddb19df918row1_col9\" class=\"data row1 col9\" >-5.00%</td>\n                        <td id=\"T_9fe6d9c8_d353_11ea_8086_10ddb19df918row1_col10\" class=\"data row1 col10\" >927,817.27</td>\n                        <td id=\"T_9fe6d9c8_d353_11ea_8086_10ddb19df918row1_col11\" class=\"data row1 col11\" >580,316.27</td>\n                        <td id=\"T_9fe6d9c8_d353_11ea_8086_10ddb19df918row1_col12\" class=\"data row1 col12\" >167.00%</td>\n            </tr>\n            <tr>\n                        <th id=\"T_9fe6d9c8_d353_11ea_8086_10ddb19df918level0_row2\" class=\"row_heading level0 row2\" >3237</th>\n                        <td id=\"T_9fe6d9c8_d353_11ea_8086_10ddb19df918row2_col0\" class=\"data row2 col0\" >2018</td>\n                        <td id=\"T_9fe6d9c8_d353_11ea_8086_10ddb19df918row2_col1\" class=\"data row2 col1\" >318,469.5</td>\n                        <td id=\"T_9fe6d9c8_d353_11ea_8086_10ddb19df918row2_col2\" class=\"data row2 col2\" >-41,539.5</td>\n                        <td id=\"T_9fe6d9c8_d353_11ea_8086_10ddb19df918row2_col3\" class=\"data row2 col3\" >-13.00%</td>\n                        <td id=\"T_9fe6d9c8_d353_11ea_8086_10ddb19df918row2_col4\" class=\"data row2 col4\" >276,930.0</td>\n                        <td id=\"T_9fe6d9c8_d353_11ea_8086_10ddb19df918row2_col5\" class=\"data row2 col5\" >569,260.0</td>\n                        <td id=\"T_9fe6d9c8_d353_11ea_8086_10ddb19df918row2_col6\" class=\"data row2 col6\" >206.00%</td>\n                        <td id=\"T_9fe6d9c8_d353_11ea_8086_10ddb19df918row2_col7\" class=\"data row2 col7\" >846,190.0</td>\n                        <td id=\"T_9fe6d9c8_d353_11ea_8086_10ddb19df918row2_col8\" class=\"data row2 col8\" >-25,997.49</td>\n                        <td id=\"T_9fe6d9c8_d353_11ea_8086_10ddb19df918row2_col9\" class=\"data row2 col9\" >-3.00%</td>\n                        <td id=\"T_9fe6d9c8_d353_11ea_8086_10ddb19df918row2_col10\" class=\"data row2 col10\" >820,192.51</td>\n                        <td id=\"T_9fe6d9c8_d353_11ea_8086_10ddb19df918row2_col11\" class=\"data row2 col11\" >543,262.51</td>\n                        <td id=\"T_9fe6d9c8_d353_11ea_8086_10ddb19df918row2_col12\" class=\"data row2 col12\" >196.00%</td>\n            </tr>\n            <tr>\n                        <th id=\"T_9fe6d9c8_d353_11ea_8086_10ddb19df918level0_row3\" class=\"row_heading level0 row3\" >4882</th>\n                        <td id=\"T_9fe6d9c8_d353_11ea_8086_10ddb19df918row3_col0\" class=\"data row3 col0\" >2019</td>\n                        <td id=\"T_9fe6d9c8_d353_11ea_8086_10ddb19df918row3_col1\" class=\"data row3 col1\" >229,250.0</td>\n                        <td id=\"T_9fe6d9c8_d353_11ea_8086_10ddb19df918row3_col2\" class=\"data row3 col2\" >-19,470.0</td>\n                        <td id=\"T_9fe6d9c8_d353_11ea_8086_10ddb19df918row3_col3\" class=\"data row3 col3\" >-8.00%</td>\n                        <td id=\"T_9fe6d9c8_d353_11ea_8086_10ddb19df918row3_col4\" class=\"data row3 col4\" >209,780.0</td>\n                        <td id=\"T_9fe6d9c8_d353_11ea_8086_10ddb19df918row3_col5\" class=\"data row3 col5\" >364,211.0</td>\n                        <td id=\"T_9fe6d9c8_d353_11ea_8086_10ddb19df918row3_col6\" class=\"data row3 col6\" >174.00%</td>\n                        <td id=\"T_9fe6d9c8_d353_11ea_8086_10ddb19df918row3_col7\" class=\"data row3 col7\" >573,991.0</td>\n                        <td id=\"T_9fe6d9c8_d353_11ea_8086_10ddb19df918row3_col8\" class=\"data row3 col8\" >-2,050.0</td>\n                        <td id=\"T_9fe6d9c8_d353_11ea_8086_10ddb19df918row3_col9\" class=\"data row3 col9\" >-0.00%</td>\n                        <td id=\"T_9fe6d9c8_d353_11ea_8086_10ddb19df918row3_col10\" class=\"data row3 col10\" >571,941.0</td>\n                        <td id=\"T_9fe6d9c8_d353_11ea_8086_10ddb19df918row3_col11\" class=\"data row3 col11\" >362,161.0</td>\n                        <td id=\"T_9fe6d9c8_d353_11ea_8086_10ddb19df918row3_col12\" class=\"data row3 col12\" >173.00%</td>\n            </tr>\n            <tr>\n                        <th id=\"T_9fe6d9c8_d353_11ea_8086_10ddb19df918level0_row4\" class=\"row_heading level0 row4\" >4865</th>\n                        <td id=\"T_9fe6d9c8_d353_11ea_8086_10ddb19df918row4_col0\" class=\"data row4 col0\" >2019</td>\n                        <td id=\"T_9fe6d9c8_d353_11ea_8086_10ddb19df918row4_col1\" class=\"data row4 col1\" >112,130.0</td>\n                        <td id=\"T_9fe6d9c8_d353_11ea_8086_10ddb19df918row4_col2\" class=\"data row4 col2\" >-10,305.0</td>\n                        <td id=\"T_9fe6d9c8_d353_11ea_8086_10ddb19df918row4_col3\" class=\"data row4 col3\" >-9.00%</td>\n                        <td id=\"T_9fe6d9c8_d353_11ea_8086_10ddb19df918row4_col4\" class=\"data row4 col4\" >101,825.0</td>\n                        <td id=\"T_9fe6d9c8_d353_11ea_8086_10ddb19df918row4_col5\" class=\"data row4 col5\" >213,792.0</td>\n                        <td id=\"T_9fe6d9c8_d353_11ea_8086_10ddb19df918row4_col6\" class=\"data row4 col6\" >210.00%</td>\n                        <td id=\"T_9fe6d9c8_d353_11ea_8086_10ddb19df918row4_col7\" class=\"data row4 col7\" >315,617.0</td>\n                        <td id=\"T_9fe6d9c8_d353_11ea_8086_10ddb19df918row4_col8\" class=\"data row4 col8\" >-2,786.76</td>\n                        <td id=\"T_9fe6d9c8_d353_11ea_8086_10ddb19df918row4_col9\" class=\"data row4 col9\" >-1.00%</td>\n                        <td id=\"T_9fe6d9c8_d353_11ea_8086_10ddb19df918row4_col10\" class=\"data row4 col10\" >312,830.24</td>\n                        <td id=\"T_9fe6d9c8_d353_11ea_8086_10ddb19df918row4_col11\" class=\"data row4 col11\" >211,005.24</td>\n                        <td id=\"T_9fe6d9c8_d353_11ea_8086_10ddb19df918row4_col12\" class=\"data row4 col12\" >207.00%</td>\n            </tr>\n            <tr>\n                        <th id=\"T_9fe6d9c8_d353_11ea_8086_10ddb19df918level0_row5\" class=\"row_heading level0 row5\" >3239</th>\n                        <td id=\"T_9fe6d9c8_d353_11ea_8086_10ddb19df918row5_col0\" class=\"data row5 col0\" >2018</td>\n                        <td id=\"T_9fe6d9c8_d353_11ea_8086_10ddb19df918row5_col1\" class=\"data row5 col1\" >144,624.0</td>\n                        <td id=\"T_9fe6d9c8_d353_11ea_8086_10ddb19df918row5_col2\" class=\"data row5 col2\" >-18,864.0</td>\n                        <td id=\"T_9fe6d9c8_d353_11ea_8086_10ddb19df918row5_col3\" class=\"data row5 col3\" >-13.00%</td>\n                        <td id=\"T_9fe6d9c8_d353_11ea_8086_10ddb19df918row5_col4\" class=\"data row5 col4\" >125,760.0</td>\n                        <td id=\"T_9fe6d9c8_d353_11ea_8086_10ddb19df918row5_col5\" class=\"data row5 col5\" >179,506.0</td>\n                        <td id=\"T_9fe6d9c8_d353_11ea_8086_10ddb19df918row5_col6\" class=\"data row5 col6\" >143.00%</td>\n                        <td id=\"T_9fe6d9c8_d353_11ea_8086_10ddb19df918row5_col7\" class=\"data row5 col7\" >305,266.0</td>\n                        <td id=\"T_9fe6d9c8_d353_11ea_8086_10ddb19df918row5_col8\" class=\"data row5 col8\" >3,754.16</td>\n                        <td id=\"T_9fe6d9c8_d353_11ea_8086_10ddb19df918row5_col9\" class=\"data row5 col9\" >1.00%</td>\n                        <td id=\"T_9fe6d9c8_d353_11ea_8086_10ddb19df918row5_col10\" class=\"data row5 col10\" >309,020.16</td>\n                        <td id=\"T_9fe6d9c8_d353_11ea_8086_10ddb19df918row5_col11\" class=\"data row5 col11\" >183,260.16</td>\n                        <td id=\"T_9fe6d9c8_d353_11ea_8086_10ddb19df918row5_col12\" class=\"data row5 col12\" >146.00%</td>\n            </tr>\n            <tr>\n                        <th id=\"T_9fe6d9c8_d353_11ea_8086_10ddb19df918level0_row6\" class=\"row_heading level0 row6\" >3236</th>\n                        <td id=\"T_9fe6d9c8_d353_11ea_8086_10ddb19df918row6_col0\" class=\"data row6 col0\" >2018</td>\n                        <td id=\"T_9fe6d9c8_d353_11ea_8086_10ddb19df918row6_col1\" class=\"data row6 col1\" >153,283.5</td>\n                        <td id=\"T_9fe6d9c8_d353_11ea_8086_10ddb19df918row6_col2\" class=\"data row6 col2\" >-19,993.5</td>\n                        <td id=\"T_9fe6d9c8_d353_11ea_8086_10ddb19df918row6_col3\" class=\"data row6 col3\" >-13.00%</td>\n                        <td id=\"T_9fe6d9c8_d353_11ea_8086_10ddb19df918row6_col4\" class=\"data row6 col4\" >133,290.0</td>\n                        <td id=\"T_9fe6d9c8_d353_11ea_8086_10ddb19df918row6_col5\" class=\"data row6 col5\" >206,159.0</td>\n                        <td id=\"T_9fe6d9c8_d353_11ea_8086_10ddb19df918row6_col6\" class=\"data row6 col6\" >155.00%</td>\n                        <td id=\"T_9fe6d9c8_d353_11ea_8086_10ddb19df918row6_col7\" class=\"data row6 col7\" >339,449.0</td>\n                        <td id=\"T_9fe6d9c8_d353_11ea_8086_10ddb19df918row6_col8\" class=\"data row6 col8\" >-38,687.68</td>\n                        <td id=\"T_9fe6d9c8_d353_11ea_8086_10ddb19df918row6_col9\" class=\"data row6 col9\" >-11.00%</td>\n                        <td id=\"T_9fe6d9c8_d353_11ea_8086_10ddb19df918row6_col10\" class=\"data row6 col10\" >300,761.32</td>\n                        <td id=\"T_9fe6d9c8_d353_11ea_8086_10ddb19df918row6_col11\" class=\"data row6 col11\" >167,471.32</td>\n                        <td id=\"T_9fe6d9c8_d353_11ea_8086_10ddb19df918row6_col12\" class=\"data row6 col12\" >126.00%</td>\n            </tr>\n            <tr>\n                        <th id=\"T_9fe6d9c8_d353_11ea_8086_10ddb19df918level0_row7\" class=\"row_heading level0 row7\" >5580</th>\n                        <td id=\"T_9fe6d9c8_d353_11ea_8086_10ddb19df918row7_col0\" class=\"data row7 col0\" >2019</td>\n                        <td id=\"T_9fe6d9c8_d353_11ea_8086_10ddb19df918row7_col1\" class=\"data row7 col1\" >515,639.0</td>\n                        <td id=\"T_9fe6d9c8_d353_11ea_8086_10ddb19df918row7_col2\" class=\"data row7 col2\" >-99,581.0</td>\n                        <td id=\"T_9fe6d9c8_d353_11ea_8086_10ddb19df918row7_col3\" class=\"data row7 col3\" >-19.00%</td>\n                        <td id=\"T_9fe6d9c8_d353_11ea_8086_10ddb19df918row7_col4\" class=\"data row7 col4\" >416,058.0</td>\n                        <td id=\"T_9fe6d9c8_d353_11ea_8086_10ddb19df918row7_col5\" class=\"data row7 col5\" >175,437.0</td>\n                        <td id=\"T_9fe6d9c8_d353_11ea_8086_10ddb19df918row7_col6\" class=\"data row7 col6\" >42.00%</td>\n                        <td id=\"T_9fe6d9c8_d353_11ea_8086_10ddb19df918row7_col7\" class=\"data row7 col7\" >591,495.0</td>\n                        <td id=\"T_9fe6d9c8_d353_11ea_8086_10ddb19df918row7_col8\" class=\"data row7 col8\" >-10,818.31</td>\n                        <td id=\"T_9fe6d9c8_d353_11ea_8086_10ddb19df918row7_col9\" class=\"data row7 col9\" >-2.00%</td>\n                        <td id=\"T_9fe6d9c8_d353_11ea_8086_10ddb19df918row7_col10\" class=\"data row7 col10\" >580,676.69</td>\n                        <td id=\"T_9fe6d9c8_d353_11ea_8086_10ddb19df918row7_col11\" class=\"data row7 col11\" >164,618.69</td>\n                        <td id=\"T_9fe6d9c8_d353_11ea_8086_10ddb19df918row7_col12\" class=\"data row7 col12\" >40.00%</td>\n            </tr>\n            <tr>\n                        <th id=\"T_9fe6d9c8_d353_11ea_8086_10ddb19df918level0_row8\" class=\"row_heading level0 row8\" >4881</th>\n                        <td id=\"T_9fe6d9c8_d353_11ea_8086_10ddb19df918row8_col0\" class=\"data row8 col0\" >2020</td>\n                        <td id=\"T_9fe6d9c8_d353_11ea_8086_10ddb19df918row8_col1\" class=\"data row8 col1\" >95,265.0</td>\n                        <td id=\"T_9fe6d9c8_d353_11ea_8086_10ddb19df918row8_col2\" class=\"data row8 col2\" >-18,102.0</td>\n                        <td id=\"T_9fe6d9c8_d353_11ea_8086_10ddb19df918row8_col3\" class=\"data row8 col3\" >-19.00%</td>\n                        <td id=\"T_9fe6d9c8_d353_11ea_8086_10ddb19df918row8_col4\" class=\"data row8 col4\" >77,163.0</td>\n                        <td id=\"T_9fe6d9c8_d353_11ea_8086_10ddb19df918row8_col5\" class=\"data row8 col5\" >777,937.0</td>\n                        <td id=\"T_9fe6d9c8_d353_11ea_8086_10ddb19df918row8_col6\" class=\"data row8 col6\" >1008.00%</td>\n                        <td id=\"T_9fe6d9c8_d353_11ea_8086_10ddb19df918row8_col7\" class=\"data row8 col7\" >855,100.0</td>\n                        <td id=\"T_9fe6d9c8_d353_11ea_8086_10ddb19df918row8_col8\" class=\"data row8 col8\" >-634,458.0</td>\n                        <td id=\"T_9fe6d9c8_d353_11ea_8086_10ddb19df918row8_col9\" class=\"data row8 col9\" >-74.00%</td>\n                        <td id=\"T_9fe6d9c8_d353_11ea_8086_10ddb19df918row8_col10\" class=\"data row8 col10\" >220,642.0</td>\n                        <td id=\"T_9fe6d9c8_d353_11ea_8086_10ddb19df918row8_col11\" class=\"data row8 col11\" >143,479.0</td>\n                        <td id=\"T_9fe6d9c8_d353_11ea_8086_10ddb19df918row8_col12\" class=\"data row8 col12\" >186.00%</td>\n            </tr>\n            <tr>\n                        <th id=\"T_9fe6d9c8_d353_11ea_8086_10ddb19df918level0_row9\" class=\"row_heading level0 row9\" >3217</th>\n                        <td id=\"T_9fe6d9c8_d353_11ea_8086_10ddb19df918row9_col0\" class=\"data row9 col0\" >2018</td>\n                        <td id=\"T_9fe6d9c8_d353_11ea_8086_10ddb19df918row9_col1\" class=\"data row9 col1\" >94,586.0</td>\n                        <td id=\"T_9fe6d9c8_d353_11ea_8086_10ddb19df918row9_col2\" class=\"data row9 col2\" >-15,375.0</td>\n                        <td id=\"T_9fe6d9c8_d353_11ea_8086_10ddb19df918row9_col3\" class=\"data row9 col3\" >-16.00%</td>\n                        <td id=\"T_9fe6d9c8_d353_11ea_8086_10ddb19df918row9_col4\" class=\"data row9 col4\" >79,211.0</td>\n                        <td id=\"T_9fe6d9c8_d353_11ea_8086_10ddb19df918row9_col5\" class=\"data row9 col5\" >202,587.0</td>\n                        <td id=\"T_9fe6d9c8_d353_11ea_8086_10ddb19df918row9_col6\" class=\"data row9 col6\" >256.00%</td>\n                        <td id=\"T_9fe6d9c8_d353_11ea_8086_10ddb19df918row9_col7\" class=\"data row9 col7\" >281,798.0</td>\n                        <td id=\"T_9fe6d9c8_d353_11ea_8086_10ddb19df918row9_col8\" class=\"data row9 col8\" >-66,384.22</td>\n                        <td id=\"T_9fe6d9c8_d353_11ea_8086_10ddb19df918row9_col9\" class=\"data row9 col9\" >-24.00%</td>\n                        <td id=\"T_9fe6d9c8_d353_11ea_8086_10ddb19df918row9_col10\" class=\"data row9 col10\" >215,413.78</td>\n                        <td id=\"T_9fe6d9c8_d353_11ea_8086_10ddb19df918row9_col11\" class=\"data row9 col11\" >136,202.78</td>\n                        <td id=\"T_9fe6d9c8_d353_11ea_8086_10ddb19df918row9_col12\" class=\"data row9 col12\" >172.00%</td>\n            </tr>\n            <tr>\n                        <th id=\"T_9fe6d9c8_d353_11ea_8086_10ddb19df918level0_row10\" class=\"row_heading level0 row10\" >3181</th>\n                        <td id=\"T_9fe6d9c8_d353_11ea_8086_10ddb19df918row10_col0\" class=\"data row10 col0\" >2019</td>\n                        <td id=\"T_9fe6d9c8_d353_11ea_8086_10ddb19df918row10_col1\" class=\"data row10 col1\" >200,030.0</td>\n                        <td id=\"T_9fe6d9c8_d353_11ea_8086_10ddb19df918row10_col2\" class=\"data row10 col2\" >-40,010.0</td>\n                        <td id=\"T_9fe6d9c8_d353_11ea_8086_10ddb19df918row10_col3\" class=\"data row10 col3\" >-20.00%</td>\n                        <td id=\"T_9fe6d9c8_d353_11ea_8086_10ddb19df918row10_col4\" class=\"data row10 col4\" >160,020.0</td>\n                        <td id=\"T_9fe6d9c8_d353_11ea_8086_10ddb19df918row10_col5\" class=\"data row10 col5\" >102,260.0</td>\n                        <td id=\"T_9fe6d9c8_d353_11ea_8086_10ddb19df918row10_col6\" class=\"data row10 col6\" >64.00%</td>\n                        <td id=\"T_9fe6d9c8_d353_11ea_8086_10ddb19df918row10_col7\" class=\"data row10 col7\" >262,280.0</td>\n                        <td id=\"T_9fe6d9c8_d353_11ea_8086_10ddb19df918row10_col8\" class=\"data row10 col8\" >24,211.45</td>\n                        <td id=\"T_9fe6d9c8_d353_11ea_8086_10ddb19df918row10_col9\" class=\"data row10 col9\" >9.00%</td>\n                        <td id=\"T_9fe6d9c8_d353_11ea_8086_10ddb19df918row10_col10\" class=\"data row10 col10\" >286,491.45</td>\n                        <td id=\"T_9fe6d9c8_d353_11ea_8086_10ddb19df918row10_col11\" class=\"data row10 col11\" >126,471.45</td>\n                        <td id=\"T_9fe6d9c8_d353_11ea_8086_10ddb19df918row10_col12\" class=\"data row10 col12\" >79.00%</td>\n            </tr>\n            <tr>\n                        <th id=\"T_9fe6d9c8_d353_11ea_8086_10ddb19df918level0_row11\" class=\"row_heading level0 row11\" >5569</th>\n                        <td id=\"T_9fe6d9c8_d353_11ea_8086_10ddb19df918row11_col0\" class=\"data row11 col0\" >2018</td>\n                        <td id=\"T_9fe6d9c8_d353_11ea_8086_10ddb19df918row11_col1\" class=\"data row11 col1\" >158,487.0</td>\n                        <td id=\"T_9fe6d9c8_d353_11ea_8086_10ddb19df918row11_col2\" class=\"data row11 col2\" >-34,095.0</td>\n                        <td id=\"T_9fe6d9c8_d353_11ea_8086_10ddb19df918row11_col3\" class=\"data row11 col3\" >-22.00%</td>\n                        <td id=\"T_9fe6d9c8_d353_11ea_8086_10ddb19df918row11_col4\" class=\"data row11 col4\" >124,392.0</td>\n                        <td id=\"T_9fe6d9c8_d353_11ea_8086_10ddb19df918row11_col5\" class=\"data row11 col5\" >79,776.0</td>\n                        <td id=\"T_9fe6d9c8_d353_11ea_8086_10ddb19df918row11_col6\" class=\"data row11 col6\" >64.00%</td>\n                        <td id=\"T_9fe6d9c8_d353_11ea_8086_10ddb19df918row11_col7\" class=\"data row11 col7\" >204,168.0</td>\n                        <td id=\"T_9fe6d9c8_d353_11ea_8086_10ddb19df918row11_col8\" class=\"data row11 col8\" >13,096.78</td>\n                        <td id=\"T_9fe6d9c8_d353_11ea_8086_10ddb19df918row11_col9\" class=\"data row11 col9\" >6.00%</td>\n                        <td id=\"T_9fe6d9c8_d353_11ea_8086_10ddb19df918row11_col10\" class=\"data row11 col10\" >217,264.78</td>\n                        <td id=\"T_9fe6d9c8_d353_11ea_8086_10ddb19df918row11_col11\" class=\"data row11 col11\" >92,872.78</td>\n                        <td id=\"T_9fe6d9c8_d353_11ea_8086_10ddb19df918row11_col12\" class=\"data row11 col12\" >75.00%</td>\n            </tr>\n            <tr>\n                        <th id=\"T_9fe6d9c8_d353_11ea_8086_10ddb19df918level0_row12\" class=\"row_heading level0 row12\" >4854</th>\n                        <td id=\"T_9fe6d9c8_d353_11ea_8086_10ddb19df918row12_col0\" class=\"data row12 col0\" >2018</td>\n                        <td id=\"T_9fe6d9c8_d353_11ea_8086_10ddb19df918row12_col1\" class=\"data row12 col1\" >82,675.0</td>\n                        <td id=\"T_9fe6d9c8_d353_11ea_8086_10ddb19df918row12_col2\" class=\"data row12 col2\" >-7,595.0</td>\n                        <td id=\"T_9fe6d9c8_d353_11ea_8086_10ddb19df918row12_col3\" class=\"data row12 col3\" >-9.00%</td>\n                        <td id=\"T_9fe6d9c8_d353_11ea_8086_10ddb19df918row12_col4\" class=\"data row12 col4\" >75,080.0</td>\n                        <td id=\"T_9fe6d9c8_d353_11ea_8086_10ddb19df918row12_col5\" class=\"data row12 col5\" >60,410.0</td>\n                        <td id=\"T_9fe6d9c8_d353_11ea_8086_10ddb19df918row12_col6\" class=\"data row12 col6\" >80.00%</td>\n                        <td id=\"T_9fe6d9c8_d353_11ea_8086_10ddb19df918row12_col7\" class=\"data row12 col7\" >135,490.0</td>\n                        <td id=\"T_9fe6d9c8_d353_11ea_8086_10ddb19df918row12_col8\" class=\"data row12 col8\" >-1,171.39</td>\n                        <td id=\"T_9fe6d9c8_d353_11ea_8086_10ddb19df918row12_col9\" class=\"data row12 col9\" >-1.00%</td>\n                        <td id=\"T_9fe6d9c8_d353_11ea_8086_10ddb19df918row12_col10\" class=\"data row12 col10\" >134,318.61</td>\n                        <td id=\"T_9fe6d9c8_d353_11ea_8086_10ddb19df918row12_col11\" class=\"data row12 col11\" >59,238.61</td>\n                        <td id=\"T_9fe6d9c8_d353_11ea_8086_10ddb19df918row12_col12\" class=\"data row12 col12\" >79.00%</td>\n            </tr>\n            <tr>\n                        <th id=\"T_9fe6d9c8_d353_11ea_8086_10ddb19df918level0_row13\" class=\"row_heading level0 row13\" >15851</th>\n                        <td id=\"T_9fe6d9c8_d353_11ea_8086_10ddb19df918row13_col0\" class=\"data row13 col0\" >2020</td>\n                        <td id=\"T_9fe6d9c8_d353_11ea_8086_10ddb19df918row13_col1\" class=\"data row13 col1\" >72,563.0</td>\n                        <td id=\"T_9fe6d9c8_d353_11ea_8086_10ddb19df918row13_col2\" class=\"data row13 col2\" >-13,787.0</td>\n                        <td id=\"T_9fe6d9c8_d353_11ea_8086_10ddb19df918row13_col3\" class=\"data row13 col3\" >-19.00%</td>\n                        <td id=\"T_9fe6d9c8_d353_11ea_8086_10ddb19df918row13_col4\" class=\"data row13 col4\" >58,776.0</td>\n                        <td id=\"T_9fe6d9c8_d353_11ea_8086_10ddb19df918row13_col5\" class=\"data row13 col5\" >79,119.0</td>\n                        <td id=\"T_9fe6d9c8_d353_11ea_8086_10ddb19df918row13_col6\" class=\"data row13 col6\" >135.00%</td>\n                        <td id=\"T_9fe6d9c8_d353_11ea_8086_10ddb19df918row13_col7\" class=\"data row13 col7\" >137,895.0</td>\n                        <td id=\"T_9fe6d9c8_d353_11ea_8086_10ddb19df918row13_col8\" class=\"data row13 col8\" >-22,576.5</td>\n                        <td id=\"T_9fe6d9c8_d353_11ea_8086_10ddb19df918row13_col9\" class=\"data row13 col9\" >-16.00%</td>\n                        <td id=\"T_9fe6d9c8_d353_11ea_8086_10ddb19df918row13_col10\" class=\"data row13 col10\" >115,318.5</td>\n                        <td id=\"T_9fe6d9c8_d353_11ea_8086_10ddb19df918row13_col11\" class=\"data row13 col11\" >56,542.5</td>\n                        <td id=\"T_9fe6d9c8_d353_11ea_8086_10ddb19df918row13_col12\" class=\"data row13 col12\" >96.00%</td>\n            </tr>\n            <tr>\n                        <th id=\"T_9fe6d9c8_d353_11ea_8086_10ddb19df918level0_row14\" class=\"row_heading level0 row14\" >4856</th>\n                        <td id=\"T_9fe6d9c8_d353_11ea_8086_10ddb19df918row14_col0\" class=\"data row14 col0\" >2018</td>\n                        <td id=\"T_9fe6d9c8_d353_11ea_8086_10ddb19df918row14_col1\" class=\"data row14 col1\" >221,410.0</td>\n                        <td id=\"T_9fe6d9c8_d353_11ea_8086_10ddb19df918row14_col2\" class=\"data row14 col2\" >-21,570.0</td>\n                        <td id=\"T_9fe6d9c8_d353_11ea_8086_10ddb19df918row14_col3\" class=\"data row14 col3\" >-10.00%</td>\n                        <td id=\"T_9fe6d9c8_d353_11ea_8086_10ddb19df918row14_col4\" class=\"data row14 col4\" >199,840.0</td>\n                        <td id=\"T_9fe6d9c8_d353_11ea_8086_10ddb19df918row14_col5\" class=\"data row14 col5\" >58,226.0</td>\n                        <td id=\"T_9fe6d9c8_d353_11ea_8086_10ddb19df918row14_col6\" class=\"data row14 col6\" >29.00%</td>\n                        <td id=\"T_9fe6d9c8_d353_11ea_8086_10ddb19df918row14_col7\" class=\"data row14 col7\" >258,066.0</td>\n                        <td id=\"T_9fe6d9c8_d353_11ea_8086_10ddb19df918row14_col8\" class=\"data row14 col8\" >-9,454.94</td>\n                        <td id=\"T_9fe6d9c8_d353_11ea_8086_10ddb19df918row14_col9\" class=\"data row14 col9\" >-4.00%</td>\n                        <td id=\"T_9fe6d9c8_d353_11ea_8086_10ddb19df918row14_col10\" class=\"data row14 col10\" >248,611.06</td>\n                        <td id=\"T_9fe6d9c8_d353_11ea_8086_10ddb19df918row14_col11\" class=\"data row14 col11\" >48,771.06</td>\n                        <td id=\"T_9fe6d9c8_d353_11ea_8086_10ddb19df918row14_col12\" class=\"data row14 col12\" >24.00%</td>\n            </tr>\n            <tr>\n                        <th id=\"T_9fe6d9c8_d353_11ea_8086_10ddb19df918level0_row15\" class=\"row_heading level0 row15\" >4853</th>\n                        <td id=\"T_9fe6d9c8_d353_11ea_8086_10ddb19df918row15_col0\" class=\"data row15 col0\" >2018</td>\n                        <td id=\"T_9fe6d9c8_d353_11ea_8086_10ddb19df918row15_col1\" class=\"data row15 col1\" >88,479.0</td>\n                        <td id=\"T_9fe6d9c8_d353_11ea_8086_10ddb19df918row15_col2\" class=\"data row15 col2\" >-8,130.0</td>\n                        <td id=\"T_9fe6d9c8_d353_11ea_8086_10ddb19df918row15_col3\" class=\"data row15 col3\" >-9.00%</td>\n                        <td id=\"T_9fe6d9c8_d353_11ea_8086_10ddb19df918row15_col4\" class=\"data row15 col4\" >80,349.0</td>\n                        <td id=\"T_9fe6d9c8_d353_11ea_8086_10ddb19df918row15_col5\" class=\"data row15 col5\" >38,440.0</td>\n                        <td id=\"T_9fe6d9c8_d353_11ea_8086_10ddb19df918row15_col6\" class=\"data row15 col6\" >48.00%</td>\n                        <td id=\"T_9fe6d9c8_d353_11ea_8086_10ddb19df918row15_col7\" class=\"data row15 col7\" >118,789.0</td>\n                        <td id=\"T_9fe6d9c8_d353_11ea_8086_10ddb19df918row15_col8\" class=\"data row15 col8\" >4,528.49</td>\n                        <td id=\"T_9fe6d9c8_d353_11ea_8086_10ddb19df918row15_col9\" class=\"data row15 col9\" >4.00%</td>\n                        <td id=\"T_9fe6d9c8_d353_11ea_8086_10ddb19df918row15_col10\" class=\"data row15 col10\" >123,317.49</td>\n                        <td id=\"T_9fe6d9c8_d353_11ea_8086_10ddb19df918row15_col11\" class=\"data row15 col11\" >42,968.49</td>\n                        <td id=\"T_9fe6d9c8_d353_11ea_8086_10ddb19df918row15_col12\" class=\"data row15 col12\" >53.00%</td>\n            </tr>\n            <tr>\n                        <th id=\"T_9fe6d9c8_d353_11ea_8086_10ddb19df918level0_row16\" class=\"row_heading level0 row16\" >4875</th>\n                        <td id=\"T_9fe6d9c8_d353_11ea_8086_10ddb19df918row16_col0\" class=\"data row16 col0\" >2018</td>\n                        <td id=\"T_9fe6d9c8_d353_11ea_8086_10ddb19df918row16_col1\" class=\"data row16 col1\" >237,700.0</td>\n                        <td id=\"T_9fe6d9c8_d353_11ea_8086_10ddb19df918row16_col2\" class=\"data row16 col2\" >-75,670.0</td>\n                        <td id=\"T_9fe6d9c8_d353_11ea_8086_10ddb19df918row16_col3\" class=\"data row16 col3\" >-32.00%</td>\n                        <td id=\"T_9fe6d9c8_d353_11ea_8086_10ddb19df918row16_col4\" class=\"data row16 col4\" >162,030.0</td>\n                        <td id=\"T_9fe6d9c8_d353_11ea_8086_10ddb19df918row16_col5\" class=\"data row16 col5\" >57,750.0</td>\n                        <td id=\"T_9fe6d9c8_d353_11ea_8086_10ddb19df918row16_col6\" class=\"data row16 col6\" >36.00%</td>\n                        <td id=\"T_9fe6d9c8_d353_11ea_8086_10ddb19df918row16_col7\" class=\"data row16 col7\" >219,780.0</td>\n                        <td id=\"T_9fe6d9c8_d353_11ea_8086_10ddb19df918row16_col8\" class=\"data row16 col8\" >-15,644.14</td>\n                        <td id=\"T_9fe6d9c8_d353_11ea_8086_10ddb19df918row16_col9\" class=\"data row16 col9\" >-7.00%</td>\n                        <td id=\"T_9fe6d9c8_d353_11ea_8086_10ddb19df918row16_col10\" class=\"data row16 col10\" >204,135.86</td>\n                        <td id=\"T_9fe6d9c8_d353_11ea_8086_10ddb19df918row16_col11\" class=\"data row16 col11\" >42,105.86</td>\n                        <td id=\"T_9fe6d9c8_d353_11ea_8086_10ddb19df918row16_col12\" class=\"data row16 col12\" >26.00%</td>\n            </tr>\n            <tr>\n                        <th id=\"T_9fe6d9c8_d353_11ea_8086_10ddb19df918level0_row17\" class=\"row_heading level0 row17\" >4873</th>\n                        <td id=\"T_9fe6d9c8_d353_11ea_8086_10ddb19df918row17_col0\" class=\"data row17 col0\" >2019</td>\n                        <td id=\"T_9fe6d9c8_d353_11ea_8086_10ddb19df918row17_col1\" class=\"data row17 col1\" >54,640.0</td>\n                        <td id=\"T_9fe6d9c8_d353_11ea_8086_10ddb19df918row17_col2\" class=\"data row17 col2\" >-23,420.0</td>\n                        <td id=\"T_9fe6d9c8_d353_11ea_8086_10ddb19df918row17_col3\" class=\"data row17 col3\" >-43.00%</td>\n                        <td id=\"T_9fe6d9c8_d353_11ea_8086_10ddb19df918row17_col4\" class=\"data row17 col4\" >31,220.0</td>\n                        <td id=\"T_9fe6d9c8_d353_11ea_8086_10ddb19df918row17_col5\" class=\"data row17 col5\" >46,176.0</td>\n                        <td id=\"T_9fe6d9c8_d353_11ea_8086_10ddb19df918row17_col6\" class=\"data row17 col6\" >148.00%</td>\n                        <td id=\"T_9fe6d9c8_d353_11ea_8086_10ddb19df918row17_col7\" class=\"data row17 col7\" >77,396.0</td>\n                        <td id=\"T_9fe6d9c8_d353_11ea_8086_10ddb19df918row17_col8\" class=\"data row17 col8\" >-4,735.15</td>\n                        <td id=\"T_9fe6d9c8_d353_11ea_8086_10ddb19df918row17_col9\" class=\"data row17 col9\" >-6.00%</td>\n                        <td id=\"T_9fe6d9c8_d353_11ea_8086_10ddb19df918row17_col10\" class=\"data row17 col10\" >72,660.85</td>\n                        <td id=\"T_9fe6d9c8_d353_11ea_8086_10ddb19df918row17_col11\" class=\"data row17 col11\" >41,440.85</td>\n                        <td id=\"T_9fe6d9c8_d353_11ea_8086_10ddb19df918row17_col12\" class=\"data row17 col12\" >133.00%</td>\n            </tr>\n            <tr>\n                        <th id=\"T_9fe6d9c8_d353_11ea_8086_10ddb19df918level0_row18\" class=\"row_heading level0 row18\" >4858</th>\n                        <td id=\"T_9fe6d9c8_d353_11ea_8086_10ddb19df918row18_col0\" class=\"data row18 col0\" >2020</td>\n                        <td id=\"T_9fe6d9c8_d353_11ea_8086_10ddb19df918row18_col1\" class=\"data row18 col1\" >34,624.0</td>\n                        <td id=\"T_9fe6d9c8_d353_11ea_8086_10ddb19df918row18_col2\" class=\"data row18 col2\" >-3,180.0</td>\n                        <td id=\"T_9fe6d9c8_d353_11ea_8086_10ddb19df918row18_col3\" class=\"data row18 col3\" >-9.00%</td>\n                        <td id=\"T_9fe6d9c8_d353_11ea_8086_10ddb19df918row18_col4\" class=\"data row18 col4\" >31,444.0</td>\n                        <td id=\"T_9fe6d9c8_d353_11ea_8086_10ddb19df918row18_col5\" class=\"data row18 col5\" >45,005.0</td>\n                        <td id=\"T_9fe6d9c8_d353_11ea_8086_10ddb19df918row18_col6\" class=\"data row18 col6\" >143.00%</td>\n                        <td id=\"T_9fe6d9c8_d353_11ea_8086_10ddb19df918row18_col7\" class=\"data row18 col7\" >76,449.0</td>\n                        <td id=\"T_9fe6d9c8_d353_11ea_8086_10ddb19df918row18_col8\" class=\"data row18 col8\" >-4,313.81</td>\n                        <td id=\"T_9fe6d9c8_d353_11ea_8086_10ddb19df918row18_col9\" class=\"data row18 col9\" >-6.00%</td>\n                        <td id=\"T_9fe6d9c8_d353_11ea_8086_10ddb19df918row18_col10\" class=\"data row18 col10\" >72,135.19</td>\n                        <td id=\"T_9fe6d9c8_d353_11ea_8086_10ddb19df918row18_col11\" class=\"data row18 col11\" >40,691.19</td>\n                        <td id=\"T_9fe6d9c8_d353_11ea_8086_10ddb19df918row18_col12\" class=\"data row18 col12\" >129.00%</td>\n            </tr>\n            <tr>\n                        <th id=\"T_9fe6d9c8_d353_11ea_8086_10ddb19df918level0_row19\" class=\"row_heading level0 row19\" >12342</th>\n                        <td id=\"T_9fe6d9c8_d353_11ea_8086_10ddb19df918row19_col0\" class=\"data row19 col0\" >2018</td>\n                        <td id=\"T_9fe6d9c8_d353_11ea_8086_10ddb19df918row19_col1\" class=\"data row19 col1\" >65,930.0</td>\n                        <td id=\"T_9fe6d9c8_d353_11ea_8086_10ddb19df918row19_col2\" class=\"data row19 col2\" >-12,530.0</td>\n                        <td id=\"T_9fe6d9c8_d353_11ea_8086_10ddb19df918row19_col3\" class=\"data row19 col3\" >-19.00%</td>\n                        <td id=\"T_9fe6d9c8_d353_11ea_8086_10ddb19df918row19_col4\" class=\"data row19 col4\" >53,400.0</td>\n                        <td id=\"T_9fe6d9c8_d353_11ea_8086_10ddb19df918row19_col5\" class=\"data row19 col5\" >81,784.0</td>\n                        <td id=\"T_9fe6d9c8_d353_11ea_8086_10ddb19df918row19_col6\" class=\"data row19 col6\" >153.00%</td>\n                        <td id=\"T_9fe6d9c8_d353_11ea_8086_10ddb19df918row19_col7\" class=\"data row19 col7\" >135,184.0</td>\n                        <td id=\"T_9fe6d9c8_d353_11ea_8086_10ddb19df918row19_col8\" class=\"data row19 col8\" >-47,504.33</td>\n                        <td id=\"T_9fe6d9c8_d353_11ea_8086_10ddb19df918row19_col9\" class=\"data row19 col9\" >-35.00%</td>\n                        <td id=\"T_9fe6d9c8_d353_11ea_8086_10ddb19df918row19_col10\" class=\"data row19 col10\" >87,679.67</td>\n                        <td id=\"T_9fe6d9c8_d353_11ea_8086_10ddb19df918row19_col11\" class=\"data row19 col11\" >34,279.67</td>\n                        <td id=\"T_9fe6d9c8_d353_11ea_8086_10ddb19df918row19_col12\" class=\"data row19 col12\" >64.00%</td>\n            </tr>\n            <tr>\n                        <th id=\"T_9fe6d9c8_d353_11ea_8086_10ddb19df918level0_row20\" class=\"row_heading level0 row20\" >4867</th>\n                        <td id=\"T_9fe6d9c8_d353_11ea_8086_10ddb19df918row20_col0\" class=\"data row20 col0\" >2018</td>\n                        <td id=\"T_9fe6d9c8_d353_11ea_8086_10ddb19df918row20_col1\" class=\"data row20 col1\" >42,712.0</td>\n                        <td id=\"T_9fe6d9c8_d353_11ea_8086_10ddb19df918row20_col2\" class=\"data row20 col2\" >-3,924.0</td>\n                        <td id=\"T_9fe6d9c8_d353_11ea_8086_10ddb19df918row20_col3\" class=\"data row20 col3\" >-9.00%</td>\n                        <td id=\"T_9fe6d9c8_d353_11ea_8086_10ddb19df918row20_col4\" class=\"data row20 col4\" >38,788.0</td>\n                        <td id=\"T_9fe6d9c8_d353_11ea_8086_10ddb19df918row20_col5\" class=\"data row20 col5\" >60,435.0</td>\n                        <td id=\"T_9fe6d9c8_d353_11ea_8086_10ddb19df918row20_col6\" class=\"data row20 col6\" >156.00%</td>\n                        <td id=\"T_9fe6d9c8_d353_11ea_8086_10ddb19df918row20_col7\" class=\"data row20 col7\" >99,223.0</td>\n                        <td id=\"T_9fe6d9c8_d353_11ea_8086_10ddb19df918row20_col8\" class=\"data row20 col8\" >-29,605.88</td>\n                        <td id=\"T_9fe6d9c8_d353_11ea_8086_10ddb19df918row20_col9\" class=\"data row20 col9\" >-30.00%</td>\n                        <td id=\"T_9fe6d9c8_d353_11ea_8086_10ddb19df918row20_col10\" class=\"data row20 col10\" >69,617.12</td>\n                        <td id=\"T_9fe6d9c8_d353_11ea_8086_10ddb19df918row20_col11\" class=\"data row20 col11\" >30,829.12</td>\n                        <td id=\"T_9fe6d9c8_d353_11ea_8086_10ddb19df918row20_col12\" class=\"data row20 col12\" >79.00%</td>\n            </tr>\n            <tr>\n                        <th id=\"T_9fe6d9c8_d353_11ea_8086_10ddb19df918level0_row21\" class=\"row_heading level0 row21\" >15867</th>\n                        <td id=\"T_9fe6d9c8_d353_11ea_8086_10ddb19df918row21_col0\" class=\"data row21 col0\" >2020</td>\n                        <td id=\"T_9fe6d9c8_d353_11ea_8086_10ddb19df918row21_col1\" class=\"data row21 col1\" >167,466.0</td>\n                        <td id=\"T_9fe6d9c8_d353_11ea_8086_10ddb19df918row21_col2\" class=\"data row21 col2\" >-31,819.0</td>\n                        <td id=\"T_9fe6d9c8_d353_11ea_8086_10ddb19df918row21_col3\" class=\"data row21 col3\" >-19.00%</td>\n                        <td id=\"T_9fe6d9c8_d353_11ea_8086_10ddb19df918row21_col4\" class=\"data row21 col4\" >135,647.0</td>\n                        <td id=\"T_9fe6d9c8_d353_11ea_8086_10ddb19df918row21_col5\" class=\"data row21 col5\" >61,990.0</td>\n                        <td id=\"T_9fe6d9c8_d353_11ea_8086_10ddb19df918row21_col6\" class=\"data row21 col6\" >46.00%</td>\n                        <td id=\"T_9fe6d9c8_d353_11ea_8086_10ddb19df918row21_col7\" class=\"data row21 col7\" >197,637.0</td>\n                        <td id=\"T_9fe6d9c8_d353_11ea_8086_10ddb19df918row21_col8\" class=\"data row21 col8\" >-32,574.51</td>\n                        <td id=\"T_9fe6d9c8_d353_11ea_8086_10ddb19df918row21_col9\" class=\"data row21 col9\" >-16.00%</td>\n                        <td id=\"T_9fe6d9c8_d353_11ea_8086_10ddb19df918row21_col10\" class=\"data row21 col10\" >165,062.49</td>\n                        <td id=\"T_9fe6d9c8_d353_11ea_8086_10ddb19df918row21_col11\" class=\"data row21 col11\" >29,415.49</td>\n                        <td id=\"T_9fe6d9c8_d353_11ea_8086_10ddb19df918row21_col12\" class=\"data row21 col12\" >22.00%</td>\n            </tr>\n            <tr>\n                        <th id=\"T_9fe6d9c8_d353_11ea_8086_10ddb19df918level0_row22\" class=\"row_heading level0 row22\" >15648</th>\n                        <td id=\"T_9fe6d9c8_d353_11ea_8086_10ddb19df918row22_col0\" class=\"data row22 col0\" >2020</td>\n                        <td id=\"T_9fe6d9c8_d353_11ea_8086_10ddb19df918row22_col1\" class=\"data row22 col1\" >127,667.0</td>\n                        <td id=\"T_9fe6d9c8_d353_11ea_8086_10ddb19df918row22_col2\" class=\"data row22 col2\" >-24,256.0</td>\n                        <td id=\"T_9fe6d9c8_d353_11ea_8086_10ddb19df918row22_col3\" class=\"data row22 col3\" >-19.00%</td>\n                        <td id=\"T_9fe6d9c8_d353_11ea_8086_10ddb19df918row22_col4\" class=\"data row22 col4\" >103,411.0</td>\n                        <td id=\"T_9fe6d9c8_d353_11ea_8086_10ddb19df918row22_col5\" class=\"data row22 col5\" >42,140.0</td>\n                        <td id=\"T_9fe6d9c8_d353_11ea_8086_10ddb19df918row22_col6\" class=\"data row22 col6\" >41.00%</td>\n                        <td id=\"T_9fe6d9c8_d353_11ea_8086_10ddb19df918row22_col7\" class=\"data row22 col7\" >145,551.0</td>\n                        <td id=\"T_9fe6d9c8_d353_11ea_8086_10ddb19df918row22_col8\" class=\"data row22 col8\" >-14,108.45</td>\n                        <td id=\"T_9fe6d9c8_d353_11ea_8086_10ddb19df918row22_col9\" class=\"data row22 col9\" >-10.00%</td>\n                        <td id=\"T_9fe6d9c8_d353_11ea_8086_10ddb19df918row22_col10\" class=\"data row22 col10\" >131,442.55</td>\n                        <td id=\"T_9fe6d9c8_d353_11ea_8086_10ddb19df918row22_col11\" class=\"data row22 col11\" >28,031.55</td>\n                        <td id=\"T_9fe6d9c8_d353_11ea_8086_10ddb19df918row22_col12\" class=\"data row22 col12\" >27.00%</td>\n            </tr>\n            <tr>\n                        <th id=\"T_9fe6d9c8_d353_11ea_8086_10ddb19df918level0_row23\" class=\"row_heading level0 row23\" >13589</th>\n                        <td id=\"T_9fe6d9c8_d353_11ea_8086_10ddb19df918row23_col0\" class=\"data row23 col0\" >2020</td>\n                        <td id=\"T_9fe6d9c8_d353_11ea_8086_10ddb19df918row23_col1\" class=\"data row23 col1\" >120,620.0</td>\n                        <td id=\"T_9fe6d9c8_d353_11ea_8086_10ddb19df918row23_col2\" class=\"data row23 col2\" >-22,917.0</td>\n                        <td id=\"T_9fe6d9c8_d353_11ea_8086_10ddb19df918row23_col3\" class=\"data row23 col3\" >-19.00%</td>\n                        <td id=\"T_9fe6d9c8_d353_11ea_8086_10ddb19df918row23_col4\" class=\"data row23 col4\" >97,703.0</td>\n                        <td id=\"T_9fe6d9c8_d353_11ea_8086_10ddb19df918row23_col5\" class=\"data row23 col5\" >59,581.0</td>\n                        <td id=\"T_9fe6d9c8_d353_11ea_8086_10ddb19df918row23_col6\" class=\"data row23 col6\" >61.00%</td>\n                        <td id=\"T_9fe6d9c8_d353_11ea_8086_10ddb19df918row23_col7\" class=\"data row23 col7\" >157,284.0</td>\n                        <td id=\"T_9fe6d9c8_d353_11ea_8086_10ddb19df918row23_col8\" class=\"data row23 col8\" >-34,141.47</td>\n                        <td id=\"T_9fe6d9c8_d353_11ea_8086_10ddb19df918row23_col9\" class=\"data row23 col9\" >-22.00%</td>\n                        <td id=\"T_9fe6d9c8_d353_11ea_8086_10ddb19df918row23_col10\" class=\"data row23 col10\" >123,142.53</td>\n                        <td id=\"T_9fe6d9c8_d353_11ea_8086_10ddb19df918row23_col11\" class=\"data row23 col11\" >25,439.53</td>\n                        <td id=\"T_9fe6d9c8_d353_11ea_8086_10ddb19df918row23_col12\" class=\"data row23 col12\" >26.00%</td>\n            </tr>\n            <tr>\n                        <th id=\"T_9fe6d9c8_d353_11ea_8086_10ddb19df918level0_row24\" class=\"row_heading level0 row24\" >12191</th>\n                        <td id=\"T_9fe6d9c8_d353_11ea_8086_10ddb19df918row24_col0\" class=\"data row24 col0\" >2018</td>\n                        <td id=\"T_9fe6d9c8_d353_11ea_8086_10ddb19df918row24_col1\" class=\"data row24 col1\" >61,696.8</td>\n                        <td id=\"T_9fe6d9c8_d353_11ea_8086_10ddb19df918row24_col2\" class=\"data row24 col2\" >-11,724.3</td>\n                        <td id=\"T_9fe6d9c8_d353_11ea_8086_10ddb19df918row24_col3\" class=\"data row24 col3\" >-19.00%</td>\n                        <td id=\"T_9fe6d9c8_d353_11ea_8086_10ddb19df918row24_col4\" class=\"data row24 col4\" >49,972.5</td>\n                        <td id=\"T_9fe6d9c8_d353_11ea_8086_10ddb19df918row24_col5\" class=\"data row24 col5\" >22,259.5</td>\n                        <td id=\"T_9fe6d9c8_d353_11ea_8086_10ddb19df918row24_col6\" class=\"data row24 col6\" >45.00%</td>\n                        <td id=\"T_9fe6d9c8_d353_11ea_8086_10ddb19df918row24_col7\" class=\"data row24 col7\" >72,232.0</td>\n                        <td id=\"T_9fe6d9c8_d353_11ea_8086_10ddb19df918row24_col8\" class=\"data row24 col8\" >-7,330.89</td>\n                        <td id=\"T_9fe6d9c8_d353_11ea_8086_10ddb19df918row24_col9\" class=\"data row24 col9\" >-10.00%</td>\n                        <td id=\"T_9fe6d9c8_d353_11ea_8086_10ddb19df918row24_col10\" class=\"data row24 col10\" >64,901.11</td>\n                        <td id=\"T_9fe6d9c8_d353_11ea_8086_10ddb19df918row24_col11\" class=\"data row24 col11\" >14,928.61</td>\n                        <td id=\"T_9fe6d9c8_d353_11ea_8086_10ddb19df918row24_col12\" class=\"data row24 col12\" >30.00%</td>\n            </tr>\n            <tr>\n                        <th id=\"T_9fe6d9c8_d353_11ea_8086_10ddb19df918level0_row25\" class=\"row_heading level0 row25\" >5571</th>\n                        <td id=\"T_9fe6d9c8_d353_11ea_8086_10ddb19df918row25_col0\" class=\"data row25 col0\" >2018</td>\n                        <td id=\"T_9fe6d9c8_d353_11ea_8086_10ddb19df918row25_col1\" class=\"data row25 col1\" >165,144.0</td>\n                        <td id=\"T_9fe6d9c8_d353_11ea_8086_10ddb19df918row25_col2\" class=\"data row25 col2\" >-30,028.0</td>\n                        <td id=\"T_9fe6d9c8_d353_11ea_8086_10ddb19df918row25_col3\" class=\"data row25 col3\" >-18.00%</td>\n                        <td id=\"T_9fe6d9c8_d353_11ea_8086_10ddb19df918row25_col4\" class=\"data row25 col4\" >135,116.0</td>\n                        <td id=\"T_9fe6d9c8_d353_11ea_8086_10ddb19df918row25_col5\" class=\"data row25 col5\" >16,466.0</td>\n                        <td id=\"T_9fe6d9c8_d353_11ea_8086_10ddb19df918row25_col6\" class=\"data row25 col6\" >12.00%</td>\n                        <td id=\"T_9fe6d9c8_d353_11ea_8086_10ddb19df918row25_col7\" class=\"data row25 col7\" >151,582.0</td>\n                        <td id=\"T_9fe6d9c8_d353_11ea_8086_10ddb19df918row25_col8\" class=\"data row25 col8\" >-5,837.15</td>\n                        <td id=\"T_9fe6d9c8_d353_11ea_8086_10ddb19df918row25_col9\" class=\"data row25 col9\" >-4.00%</td>\n                        <td id=\"T_9fe6d9c8_d353_11ea_8086_10ddb19df918row25_col10\" class=\"data row25 col10\" >145,744.85</td>\n                        <td id=\"T_9fe6d9c8_d353_11ea_8086_10ddb19df918row25_col11\" class=\"data row25 col11\" >10,628.85</td>\n                        <td id=\"T_9fe6d9c8_d353_11ea_8086_10ddb19df918row25_col12\" class=\"data row25 col12\" >8.00%</td>\n            </tr>\n            <tr>\n                        <th id=\"T_9fe6d9c8_d353_11ea_8086_10ddb19df918level0_row26\" class=\"row_heading level0 row26\" >3204</th>\n                        <td id=\"T_9fe6d9c8_d353_11ea_8086_10ddb19df918row26_col0\" class=\"data row26 col0\" >2018</td>\n                        <td id=\"T_9fe6d9c8_d353_11ea_8086_10ddb19df918row26_col1\" class=\"data row26 col1\" >100,751.0</td>\n                        <td id=\"T_9fe6d9c8_d353_11ea_8086_10ddb19df918row26_col2\" class=\"data row26 col2\" >-18,351.0</td>\n                        <td id=\"T_9fe6d9c8_d353_11ea_8086_10ddb19df918row26_col3\" class=\"data row26 col3\" >-18.00%</td>\n                        <td id=\"T_9fe6d9c8_d353_11ea_8086_10ddb19df918row26_col4\" class=\"data row26 col4\" >82,400.0</td>\n                        <td id=\"T_9fe6d9c8_d353_11ea_8086_10ddb19df918row26_col5\" class=\"data row26 col5\" >24,343.0</td>\n                        <td id=\"T_9fe6d9c8_d353_11ea_8086_10ddb19df918row26_col6\" class=\"data row26 col6\" >30.00%</td>\n                        <td id=\"T_9fe6d9c8_d353_11ea_8086_10ddb19df918row26_col7\" class=\"data row26 col7\" >106,743.0</td>\n                        <td id=\"T_9fe6d9c8_d353_11ea_8086_10ddb19df918row26_col8\" class=\"data row26 col8\" >-15,666.65</td>\n                        <td id=\"T_9fe6d9c8_d353_11ea_8086_10ddb19df918row26_col9\" class=\"data row26 col9\" >-15.00%</td>\n                        <td id=\"T_9fe6d9c8_d353_11ea_8086_10ddb19df918row26_col10\" class=\"data row26 col10\" >91,076.35</td>\n                        <td id=\"T_9fe6d9c8_d353_11ea_8086_10ddb19df918row26_col11\" class=\"data row26 col11\" >8,676.35</td>\n                        <td id=\"T_9fe6d9c8_d353_11ea_8086_10ddb19df918row26_col12\" class=\"data row26 col12\" >11.00%</td>\n            </tr>\n            <tr>\n                        <th id=\"T_9fe6d9c8_d353_11ea_8086_10ddb19df918level0_row27\" class=\"row_heading level0 row27\" >13244</th>\n                        <td id=\"T_9fe6d9c8_d353_11ea_8086_10ddb19df918row27_col0\" class=\"data row27 col0\" >2019</td>\n                        <td id=\"T_9fe6d9c8_d353_11ea_8086_10ddb19df918row27_col1\" class=\"data row27 col1\" >79,491.52</td>\n                        <td id=\"T_9fe6d9c8_d353_11ea_8086_10ddb19df918row27_col2\" class=\"data row27 col2\" >-15,105.92</td>\n                        <td id=\"T_9fe6d9c8_d353_11ea_8086_10ddb19df918row27_col3\" class=\"data row27 col3\" >-19.00%</td>\n                        <td id=\"T_9fe6d9c8_d353_11ea_8086_10ddb19df918row27_col4\" class=\"data row27 col4\" >64,385.6</td>\n                        <td id=\"T_9fe6d9c8_d353_11ea_8086_10ddb19df918row27_col5\" class=\"data row27 col5\" >41,287.4</td>\n                        <td id=\"T_9fe6d9c8_d353_11ea_8086_10ddb19df918row27_col6\" class=\"data row27 col6\" >64.00%</td>\n                        <td id=\"T_9fe6d9c8_d353_11ea_8086_10ddb19df918row27_col7\" class=\"data row27 col7\" >105,673.0</td>\n                        <td id=\"T_9fe6d9c8_d353_11ea_8086_10ddb19df918row27_col8\" class=\"data row27 col8\" >-32,885.77</td>\n                        <td id=\"T_9fe6d9c8_d353_11ea_8086_10ddb19df918row27_col9\" class=\"data row27 col9\" >-31.00%</td>\n                        <td id=\"T_9fe6d9c8_d353_11ea_8086_10ddb19df918row27_col10\" class=\"data row27 col10\" >72,787.23</td>\n                        <td id=\"T_9fe6d9c8_d353_11ea_8086_10ddb19df918row27_col11\" class=\"data row27 col11\" >8,401.63</td>\n                        <td id=\"T_9fe6d9c8_d353_11ea_8086_10ddb19df918row27_col12\" class=\"data row27 col12\" >13.00%</td>\n            </tr>\n            <tr>\n                        <th id=\"T_9fe6d9c8_d353_11ea_8086_10ddb19df918level0_row28\" class=\"row_heading level0 row28\" >3227</th>\n                        <td id=\"T_9fe6d9c8_d353_11ea_8086_10ddb19df918row28_col0\" class=\"data row28 col0\" >2019</td>\n                        <td id=\"T_9fe6d9c8_d353_11ea_8086_10ddb19df918row28_col1\" class=\"data row28 col1\" >31,359.35</td>\n                        <td id=\"T_9fe6d9c8_d353_11ea_8086_10ddb19df918row28_col2\" class=\"data row28 col2\" >-4,090.35</td>\n                        <td id=\"T_9fe6d9c8_d353_11ea_8086_10ddb19df918row28_col3\" class=\"data row28 col3\" >-13.00%</td>\n                        <td id=\"T_9fe6d9c8_d353_11ea_8086_10ddb19df918row28_col4\" class=\"data row28 col4\" >27,269.0</td>\n                        <td id=\"T_9fe6d9c8_d353_11ea_8086_10ddb19df918row28_col5\" class=\"data row28 col5\" >23,847.0</td>\n                        <td id=\"T_9fe6d9c8_d353_11ea_8086_10ddb19df918row28_col6\" class=\"data row28 col6\" >87.00%</td>\n                        <td id=\"T_9fe6d9c8_d353_11ea_8086_10ddb19df918row28_col7\" class=\"data row28 col7\" >51,116.0</td>\n                        <td id=\"T_9fe6d9c8_d353_11ea_8086_10ddb19df918row28_col8\" class=\"data row28 col8\" >-20,075.25</td>\n                        <td id=\"T_9fe6d9c8_d353_11ea_8086_10ddb19df918row28_col9\" class=\"data row28 col9\" >-39.00%</td>\n                        <td id=\"T_9fe6d9c8_d353_11ea_8086_10ddb19df918row28_col10\" class=\"data row28 col10\" >31,040.75</td>\n                        <td id=\"T_9fe6d9c8_d353_11ea_8086_10ddb19df918row28_col11\" class=\"data row28 col11\" >3,771.75</td>\n                        <td id=\"T_9fe6d9c8_d353_11ea_8086_10ddb19df918row28_col12\" class=\"data row28 col12\" >14.00%</td>\n            </tr>\n            <tr>\n                        <th id=\"T_9fe6d9c8_d353_11ea_8086_10ddb19df918level0_row29\" class=\"row_heading level0 row29\" >5574</th>\n                        <td id=\"T_9fe6d9c8_d353_11ea_8086_10ddb19df918row29_col0\" class=\"data row29 col0\" >2019</td>\n                        <td id=\"T_9fe6d9c8_d353_11ea_8086_10ddb19df918row29_col1\" class=\"data row29 col1\" >242,357.0</td>\n                        <td id=\"T_9fe6d9c8_d353_11ea_8086_10ddb19df918row29_col2\" class=\"data row29 col2\" >-44,296.0</td>\n                        <td id=\"T_9fe6d9c8_d353_11ea_8086_10ddb19df918row29_col3\" class=\"data row29 col3\" >-18.00%</td>\n                        <td id=\"T_9fe6d9c8_d353_11ea_8086_10ddb19df918row29_col4\" class=\"data row29 col4\" >198,061.0</td>\n                        <td id=\"T_9fe6d9c8_d353_11ea_8086_10ddb19df918row29_col5\" class=\"data row29 col5\" >6,797.0</td>\n                        <td id=\"T_9fe6d9c8_d353_11ea_8086_10ddb19df918row29_col6\" class=\"data row29 col6\" >3.00%</td>\n                        <td id=\"T_9fe6d9c8_d353_11ea_8086_10ddb19df918row29_col7\" class=\"data row29 col7\" >204,858.0</td>\n                        <td id=\"T_9fe6d9c8_d353_11ea_8086_10ddb19df918row29_col8\" class=\"data row29 col8\" >-3,696.94</td>\n                        <td id=\"T_9fe6d9c8_d353_11ea_8086_10ddb19df918row29_col9\" class=\"data row29 col9\" >-2.00%</td>\n                        <td id=\"T_9fe6d9c8_d353_11ea_8086_10ddb19df918row29_col10\" class=\"data row29 col10\" >201,161.06</td>\n                        <td id=\"T_9fe6d9c8_d353_11ea_8086_10ddb19df918row29_col11\" class=\"data row29 col11\" >3,100.06</td>\n                        <td id=\"T_9fe6d9c8_d353_11ea_8086_10ddb19df918row29_col12\" class=\"data row29 col12\" >2.00%</td>\n            </tr>\n            <tr>\n                        <th id=\"T_9fe6d9c8_d353_11ea_8086_10ddb19df918level0_row30\" class=\"row_heading level0 row30\" >23313</th>\n                        <td id=\"T_9fe6d9c8_d353_11ea_8086_10ddb19df918row30_col0\" class=\"data row30 col0\" >2019</td>\n                        <td id=\"T_9fe6d9c8_d353_11ea_8086_10ddb19df918row30_col1\" class=\"data row30 col1\" >9,936.0</td>\n                        <td id=\"T_9fe6d9c8_d353_11ea_8086_10ddb19df918row30_col2\" class=\"data row30 col2\" >-1,888.0</td>\n                        <td id=\"T_9fe6d9c8_d353_11ea_8086_10ddb19df918row30_col3\" class=\"data row30 col3\" >-19.00%</td>\n                        <td id=\"T_9fe6d9c8_d353_11ea_8086_10ddb19df918row30_col4\" class=\"data row30 col4\" >8,048.0</td>\n                        <td id=\"T_9fe6d9c8_d353_11ea_8086_10ddb19df918row30_col5\" class=\"data row30 col5\" >865.0</td>\n                        <td id=\"T_9fe6d9c8_d353_11ea_8086_10ddb19df918row30_col6\" class=\"data row30 col6\" >11.00%</td>\n                        <td id=\"T_9fe6d9c8_d353_11ea_8086_10ddb19df918row30_col7\" class=\"data row30 col7\" >8,913.0</td>\n                        <td id=\"T_9fe6d9c8_d353_11ea_8086_10ddb19df918row30_col8\" class=\"data row30 col8\" >-2,329.38</td>\n                        <td id=\"T_9fe6d9c8_d353_11ea_8086_10ddb19df918row30_col9\" class=\"data row30 col9\" >-26.00%</td>\n                        <td id=\"T_9fe6d9c8_d353_11ea_8086_10ddb19df918row30_col10\" class=\"data row30 col10\" >6,583.62</td>\n                        <td id=\"T_9fe6d9c8_d353_11ea_8086_10ddb19df918row30_col11\" class=\"data row30 col11\" >-1,464.38</td>\n                        <td id=\"T_9fe6d9c8_d353_11ea_8086_10ddb19df918row30_col12\" class=\"data row30 col12\" >-18.00%</td>\n            </tr>\n            <tr>\n                        <th id=\"T_9fe6d9c8_d353_11ea_8086_10ddb19df918level0_row31\" class=\"row_heading level0 row31\" >5546</th>\n                        <td id=\"T_9fe6d9c8_d353_11ea_8086_10ddb19df918row31_col0\" class=\"data row31 col0\" >2018</td>\n                        <td id=\"T_9fe6d9c8_d353_11ea_8086_10ddb19df918row31_col1\" class=\"data row31 col1\" >181,181.0</td>\n                        <td id=\"T_9fe6d9c8_d353_11ea_8086_10ddb19df918row31_col2\" class=\"data row31 col2\" >-33,240.0</td>\n                        <td id=\"T_9fe6d9c8_d353_11ea_8086_10ddb19df918row31_col3\" class=\"data row31 col3\" >-18.00%</td>\n                        <td id=\"T_9fe6d9c8_d353_11ea_8086_10ddb19df918row31_col4\" class=\"data row31 col4\" >147,941.0</td>\n                        <td id=\"T_9fe6d9c8_d353_11ea_8086_10ddb19df918row31_col5\" class=\"data row31 col5\" >48,396.0</td>\n                        <td id=\"T_9fe6d9c8_d353_11ea_8086_10ddb19df918row31_col6\" class=\"data row31 col6\" >33.00%</td>\n                        <td id=\"T_9fe6d9c8_d353_11ea_8086_10ddb19df918row31_col7\" class=\"data row31 col7\" >196,337.0</td>\n                        <td id=\"T_9fe6d9c8_d353_11ea_8086_10ddb19df918row31_col8\" class=\"data row31 col8\" >-60,324.81</td>\n                        <td id=\"T_9fe6d9c8_d353_11ea_8086_10ddb19df918row31_col9\" class=\"data row31 col9\" >-31.00%</td>\n                        <td id=\"T_9fe6d9c8_d353_11ea_8086_10ddb19df918row31_col10\" class=\"data row31 col10\" >136,012.19</td>\n                        <td id=\"T_9fe6d9c8_d353_11ea_8086_10ddb19df918row31_col11\" class=\"data row31 col11\" >-11,928.81</td>\n                        <td id=\"T_9fe6d9c8_d353_11ea_8086_10ddb19df918row31_col12\" class=\"data row31 col12\" >-8.00%</td>\n            </tr>\n            <tr>\n                        <th id=\"T_9fe6d9c8_d353_11ea_8086_10ddb19df918level0_row32\" class=\"row_heading level0 row32\" >5926</th>\n                        <td id=\"T_9fe6d9c8_d353_11ea_8086_10ddb19df918row32_col0\" class=\"data row32 col0\" >2018</td>\n                        <td id=\"T_9fe6d9c8_d353_11ea_8086_10ddb19df918row32_col1\" class=\"data row32 col1\" >152,690.0</td>\n                        <td id=\"T_9fe6d9c8_d353_11ea_8086_10ddb19df918row32_col2\" class=\"data row32 col2\" >-29,450.0</td>\n                        <td id=\"T_9fe6d9c8_d353_11ea_8086_10ddb19df918row32_col3\" class=\"data row32 col3\" >-19.00%</td>\n                        <td id=\"T_9fe6d9c8_d353_11ea_8086_10ddb19df918row32_col4\" class=\"data row32 col4\" >123,240.0</td>\n                        <td id=\"T_9fe6d9c8_d353_11ea_8086_10ddb19df918row32_col5\" class=\"data row32 col5\" >-600.0</td>\n                        <td id=\"T_9fe6d9c8_d353_11ea_8086_10ddb19df918row32_col6\" class=\"data row32 col6\" >-0.00%</td>\n                        <td id=\"T_9fe6d9c8_d353_11ea_8086_10ddb19df918row32_col7\" class=\"data row32 col7\" >122,640.0</td>\n                        <td id=\"T_9fe6d9c8_d353_11ea_8086_10ddb19df918row32_col8\" class=\"data row32 col8\" >-13,234.16</td>\n                        <td id=\"T_9fe6d9c8_d353_11ea_8086_10ddb19df918row32_col9\" class=\"data row32 col9\" >-11.00%</td>\n                        <td id=\"T_9fe6d9c8_d353_11ea_8086_10ddb19df918row32_col10\" class=\"data row32 col10\" >109,405.84</td>\n                        <td id=\"T_9fe6d9c8_d353_11ea_8086_10ddb19df918row32_col11\" class=\"data row32 col11\" >-13,834.16</td>\n                        <td id=\"T_9fe6d9c8_d353_11ea_8086_10ddb19df918row32_col12\" class=\"data row32 col12\" >-11.00%</td>\n            </tr>\n            <tr>\n                        <th id=\"T_9fe6d9c8_d353_11ea_8086_10ddb19df918level0_row33\" class=\"row_heading level0 row33\" >5548</th>\n                        <td id=\"T_9fe6d9c8_d353_11ea_8086_10ddb19df918row33_col0\" class=\"data row33 col0\" >2018</td>\n                        <td id=\"T_9fe6d9c8_d353_11ea_8086_10ddb19df918row33_col1\" class=\"data row33 col1\" >316,188.0</td>\n                        <td id=\"T_9fe6d9c8_d353_11ea_8086_10ddb19df918row33_col2\" class=\"data row33 col2\" >-57,923.0</td>\n                        <td id=\"T_9fe6d9c8_d353_11ea_8086_10ddb19df918row33_col3\" class=\"data row33 col3\" >-18.00%</td>\n                        <td id=\"T_9fe6d9c8_d353_11ea_8086_10ddb19df918row33_col4\" class=\"data row33 col4\" >258,265.0</td>\n                        <td id=\"T_9fe6d9c8_d353_11ea_8086_10ddb19df918row33_col5\" class=\"data row33 col5\" >99,026.0</td>\n                        <td id=\"T_9fe6d9c8_d353_11ea_8086_10ddb19df918row33_col6\" class=\"data row33 col6\" >38.00%</td>\n                        <td id=\"T_9fe6d9c8_d353_11ea_8086_10ddb19df918row33_col7\" class=\"data row33 col7\" >357,291.0</td>\n                        <td id=\"T_9fe6d9c8_d353_11ea_8086_10ddb19df918row33_col8\" class=\"data row33 col8\" >-121,882.1</td>\n                        <td id=\"T_9fe6d9c8_d353_11ea_8086_10ddb19df918row33_col9\" class=\"data row33 col9\" >-34.00%</td>\n                        <td id=\"T_9fe6d9c8_d353_11ea_8086_10ddb19df918row33_col10\" class=\"data row33 col10\" >235,408.9</td>\n                        <td id=\"T_9fe6d9c8_d353_11ea_8086_10ddb19df918row33_col11\" class=\"data row33 col11\" >-22,856.1</td>\n                        <td id=\"T_9fe6d9c8_d353_11ea_8086_10ddb19df918row33_col12\" class=\"data row33 col12\" >-9.00%</td>\n            </tr>\n            <tr>\n                        <th id=\"T_9fe6d9c8_d353_11ea_8086_10ddb19df918level0_row34\" class=\"row_heading level0 row34\" >4861</th>\n                        <td id=\"T_9fe6d9c8_d353_11ea_8086_10ddb19df918row34_col0\" class=\"data row34 col0\" >2018</td>\n                        <td id=\"T_9fe6d9c8_d353_11ea_8086_10ddb19df918row34_col1\" class=\"data row34 col1\" >181,514.0</td>\n                        <td id=\"T_9fe6d9c8_d353_11ea_8086_10ddb19df918row34_col2\" class=\"data row34 col2\" >-16,673.0</td>\n                        <td id=\"T_9fe6d9c8_d353_11ea_8086_10ddb19df918row34_col3\" class=\"data row34 col3\" >-9.00%</td>\n                        <td id=\"T_9fe6d9c8_d353_11ea_8086_10ddb19df918row34_col4\" class=\"data row34 col4\" >164,841.0</td>\n                        <td id=\"T_9fe6d9c8_d353_11ea_8086_10ddb19df918row34_col5\" class=\"data row34 col5\" >41,771.0</td>\n                        <td id=\"T_9fe6d9c8_d353_11ea_8086_10ddb19df918row34_col6\" class=\"data row34 col6\" >25.00%</td>\n                        <td id=\"T_9fe6d9c8_d353_11ea_8086_10ddb19df918row34_col7\" class=\"data row34 col7\" >206,612.0</td>\n                        <td id=\"T_9fe6d9c8_d353_11ea_8086_10ddb19df918row34_col8\" class=\"data row34 col8\" >-65,069.1</td>\n                        <td id=\"T_9fe6d9c8_d353_11ea_8086_10ddb19df918row34_col9\" class=\"data row34 col9\" >-31.00%</td>\n                        <td id=\"T_9fe6d9c8_d353_11ea_8086_10ddb19df918row34_col10\" class=\"data row34 col10\" >141,542.9</td>\n                        <td id=\"T_9fe6d9c8_d353_11ea_8086_10ddb19df918row34_col11\" class=\"data row34 col11\" >-23,298.1</td>\n                        <td id=\"T_9fe6d9c8_d353_11ea_8086_10ddb19df918row34_col12\" class=\"data row34 col12\" >-14.00%</td>\n            </tr>\n            <tr>\n                        <th id=\"T_9fe6d9c8_d353_11ea_8086_10ddb19df918level0_row35\" class=\"row_heading level0 row35\" >5128</th>\n                        <td id=\"T_9fe6d9c8_d353_11ea_8086_10ddb19df918row35_col0\" class=\"data row35 col0\" >2018</td>\n                        <td id=\"T_9fe6d9c8_d353_11ea_8086_10ddb19df918row35_col1\" class=\"data row35 col1\" >398,063.0</td>\n                        <td id=\"T_9fe6d9c8_d353_11ea_8086_10ddb19df918row35_col2\" class=\"data row35 col2\" >-89,003.0</td>\n                        <td id=\"T_9fe6d9c8_d353_11ea_8086_10ddb19df918row35_col3\" class=\"data row35 col3\" >-22.00%</td>\n                        <td id=\"T_9fe6d9c8_d353_11ea_8086_10ddb19df918row35_col4\" class=\"data row35 col4\" >309,060.0</td>\n                        <td id=\"T_9fe6d9c8_d353_11ea_8086_10ddb19df918row35_col5\" class=\"data row35 col5\" >-7,347.0</td>\n                        <td id=\"T_9fe6d9c8_d353_11ea_8086_10ddb19df918row35_col6\" class=\"data row35 col6\" >-2.00%</td>\n                        <td id=\"T_9fe6d9c8_d353_11ea_8086_10ddb19df918row35_col7\" class=\"data row35 col7\" >301,713.0</td>\n                        <td id=\"T_9fe6d9c8_d353_11ea_8086_10ddb19df918row35_col8\" class=\"data row35 col8\" >-42,169.01</td>\n                        <td id=\"T_9fe6d9c8_d353_11ea_8086_10ddb19df918row35_col9\" class=\"data row35 col9\" >-14.00%</td>\n                        <td id=\"T_9fe6d9c8_d353_11ea_8086_10ddb19df918row35_col10\" class=\"data row35 col10\" >259,543.99</td>\n                        <td id=\"T_9fe6d9c8_d353_11ea_8086_10ddb19df918row35_col11\" class=\"data row35 col11\" >-49,516.01</td>\n                        <td id=\"T_9fe6d9c8_d353_11ea_8086_10ddb19df918row35_col12\" class=\"data row35 col12\" >-16.00%</td>\n            </tr>\n            <tr>\n                        <th id=\"T_9fe6d9c8_d353_11ea_8086_10ddb19df918level0_row36\" class=\"row_heading level0 row36\" >3199</th>\n                        <td id=\"T_9fe6d9c8_d353_11ea_8086_10ddb19df918row36_col0\" class=\"data row36 col0\" >2018</td>\n                        <td id=\"T_9fe6d9c8_d353_11ea_8086_10ddb19df918row36_col1\" class=\"data row36 col1\" >64,901.4</td>\n                        <td id=\"T_9fe6d9c8_d353_11ea_8086_10ddb19df918row36_col2\" class=\"data row36 col2\" >-8,465.4</td>\n                        <td id=\"T_9fe6d9c8_d353_11ea_8086_10ddb19df918row36_col3\" class=\"data row36 col3\" >-13.00%</td>\n                        <td id=\"T_9fe6d9c8_d353_11ea_8086_10ddb19df918row36_col4\" class=\"data row36 col4\" >56,436.0</td>\n                        <td id=\"T_9fe6d9c8_d353_11ea_8086_10ddb19df918row36_col5\" class=\"data row36 col5\" >-56,436.0</td>\n                        <td id=\"T_9fe6d9c8_d353_11ea_8086_10ddb19df918row36_col6\" class=\"data row36 col6\" >-100.00%</td>\n                        <td id=\"T_9fe6d9c8_d353_11ea_8086_10ddb19df918row36_col7\" class=\"data row36 col7\" >0.0</td>\n                        <td id=\"T_9fe6d9c8_d353_11ea_8086_10ddb19df918row36_col8\" class=\"data row36 col8\" >0.0</td>\n                        <td id=\"T_9fe6d9c8_d353_11ea_8086_10ddb19df918row36_col9\" class=\"data row36 col9\" >nan%</td>\n                        <td id=\"T_9fe6d9c8_d353_11ea_8086_10ddb19df918row36_col10\" class=\"data row36 col10\" >0.0</td>\n                        <td id=\"T_9fe6d9c8_d353_11ea_8086_10ddb19df918row36_col11\" class=\"data row36 col11\" >-56,436.0</td>\n                        <td id=\"T_9fe6d9c8_d353_11ea_8086_10ddb19df918row36_col12\" class=\"data row36 col12\" >-100.00%</td>\n            </tr>\n            <tr>\n                        <th id=\"T_9fe6d9c8_d353_11ea_8086_10ddb19df918level0_row37\" class=\"row_heading level0 row37\" >5549</th>\n                        <td id=\"T_9fe6d9c8_d353_11ea_8086_10ddb19df918row37_col0\" class=\"data row37 col0\" >2018</td>\n                        <td id=\"T_9fe6d9c8_d353_11ea_8086_10ddb19df918row37_col1\" class=\"data row37 col1\" >152,167.79</td>\n                        <td id=\"T_9fe6d9c8_d353_11ea_8086_10ddb19df918row37_col2\" class=\"data row37 col2\" >-41,043.45</td>\n                        <td id=\"T_9fe6d9c8_d353_11ea_8086_10ddb19df918row37_col3\" class=\"data row37 col3\" >-27.00%</td>\n                        <td id=\"T_9fe6d9c8_d353_11ea_8086_10ddb19df918row37_col4\" class=\"data row37 col4\" >111,124.34</td>\n                        <td id=\"T_9fe6d9c8_d353_11ea_8086_10ddb19df918row37_col5\" class=\"data row37 col5\" >-72,849.34</td>\n                        <td id=\"T_9fe6d9c8_d353_11ea_8086_10ddb19df918row37_col6\" class=\"data row37 col6\" >-66.00%</td>\n                        <td id=\"T_9fe6d9c8_d353_11ea_8086_10ddb19df918row37_col7\" class=\"data row37 col7\" >38,275.0</td>\n                        <td id=\"T_9fe6d9c8_d353_11ea_8086_10ddb19df918row37_col8\" class=\"data row37 col8\" >-8,730.12</td>\n                        <td id=\"T_9fe6d9c8_d353_11ea_8086_10ddb19df918row37_col9\" class=\"data row37 col9\" >-23.00%</td>\n                        <td id=\"T_9fe6d9c8_d353_11ea_8086_10ddb19df918row37_col10\" class=\"data row37 col10\" >29,544.88</td>\n                        <td id=\"T_9fe6d9c8_d353_11ea_8086_10ddb19df918row37_col11\" class=\"data row37 col11\" >-81,579.46</td>\n                        <td id=\"T_9fe6d9c8_d353_11ea_8086_10ddb19df918row37_col12\" class=\"data row37 col12\" >-73.00%</td>\n            </tr>\n    </tbody></table>",
          "text/plain": "<pandas.io.formats.style.Styler at 0x7ff612f43cf8>"
         },
         "metadata": {},
         "output_type": "display_data"
        }
       ]
      }
     },
     "6f20a2f1c8f443b6ab5b6d51aeaf7a34": {
      "model_module": "@jupyter-widgets/base",
      "model_module_version": "1.2.0",
      "model_name": "LayoutModel",
      "state": {}
     },
     "6f68d08278884d8c8b7407f70fa3af44": {
      "model_module": "@jupyter-widgets/base",
      "model_module_version": "1.2.0",
      "model_name": "LayoutModel",
      "state": {}
     },
     "71a29a11f407462ca49f666f50fc4cc2": {
      "model_module": "@jupyter-widgets/controls",
      "model_module_version": "1.5.0",
      "model_name": "DescriptionStyleModel",
      "state": {
       "description_width": ""
      }
     },
     "71d8552d0c06433d8e6c22cf7255f809": {
      "model_module": "@jupyter-widgets/controls",
      "model_module_version": "1.5.0",
      "model_name": "DropdownModel",
      "state": {
       "_options_labels": [
        "All",
        "<£1M",
        "<£2.5M",
        "<£10M",
        "£10M+"
       ],
       "description": "Group:",
       "index": 0,
       "layout": "IPY_MODEL_3dff1ad4ac5443c3825e666e0ab5cec0",
       "style": "IPY_MODEL_c9a3ff7708bd4451ab124d13f8d8f319"
      }
     },
     "72ab78405e104aec86224d6ca9e65e83": {
      "model_module": "@jupyter-widgets/output",
      "model_module_version": "1.0.0",
      "model_name": "OutputModel",
      "state": {
       "layout": "IPY_MODEL_6ae23f641a7748d3ac16cb924f40120a",
       "outputs": [
        {
         "data": {
          "text/html": "<style  type=\"text/css\" >\n    #T_9a7a853e_d353_11ea_8086_10ddb19df918 tr:hover {\n          background-color: #ffff99;\n    }    #T_9a7a853e_d353_11ea_8086_10ddb19df918 th {\n          font-size: 150%;\n          text-align: center;\n    }    #T_9a7a853e_d353_11ea_8086_10ddb19df918 caption {\n          caption-side: bottom;\n    }    #T_9a7a853e_d353_11ea_8086_10ddb19df918row0_col0 {\n            font-size:  12pt;\n        }    #T_9a7a853e_d353_11ea_8086_10ddb19df918row0_col1 {\n            font-size:  12pt;\n        }    #T_9a7a853e_d353_11ea_8086_10ddb19df918row0_col2 {\n            font-size:  12pt;\n        }    #T_9a7a853e_d353_11ea_8086_10ddb19df918row0_col3 {\n            font-size:  12pt;\n        }    #T_9a7a853e_d353_11ea_8086_10ddb19df918row1_col0 {\n            font-size:  12pt;\n        }    #T_9a7a853e_d353_11ea_8086_10ddb19df918row1_col1 {\n            font-size:  12pt;\n        }    #T_9a7a853e_d353_11ea_8086_10ddb19df918row1_col2 {\n            font-size:  12pt;\n        }    #T_9a7a853e_d353_11ea_8086_10ddb19df918row1_col3 {\n            font-size:  12pt;\n        }    #T_9a7a853e_d353_11ea_8086_10ddb19df918row2_col0 {\n            font-size:  12pt;\n        }    #T_9a7a853e_d353_11ea_8086_10ddb19df918row2_col1 {\n            font-size:  12pt;\n        }    #T_9a7a853e_d353_11ea_8086_10ddb19df918row2_col2 {\n            font-size:  12pt;\n        }    #T_9a7a853e_d353_11ea_8086_10ddb19df918row2_col3 {\n            font-size:  12pt;\n        }    #T_9a7a853e_d353_11ea_8086_10ddb19df918row3_col0 {\n            font-size:  12pt;\n        }    #T_9a7a853e_d353_11ea_8086_10ddb19df918row3_col1 {\n            font-size:  12pt;\n        }    #T_9a7a853e_d353_11ea_8086_10ddb19df918row3_col2 {\n            font-size:  12pt;\n        }    #T_9a7a853e_d353_11ea_8086_10ddb19df918row3_col3 {\n            font-size:  12pt;\n        }</style><table id=\"T_9a7a853e_d353_11ea_8086_10ddb19df918\" ><thead>    <tr>        <th class=\"blank level0\" ></th>        <th class=\"col_heading level0 col0\" >1-Allowance</th>        <th class=\"col_heading level0 col1\" >2-Outperformace Target (G3)</th>        <th class=\"col_heading level0 col2\" >3-Budget (G4)</th>        <th class=\"col_heading level0 col3\" >4-Spent</th>    </tr>    <tr>        <th class=\"index_name level0\" >Pjct Group</th>        <th class=\"blank\" ></th>        <th class=\"blank\" ></th>        <th class=\"blank\" ></th>        <th class=\"blank\" ></th>    </tr></thead><tbody>\n                <tr>\n                        <th id=\"T_9a7a853e_d353_11ea_8086_10ddb19df918level0_row0\" class=\"row_heading level0 row0\" ><£1M</th>\n                        <td id=\"T_9a7a853e_d353_11ea_8086_10ddb19df918row0_col0\" class=\"data row0 col0\" >223,993,405.62</td>\n                        <td id=\"T_9a7a853e_d353_11ea_8086_10ddb19df918row0_col1\" class=\"data row0 col1\" >192,955,783.56</td>\n                        <td id=\"T_9a7a853e_d353_11ea_8086_10ddb19df918row0_col2\" class=\"data row0 col2\" >204,291,020.74</td>\n                        <td id=\"T_9a7a853e_d353_11ea_8086_10ddb19df918row0_col3\" class=\"data row0 col3\" >143,894,095.82</td>\n            </tr>\n            <tr>\n                        <th id=\"T_9a7a853e_d353_11ea_8086_10ddb19df918level0_row1\" class=\"row_heading level0 row1\" ><£2.5M</th>\n                        <td id=\"T_9a7a853e_d353_11ea_8086_10ddb19df918row1_col0\" class=\"data row1 col0\" >139,906,899.71</td>\n                        <td id=\"T_9a7a853e_d353_11ea_8086_10ddb19df918row1_col1\" class=\"data row1 col1\" >128,334,983.98</td>\n                        <td id=\"T_9a7a853e_d353_11ea_8086_10ddb19df918row1_col2\" class=\"data row1 col2\" >109,961,179.3</td>\n                        <td id=\"T_9a7a853e_d353_11ea_8086_10ddb19df918row1_col3\" class=\"data row1 col3\" >84,063,756.21</td>\n            </tr>\n            <tr>\n                        <th id=\"T_9a7a853e_d353_11ea_8086_10ddb19df918level0_row2\" class=\"row_heading level0 row2\" ><£10M</th>\n                        <td id=\"T_9a7a853e_d353_11ea_8086_10ddb19df918row2_col0\" class=\"data row2 col0\" >75,669,056.2</td>\n                        <td id=\"T_9a7a853e_d353_11ea_8086_10ddb19df918row2_col1\" class=\"data row2 col1\" >79,574,107.95</td>\n                        <td id=\"T_9a7a853e_d353_11ea_8086_10ddb19df918row2_col2\" class=\"data row2 col2\" >57,574,884.57</td>\n                        <td id=\"T_9a7a853e_d353_11ea_8086_10ddb19df918row2_col3\" class=\"data row2 col3\" >41,665,795.36</td>\n            </tr>\n            <tr>\n                        <th id=\"T_9a7a853e_d353_11ea_8086_10ddb19df918level0_row3\" class=\"row_heading level0 row3\" >All</th>\n                        <td id=\"T_9a7a853e_d353_11ea_8086_10ddb19df918row3_col0\" class=\"data row3 col0\" >439,569,361.53</td>\n                        <td id=\"T_9a7a853e_d353_11ea_8086_10ddb19df918row3_col1\" class=\"data row3 col1\" >400,864,875.49</td>\n                        <td id=\"T_9a7a853e_d353_11ea_8086_10ddb19df918row3_col2\" class=\"data row3 col2\" >371,827,084.61</td>\n                        <td id=\"T_9a7a853e_d353_11ea_8086_10ddb19df918row3_col3\" class=\"data row3 col3\" >269,623,647.39</td>\n            </tr>\n    </tbody></table>",
          "text/plain": "<pandas.io.formats.style.Styler at 0x7ff6129bed68>"
         },
         "metadata": {},
         "output_type": "display_data"
        }
       ]
      }
     },
     "72e4da632dcd438d9f922d2da1e4e714": {
      "model_module": "@jupyter-widgets/base",
      "model_module_version": "1.2.0",
      "model_name": "LayoutModel",
      "state": {}
     },
     "7554b628c6a442b79e5642168b2ac51c": {
      "model_module": "@jupyter-widgets/controls",
      "model_module_version": "1.5.0",
      "model_name": "VBoxModel",
      "state": {
       "_dom_classes": [
        "widget-interact"
       ],
       "children": [
        "IPY_MODEL_06f781c63885488e8e0a474b23d6d9a4",
        "IPY_MODEL_299383caf4f04d25affdb553213cf00d",
        "IPY_MODEL_6a391d910bd6465ea6edc97c33a6813e",
        "IPY_MODEL_d5cd0d2576ef4ff38e69ce5a883ad84a",
        "IPY_MODEL_a73de6f2105d4b4e83d29aac2511f3b7",
        "IPY_MODEL_6ca4a8cede824f62b1ad4a540a1c608a"
       ],
       "layout": "IPY_MODEL_6f20a2f1c8f443b6ab5b6d51aeaf7a34"
      }
     },
     "78c5fc5af2b4456aa6f1e6b479f36e91": {
      "model_module": "@jupyter-widgets/controls",
      "model_module_version": "1.5.0",
      "model_name": "DropdownModel",
      "state": {
       "_options_labels": [
        "Pre-Execution",
        "Execution",
        "Closed/Completed"
       ],
       "description": "Project Stage:",
       "index": 2,
       "layout": "IPY_MODEL_d207b71ba9264c86ae922f9e11f75ef7",
       "style": "IPY_MODEL_a14ea7ba994f4bf7afc7a18b380b2dda"
      }
     },
     "7914f6e00b67409f90e319fbf3b00125": {
      "model_module": "@jupyter-widgets/controls",
      "model_module_version": "1.5.0",
      "model_name": "DropdownModel",
      "state": {
       "_options_labels": [
        "All",
        "<£1M",
        "<£2.5M",
        "<£10M",
        "£10M+"
       ],
       "description": "Group:",
       "index": 0,
       "layout": "IPY_MODEL_4319c165416345f69d026b9fbb223a13",
       "style": "IPY_MODEL_476404b407944be18a4a8c6ba9ca1b69"
      }
     },
     "7b0e9989149840a9b109208daa4e2f54": {
      "model_module": "@jupyter-widgets/controls",
      "model_module_version": "1.5.0",
      "model_name": "SliderStyleModel",
      "state": {
       "description_width": ""
      }
     },
     "7bf69280235248808e74be557e846abe": {
      "model_module": "@jupyter-widgets/controls",
      "model_module_version": "1.5.0",
      "model_name": "SliderStyleModel",
      "state": {
       "description_width": ""
      }
     },
     "7c036437ba4540c794c9443edb8770e9": {
      "model_module": "@jupyter-widgets/controls",
      "model_module_version": "1.5.0",
      "model_name": "VBoxModel",
      "state": {
       "_dom_classes": [
        "widget-interact"
       ],
       "children": [
        "IPY_MODEL_0a6518f594f94acabd62f169bec53be8",
        "IPY_MODEL_07aa407e1621442cb6477a6bd7d72ebd",
        "IPY_MODEL_176c9246265643ac8ad17a2d4aee1222"
       ],
       "layout": "IPY_MODEL_d00d08b0e12b42faba6c9f2f138cd916"
      }
     },
     "7dd39b52212d4ebc98ac680646379d3b": {
      "model_module": "@jupyter-widgets/base",
      "model_module_version": "1.2.0",
      "model_name": "LayoutModel",
      "state": {}
     },
     "8230d3586b2643168a3c5a4364de101d": {
      "model_module": "@jupyter-widgets/controls",
      "model_module_version": "1.5.0",
      "model_name": "DropdownModel",
      "state": {
       "_options_labels": [
        "All",
        "SEPD South East",
        "SEPD Wessex",
        "SEPD Ridgeway",
        "SEPD Thames Valley",
        "SEPD Major Projects",
        "SEPD Central",
        "Multiple"
       ],
       "description": "Region:",
       "index": 0,
       "layout": "IPY_MODEL_6f68d08278884d8c8b7407f70fa3af44",
       "style": "IPY_MODEL_3f97ce21d0b94bb288d9cdb4f794fac6"
      }
     },
     "897df73496564f02979bbdf72060fa81": {
      "model_module": "@jupyter-widgets/base",
      "model_module_version": "1.2.0",
      "model_name": "LayoutModel",
      "state": {}
     },
     "8fb2c96a10e74704ba36f2e3fc90473b": {
      "model_module": "@jupyter-widgets/controls",
      "model_module_version": "1.5.0",
      "model_name": "DropdownModel",
      "state": {
       "_options_labels": [
        "All",
        "<£1M",
        "<£2.5M",
        "<£10M",
        "£10M+"
       ],
       "description": "Group:",
       "index": 0,
       "layout": "IPY_MODEL_c613738f07cf472987c6d3a9350897b3",
       "style": "IPY_MODEL_21b32835210542fa813346ada6abafc2"
      }
     },
     "90301fa5b2804735a5bc161dd7e45c66": {
      "model_module": "@jupyter-widgets/base",
      "model_module_version": "1.2.0",
      "model_name": "LayoutModel",
      "state": {}
     },
     "92b0439d80604b6f86944eececd0b8ed": {
      "model_module": "@jupyter-widgets/controls",
      "model_module_version": "1.5.0",
      "model_name": "DropdownModel",
      "state": {
       "_options_labels": [
        "All",
        "<£1M",
        "<£2.5M",
        "<£10M",
        "£10M+"
       ],
       "description": "Group:",
       "index": 0,
       "layout": "IPY_MODEL_f56cad62b63948dfa3e5e0628af87d58",
       "style": "IPY_MODEL_cd545e418e494e7fbb775ccb3c234640"
      }
     },
     "949aa859d5ed4193ad510868c4b80ffa": {
      "model_module": "@jupyter-widgets/base",
      "model_module_version": "1.2.0",
      "model_name": "LayoutModel",
      "state": {}
     },
     "97cbf1c75ba44dd9872904c75206d1b6": {
      "model_module": "@jupyter-widgets/base",
      "model_module_version": "1.2.0",
      "model_name": "LayoutModel",
      "state": {}
     },
     "981ba3a8b2ae4023b24c8852404af708": {
      "model_module": "@jupyter-widgets/base",
      "model_module_version": "1.2.0",
      "model_name": "LayoutModel",
      "state": {}
     },
     "9d703aeff7594c5e898b422aa43a0e65": {
      "model_module": "@jupyter-widgets/controls",
      "model_module_version": "1.5.0",
      "model_name": "DropdownModel",
      "state": {
       "_options_labels": [
        "Pre-Execution",
        "Execution",
        "Closed/Completed"
       ],
       "description": "Project Stage:",
       "index": 2,
       "layout": "IPY_MODEL_2a9070b70eb54dcfb5de4b4e8a8908f9",
       "style": "IPY_MODEL_64ff29c2bffc4ced984060fc5f59adf6"
      }
     },
     "9d86bbaaa6ca4a2c8dc5939e8582f428": {
      "model_module": "@jupyter-widgets/base",
      "model_module_version": "1.2.0",
      "model_name": "LayoutModel",
      "state": {}
     },
     "9ea556c238af421fa40b1b751375aae7": {
      "model_module": "@jupyter-widgets/base",
      "model_module_version": "1.2.0",
      "model_name": "LayoutModel",
      "state": {}
     },
     "a112b8f6beb14a0aa19f0d7a2081862c": {
      "model_module": "@jupyter-widgets/controls",
      "model_module_version": "1.5.0",
      "model_name": "DropdownModel",
      "state": {
       "_options_labels": [
        "All",
        "SEPD South East",
        "SEPD Wessex",
        "SEPD Ridgeway",
        "SEPD Thames Valley",
        "SEPD Major Projects",
        "SEPD Central",
        "Multiple"
       ],
       "description": "Region:",
       "index": 0,
       "layout": "IPY_MODEL_647231ab9aa845958bf7336f61aed3db",
       "style": "IPY_MODEL_158b0bc37c1d49d48730b1124c4c895b"
      }
     },
     "a14ea7ba994f4bf7afc7a18b380b2dda": {
      "model_module": "@jupyter-widgets/controls",
      "model_module_version": "1.5.0",
      "model_name": "DescriptionStyleModel",
      "state": {
       "description_width": ""
      }
     },
     "a22f294d33b140d78c8da461bc17a4ff": {
      "model_module": "@jupyter-widgets/base",
      "model_module_version": "1.2.0",
      "model_name": "LayoutModel",
      "state": {}
     },
     "a52612b756a646fdb8a17e4063b7560d": {
      "model_module": "@jupyter-widgets/controls",
      "model_module_version": "1.5.0",
      "model_name": "DropdownModel",
      "state": {
       "_options_labels": [
        "All",
        "SEPD South East",
        "SEPD Wessex",
        "SEPD Ridgeway",
        "SEPD Thames Valley",
        "SEPD Major Projects",
        "SEPD Central",
        "Multiple"
       ],
       "description": "Region:",
       "index": 0,
       "layout": "IPY_MODEL_c9da4e74d55241658a0c7c8aa97f8ff4",
       "style": "IPY_MODEL_dbe32909247b4f33a4fe95b44d987949"
      }
     },
     "a6b9f2966a3747ffa5914a116545677a": {
      "model_module": "@jupyter-widgets/controls",
      "model_module_version": "1.5.0",
      "model_name": "DescriptionStyleModel",
      "state": {
       "description_width": ""
      }
     },
     "a71b92dfb52b4a38a2db2cf9032bd2e8": {
      "model_module": "@jupyter-widgets/controls",
      "model_module_version": "1.5.0",
      "model_name": "VBoxModel",
      "state": {
       "_dom_classes": [
        "widget-interact"
       ],
       "children": [
        "IPY_MODEL_e7e4ae04d9534a95a75811d1066f85a8",
        "IPY_MODEL_f8dfaf764ae84bcfb180240ade7b2a67",
        "IPY_MODEL_215ad47780a647239b3eb1bebd8f165f"
       ],
       "layout": "IPY_MODEL_c6b605c423c24945b041049fd70201fd"
      }
     },
     "a73de6f2105d4b4e83d29aac2511f3b7": {
      "model_module": "@jupyter-widgets/controls",
      "model_module_version": "1.5.0",
      "model_name": "DropdownModel",
      "state": {
       "_options_labels": [
        "Pre-Execution",
        "Execution",
        "Closed/Completed"
       ],
       "description": "Project Stage:",
       "index": 2,
       "layout": "IPY_MODEL_df23a82aa2ca48668c7c8a01d5ef037e",
       "style": "IPY_MODEL_e7103690526b46d09193da7970e90a6c"
      }
     },
     "ab153695971f49039b884d3666c297bb": {
      "model_module": "@jupyter-widgets/controls",
      "model_module_version": "1.5.0",
      "model_name": "SliderStyleModel",
      "state": {
       "description_width": ""
      }
     },
     "abc1742133ae47b5bfaf5305e69a86b4": {
      "model_module": "@jupyter-widgets/controls",
      "model_module_version": "1.5.0",
      "model_name": "IntRangeSliderModel",
      "state": {
       "_model_name": "IntRangeSliderModel",
       "_view_name": "IntRangeSliderView",
       "continuous_update": false,
       "description": "First Year:",
       "layout": "IPY_MODEL_e61a241a4afd4a80b378aaebdec5dc5f",
       "max": 2023,
       "min": 2016,
       "style": "IPY_MODEL_7bf69280235248808e74be557e846abe",
       "value": [
        2016,
        2020
       ]
      }
     },
     "b34040fce8ef45b8a0559c85e3a472b2": {
      "model_module": "@jupyter-widgets/controls",
      "model_module_version": "1.5.0",
      "model_name": "IntRangeSliderModel",
      "state": {
       "_model_name": "IntRangeSliderModel",
       "_view_name": "IntRangeSliderView",
       "continuous_update": false,
       "description": "First Year:",
       "layout": "IPY_MODEL_72e4da632dcd438d9f922d2da1e4e714",
       "max": 2023,
       "min": 2016,
       "style": "IPY_MODEL_d644b4462b054fbdb864bc3c3b623c1e",
       "value": [
        2016,
        2020
       ]
      }
     },
     "b3ab75cbf0334b93ab4ab88d9cbb3813": {
      "model_module": "@jupyter-widgets/base",
      "model_module_version": "1.2.0",
      "model_name": "LayoutModel",
      "state": {}
     },
     "b7153dd4f299431e8b2fdf978e68862f": {
      "model_module": "@jupyter-widgets/controls",
      "model_module_version": "1.5.0",
      "model_name": "DescriptionStyleModel",
      "state": {
       "description_width": ""
      }
     },
     "bf2485dab91d454fa5d1d95075cabed1": {
      "model_module": "@jupyter-widgets/base",
      "model_module_version": "1.2.0",
      "model_name": "LayoutModel",
      "state": {}
     },
     "bf4624747ff14a4e9d04247fc9d34717": {
      "model_module": "@jupyter-widgets/controls",
      "model_module_version": "1.5.0",
      "model_name": "DropdownModel",
      "state": {
       "_options_labels": [
        "All",
        "Pre-Execution",
        "Execution",
        "Closed/Completed"
       ],
       "description": "Project Stage:",
       "index": 0,
       "layout": "IPY_MODEL_22fefe6b461e4875af50a48ba46ccc85",
       "style": "IPY_MODEL_b7153dd4f299431e8b2fdf978e68862f"
      }
     },
     "c221d87fda094d0fb520ea4c49c576ad": {
      "model_module": "@jupyter-widgets/controls",
      "model_module_version": "1.5.0",
      "model_name": "VBoxModel",
      "state": {
       "_dom_classes": [
        "widget-interact"
       ],
       "children": [
        "IPY_MODEL_1a6a14157dde4dfd9225451e46a45f9f",
        "IPY_MODEL_bf4624747ff14a4e9d04247fc9d34717",
        "IPY_MODEL_72ab78405e104aec86224d6ca9e65e83"
       ],
       "layout": "IPY_MODEL_949aa859d5ed4193ad510868c4b80ffa"
      }
     },
     "c613738f07cf472987c6d3a9350897b3": {
      "model_module": "@jupyter-widgets/base",
      "model_module_version": "1.2.0",
      "model_name": "LayoutModel",
      "state": {}
     },
     "c6b605c423c24945b041049fd70201fd": {
      "model_module": "@jupyter-widgets/base",
      "model_module_version": "1.2.0",
      "model_name": "LayoutModel",
      "state": {}
     },
     "c9a3ff7708bd4451ab124d13f8d8f319": {
      "model_module": "@jupyter-widgets/controls",
      "model_module_version": "1.5.0",
      "model_name": "DescriptionStyleModel",
      "state": {
       "description_width": ""
      }
     },
     "c9da4e74d55241658a0c7c8aa97f8ff4": {
      "model_module": "@jupyter-widgets/base",
      "model_module_version": "1.2.0",
      "model_name": "LayoutModel",
      "state": {}
     },
     "cad375a113cb4486b29f14aa213bfcfd": {
      "model_module": "@jupyter-widgets/controls",
      "model_module_version": "1.5.0",
      "model_name": "DropdownModel",
      "state": {
       "_options_labels": [
        "All",
        "SEPD South East",
        "SEPD Wessex",
        "SEPD Ridgeway",
        "SEPD Thames Valley",
        "SEPD Major Projects",
        "SEPD Central",
        "Multiple"
       ],
       "description": "Region:",
       "index": 0,
       "layout": "IPY_MODEL_643852ac681e4f44a874138674021ec7",
       "style": "IPY_MODEL_ccf2e5208db54079ba427a9efbdc27cb"
      }
     },
     "cb6bf5973a8c42a6ba365c6cdbb1d018": {
      "model_module": "@jupyter-widgets/base",
      "model_module_version": "1.2.0",
      "model_name": "LayoutModel",
      "state": {}
     },
     "ccf2e5208db54079ba427a9efbdc27cb": {
      "model_module": "@jupyter-widgets/controls",
      "model_module_version": "1.5.0",
      "model_name": "DescriptionStyleModel",
      "state": {
       "description_width": ""
      }
     },
     "cd545e418e494e7fbb775ccb3c234640": {
      "model_module": "@jupyter-widgets/controls",
      "model_module_version": "1.5.0",
      "model_name": "DescriptionStyleModel",
      "state": {
       "description_width": ""
      }
     },
     "cf4e75f1e29c48f4a40d218fc6b9f502": {
      "model_module": "@jupyter-widgets/base",
      "model_module_version": "1.2.0",
      "model_name": "LayoutModel",
      "state": {}
     },
     "d00d08b0e12b42faba6c9f2f138cd916": {
      "model_module": "@jupyter-widgets/base",
      "model_module_version": "1.2.0",
      "model_name": "LayoutModel",
      "state": {}
     },
     "d207b71ba9264c86ae922f9e11f75ef7": {
      "model_module": "@jupyter-widgets/base",
      "model_module_version": "1.2.0",
      "model_name": "LayoutModel",
      "state": {}
     },
     "d5cd0d2576ef4ff38e69ce5a883ad84a": {
      "model_module": "@jupyter-widgets/controls",
      "model_module_version": "1.5.0",
      "model_name": "IntRangeSliderModel",
      "state": {
       "_model_name": "IntRangeSliderModel",
       "_view_name": "IntRangeSliderView",
       "continuous_update": false,
       "description": "First Year:",
       "layout": "IPY_MODEL_5eaaadbd9ee0464f9b4e4e23850aeb27",
       "max": 2023,
       "min": 2016,
       "style": "IPY_MODEL_29669d921158488183b166e9fcf0fd74",
       "value": [
        2016,
        2020
       ]
      }
     },
     "d644b4462b054fbdb864bc3c3b623c1e": {
      "model_module": "@jupyter-widgets/controls",
      "model_module_version": "1.5.0",
      "model_name": "SliderStyleModel",
      "state": {
       "description_width": ""
      }
     },
     "dbe32909247b4f33a4fe95b44d987949": {
      "model_module": "@jupyter-widgets/controls",
      "model_module_version": "1.5.0",
      "model_name": "DescriptionStyleModel",
      "state": {
       "description_width": ""
      }
     },
     "df23a82aa2ca48668c7c8a01d5ef037e": {
      "model_module": "@jupyter-widgets/base",
      "model_module_version": "1.2.0",
      "model_name": "LayoutModel",
      "state": {}
     },
     "e61a241a4afd4a80b378aaebdec5dc5f": {
      "model_module": "@jupyter-widgets/base",
      "model_module_version": "1.2.0",
      "model_name": "LayoutModel",
      "state": {}
     },
     "e69cc6481c36479cbf2a4708c040a89f": {
      "model_module": "@jupyter-widgets/base",
      "model_module_version": "1.2.0",
      "model_name": "LayoutModel",
      "state": {}
     },
     "e7103690526b46d09193da7970e90a6c": {
      "model_module": "@jupyter-widgets/controls",
      "model_module_version": "1.5.0",
      "model_name": "DescriptionStyleModel",
      "state": {
       "description_width": ""
      }
     },
     "e7e4ae04d9534a95a75811d1066f85a8": {
      "model_module": "@jupyter-widgets/controls",
      "model_module_version": "1.5.0",
      "model_name": "IntRangeSliderModel",
      "state": {
       "_model_name": "IntRangeSliderModel",
       "_view_name": "IntRangeSliderView",
       "continuous_update": false,
       "description": "First Year:",
       "layout": "IPY_MODEL_90301fa5b2804735a5bc161dd7e45c66",
       "max": 2023,
       "min": 2016,
       "style": "IPY_MODEL_ab153695971f49039b884d3666c297bb",
       "value": [
        2016,
        2020
       ]
      }
     },
     "f50539d4123a4285bf7a2d908c35b915": {
      "model_module": "@jupyter-widgets/controls",
      "model_module_version": "1.5.0",
      "model_name": "DescriptionStyleModel",
      "state": {
       "description_width": ""
      }
     },
     "f56cad62b63948dfa3e5e0628af87d58": {
      "model_module": "@jupyter-widgets/base",
      "model_module_version": "1.2.0",
      "model_name": "LayoutModel",
      "state": {}
     },
     "f5f2ba03a522474f967e2b9395a6f3c2": {
      "model_module": "@jupyter-widgets/base",
      "model_module_version": "1.2.0",
      "model_name": "LayoutModel",
      "state": {}
     },
     "f8dfaf764ae84bcfb180240ade7b2a67": {
      "model_module": "@jupyter-widgets/controls",
      "model_module_version": "1.5.0",
      "model_name": "DropdownModel",
      "state": {
       "_options_labels": [
        "Pre-Execution",
        "Execution",
        "Closed/Completed"
       ],
       "description": "Project Stage:",
       "index": 2,
       "layout": "IPY_MODEL_20c835513cfe4b45a622912f259f9a9f",
       "style": "IPY_MODEL_6530b26457bc456bab0cfd9e67d9f764"
      }
     },
     "fb23c445ac2b4ca7882b37aadbcc171c": {
      "model_module": "@jupyter-widgets/controls",
      "model_module_version": "1.5.0",
      "model_name": "VBoxModel",
      "state": {
       "_dom_classes": [
        "widget-interact"
       ],
       "children": [
        "IPY_MODEL_b34040fce8ef45b8a0559c85e3a472b2",
        "IPY_MODEL_9d703aeff7594c5e898b422aa43a0e65",
        "IPY_MODEL_71d8552d0c06433d8e6c22cf7255f809",
        "IPY_MODEL_3271e937a03f4b2898794e482111ffb7",
        "IPY_MODEL_01140df0a0904c2c8eb76d8a90c95f03"
       ],
       "layout": "IPY_MODEL_b3ab75cbf0334b93ab4ab88d9cbb3813"
      }
     },
     "fc656fadab4e426f8814255587d25340": {
      "model_module": "@jupyter-widgets/base",
      "model_module_version": "1.2.0",
      "model_name": "LayoutModel",
      "state": {}
     },
     "ffa382d0bbaf4dbb9d85841f7fbaa3ed": {
      "model_module": "@jupyter-widgets/output",
      "model_module_version": "1.0.0",
      "model_name": "OutputModel",
      "state": {
       "layout": "IPY_MODEL_47eae41bf97c4a5e882155d180121d86",
       "outputs": [
        {
         "data": {
          "image/png": "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\n",
          "text/plain": "<Figure size 600x450 with 1 Axes>"
         },
         "metadata": {},
         "output_type": "display_data"
        },
        {
         "data": {
          "text/html": "<style  type=\"text/css\" >\n    #T_9fa2b1c6_d353_11ea_8086_10ddb19df918row0_col11 {\n            background-color:  #ffa500;\n            color:  #000000;\n        }    #T_9fa2b1c6_d353_11ea_8086_10ddb19df918row1_col11 {\n            background-color:  #ffab12;\n            color:  #000000;\n        }    #T_9fa2b1c6_d353_11ea_8086_10ddb19df918row2_col11 {\n            background-color:  #ffba3a;\n            color:  #000000;\n        }    #T_9fa2b1c6_d353_11ea_8086_10ddb19df918row3_col11 {\n            background-color:  #ffba3b;\n            color:  #000000;\n        }    #T_9fa2b1c6_d353_11ea_8086_10ddb19df918row4_col11 {\n            background-color:  #ffbc42;\n            color:  #000000;\n        }    #T_9fa2b1c6_d353_11ea_8086_10ddb19df918row5_col11 {\n            background-color:  #ffbd43;\n            color:  #000000;\n        }    #T_9fa2b1c6_d353_11ea_8086_10ddb19df918row6_col11 {\n            background-color:  #ffbd44;\n            color:  #000000;\n        }    #T_9fa2b1c6_d353_11ea_8086_10ddb19df918row7_col11 {\n            background-color:  #ffbe48;\n            color:  #000000;\n        }    #T_9fa2b1c6_d353_11ea_8086_10ddb19df918row8_col11 {\n            background-color:  #ffbe48;\n            color:  #000000;\n        }    #T_9fa2b1c6_d353_11ea_8086_10ddb19df918row9_col11 {\n            background-color:  #ffbf49;\n            color:  #000000;\n        }    #T_9fa2b1c6_d353_11ea_8086_10ddb19df918row10_col11 {\n            background-color:  #ffbf49;\n            color:  #000000;\n        }    #T_9fa2b1c6_d353_11ea_8086_10ddb19df918row11_col11 {\n            background-color:  #ffbf4a;\n            color:  #000000;\n        }    #T_9fa2b1c6_d353_11ea_8086_10ddb19df918row12_col11 {\n            background-color:  #ffc04c;\n            color:  #000000;\n        }    #T_9fa2b1c6_d353_11ea_8086_10ddb19df918row13_col11 {\n            background-color:  #fff6e5;\n            color:  #000000;\n        }</style><table id=\"T_9fa2b1c6_d353_11ea_8086_10ddb19df918\" ><thead>    <tr>        <th class=\"blank level0\" ></th>        <th class=\"col_heading level0 col0\" >RRD ID</th>        <th class=\"col_heading level0 col1\" >C0Cost</th>        <th class=\"col_heading level0 col2\" >Change from Allowance to Outperformace Target</th>        <th class=\"col_heading level0 col3\" >Var0</th>        <th class=\"col_heading level0 col4\" >C1Cost</th>        <th class=\"col_heading level0 col5\" >TotalPAT_Inc_Risk</th>        <th class=\"col_heading level0 col6\" >Change from Outperformace Target to G3 budget</th>        <th class=\"col_heading level0 col7\" >Var1</th>        <th class=\"col_heading level0 col8\" >TotalActualSpend</th>        <th class=\"col_heading level0 col9\" >Change from G3 Budget to Actual Spend</th>        <th class=\"col_heading level0 col10\" >Var2</th>        <th class=\"col_heading level0 col11\" >Change from Target to Actual Spend</th>        <th class=\"col_heading level0 col12\" >Var3</th>    </tr>    <tr>        <th class=\"index_name level0\" >Driving Asset</th>        <th class=\"blank\" ></th>        <th class=\"blank\" ></th>        <th class=\"blank\" ></th>        <th class=\"blank\" ></th>        <th class=\"blank\" ></th>        <th class=\"blank\" ></th>        <th class=\"blank\" ></th>        <th class=\"blank\" ></th>        <th class=\"blank\" ></th>        <th class=\"blank\" ></th>        <th class=\"blank\" ></th>        <th class=\"blank\" ></th>        <th class=\"blank\" ></th>    </tr></thead><tbody>\n                <tr>\n                        <th id=\"T_9fa2b1c6_d353_11ea_8086_10ddb19df918level0_row0\" class=\"row_heading level0 row0\" >Cable LV Main</th>\n                        <td id=\"T_9fa2b1c6_d353_11ea_8086_10ddb19df918row0_col0\" class=\"data row0 col0\" >38</td>\n                        <td id=\"T_9fa2b1c6_d353_11ea_8086_10ddb19df918row0_col1\" class=\"data row0 col1\" >6,138,460.14</td>\n                        <td id=\"T_9fa2b1c6_d353_11ea_8086_10ddb19df918row0_col2\" class=\"data row0 col2\" >-1,093,224.2</td>\n                        <td id=\"T_9fa2b1c6_d353_11ea_8086_10ddb19df918row0_col3\" class=\"data row0 col3\" >-17.81%</td>\n                        <td id=\"T_9fa2b1c6_d353_11ea_8086_10ddb19df918row0_col4\" class=\"data row0 col4\" >5,045,235.94</td>\n                        <td id=\"T_9fa2b1c6_d353_11ea_8086_10ddb19df918row0_col5\" class=\"data row0 col5\" >9,971,336.0</td>\n                        <td id=\"T_9fa2b1c6_d353_11ea_8086_10ddb19df918row0_col6\" class=\"data row0 col6\" >4,926,100.06</td>\n                        <td id=\"T_9fa2b1c6_d353_11ea_8086_10ddb19df918row0_col7\" class=\"data row0 col7\" >97.64%</td>\n                        <td id=\"T_9fa2b1c6_d353_11ea_8086_10ddb19df918row0_col8\" class=\"data row0 col8\" >8,651,151.17</td>\n                        <td id=\"T_9fa2b1c6_d353_11ea_8086_10ddb19df918row0_col9\" class=\"data row0 col9\" >-1,320,184.83</td>\n                        <td id=\"T_9fa2b1c6_d353_11ea_8086_10ddb19df918row0_col10\" class=\"data row0 col10\" >-13.24%</td>\n                        <td id=\"T_9fa2b1c6_d353_11ea_8086_10ddb19df918row0_col11\" class=\"data row0 col11\" >3,605,915.23</td>\n                        <td id=\"T_9fa2b1c6_d353_11ea_8086_10ddb19df918row0_col12\" class=\"data row0 col12\" >41.68%</td>\n            </tr>\n            <tr>\n                        <th id=\"T_9fa2b1c6_d353_11ea_8086_10ddb19df918level0_row1\" class=\"row_heading level0 row1\" >11kV Pole</th>\n                        <td id=\"T_9fa2b1c6_d353_11ea_8086_10ddb19df918row1_col0\" class=\"data row1 col0\" >13</td>\n                        <td id=\"T_9fa2b1c6_d353_11ea_8086_10ddb19df918row1_col1\" class=\"data row1 col1\" >4,501,885.33</td>\n                        <td id=\"T_9fa2b1c6_d353_11ea_8086_10ddb19df918row1_col2\" class=\"data row1 col2\" >-3,530,086.15</td>\n                        <td id=\"T_9fa2b1c6_d353_11ea_8086_10ddb19df918row1_col3\" class=\"data row1 col3\" >-78.41%</td>\n                        <td id=\"T_9fa2b1c6_d353_11ea_8086_10ddb19df918row1_col4\" class=\"data row1 col4\" >971,799.18</td>\n                        <td id=\"T_9fa2b1c6_d353_11ea_8086_10ddb19df918row1_col5\" class=\"data row1 col5\" >3,999,892.0</td>\n                        <td id=\"T_9fa2b1c6_d353_11ea_8086_10ddb19df918row1_col6\" class=\"data row1 col6\" >3,028,092.82</td>\n                        <td id=\"T_9fa2b1c6_d353_11ea_8086_10ddb19df918row1_col7\" class=\"data row1 col7\" >311.60%</td>\n                        <td id=\"T_9fa2b1c6_d353_11ea_8086_10ddb19df918row1_col8\" class=\"data row1 col8\" >3,664,497.52</td>\n                        <td id=\"T_9fa2b1c6_d353_11ea_8086_10ddb19df918row1_col9\" class=\"data row1 col9\" >-335,394.48</td>\n                        <td id=\"T_9fa2b1c6_d353_11ea_8086_10ddb19df918row1_col10\" class=\"data row1 col10\" >-8.39%</td>\n                        <td id=\"T_9fa2b1c6_d353_11ea_8086_10ddb19df918row1_col11\" class=\"data row1 col11\" >2,692,698.34</td>\n                        <td id=\"T_9fa2b1c6_d353_11ea_8086_10ddb19df918row1_col12\" class=\"data row1 col12\" >73.48%</td>\n            </tr>\n            <tr>\n                        <th id=\"T_9fa2b1c6_d353_11ea_8086_10ddb19df918level0_row2\" class=\"row_heading level0 row2\" >33kV CB</th>\n                        <td id=\"T_9fa2b1c6_d353_11ea_8086_10ddb19df918row2_col0\" class=\"data row2 col0\" >2</td>\n                        <td id=\"T_9fa2b1c6_d353_11ea_8086_10ddb19df918row2_col1\" class=\"data row2 col1\" >1,293,440.0</td>\n                        <td id=\"T_9fa2b1c6_d353_11ea_8086_10ddb19df918row2_col2\" class=\"data row2 col2\" >-194,010.0</td>\n                        <td id=\"T_9fa2b1c6_d353_11ea_8086_10ddb19df918row2_col3\" class=\"data row2 col3\" >-15.00%</td>\n                        <td id=\"T_9fa2b1c6_d353_11ea_8086_10ddb19df918row2_col4\" class=\"data row2 col4\" >1,099,430.0</td>\n                        <td id=\"T_9fa2b1c6_d353_11ea_8086_10ddb19df918row2_col5\" class=\"data row2 col5\" >1,971,593.0</td>\n                        <td id=\"T_9fa2b1c6_d353_11ea_8086_10ddb19df918row2_col6\" class=\"data row2 col6\" >872,163.0</td>\n                        <td id=\"T_9fa2b1c6_d353_11ea_8086_10ddb19df918row2_col7\" class=\"data row2 col7\" >79.33%</td>\n                        <td id=\"T_9fa2b1c6_d353_11ea_8086_10ddb19df918row2_col8\" class=\"data row2 col8\" >1,811,096.62</td>\n                        <td id=\"T_9fa2b1c6_d353_11ea_8086_10ddb19df918row2_col9\" class=\"data row2 col9\" >-160,496.38</td>\n                        <td id=\"T_9fa2b1c6_d353_11ea_8086_10ddb19df918row2_col10\" class=\"data row2 col10\" >-8.14%</td>\n                        <td id=\"T_9fa2b1c6_d353_11ea_8086_10ddb19df918row2_col11\" class=\"data row2 col11\" >711,666.62</td>\n                        <td id=\"T_9fa2b1c6_d353_11ea_8086_10ddb19df918row2_col12\" class=\"data row2 col12\" >39.29%</td>\n            </tr>\n            <tr>\n                        <th id=\"T_9fa2b1c6_d353_11ea_8086_10ddb19df918level0_row3\" class=\"row_heading level0 row3\" >132/33kV Transformers</th>\n                        <td id=\"T_9fa2b1c6_d353_11ea_8086_10ddb19df918row3_col0\" class=\"data row3 col0\" >4</td>\n                        <td id=\"T_9fa2b1c6_d353_11ea_8086_10ddb19df918row3_col1\" class=\"data row3 col1\" >5,602,150.0</td>\n                        <td id=\"T_9fa2b1c6_d353_11ea_8086_10ddb19df918row3_col2\" class=\"data row3 col2\" >-901,630.0</td>\n                        <td id=\"T_9fa2b1c6_d353_11ea_8086_10ddb19df918row3_col3\" class=\"data row3 col3\" >-16.09%</td>\n                        <td id=\"T_9fa2b1c6_d353_11ea_8086_10ddb19df918row3_col4\" class=\"data row3 col4\" >4,700,520.0</td>\n                        <td id=\"T_9fa2b1c6_d353_11ea_8086_10ddb19df918row3_col5\" class=\"data row3 col5\" >6,143,823.0</td>\n                        <td id=\"T_9fa2b1c6_d353_11ea_8086_10ddb19df918row3_col6\" class=\"data row3 col6\" >1,443,303.0</td>\n                        <td id=\"T_9fa2b1c6_d353_11ea_8086_10ddb19df918row3_col7\" class=\"data row3 col7\" >30.71%</td>\n                        <td id=\"T_9fa2b1c6_d353_11ea_8086_10ddb19df918row3_col8\" class=\"data row3 col8\" >5,351,506.67</td>\n                        <td id=\"T_9fa2b1c6_d353_11ea_8086_10ddb19df918row3_col9\" class=\"data row3 col9\" >-792,316.33</td>\n                        <td id=\"T_9fa2b1c6_d353_11ea_8086_10ddb19df918row3_col10\" class=\"data row3 col10\" >-12.90%</td>\n                        <td id=\"T_9fa2b1c6_d353_11ea_8086_10ddb19df918row3_col11\" class=\"data row3 col11\" >650,986.67</td>\n                        <td id=\"T_9fa2b1c6_d353_11ea_8086_10ddb19df918row3_col12\" class=\"data row3 col12\" >12.16%</td>\n            </tr>\n            <tr>\n                        <th id=\"T_9fa2b1c6_d353_11ea_8086_10ddb19df918level0_row4\" class=\"row_heading level0 row4\" >132kV Tower Refurbishment</th>\n                        <td id=\"T_9fa2b1c6_d353_11ea_8086_10ddb19df918row4_col0\" class=\"data row4 col0\" >2</td>\n                        <td id=\"T_9fa2b1c6_d353_11ea_8086_10ddb19df918row4_col1\" class=\"data row4 col1\" >1,250,000.0</td>\n                        <td id=\"T_9fa2b1c6_d353_11ea_8086_10ddb19df918row4_col2\" class=\"data row4 col2\" >-142,000.0</td>\n                        <td id=\"T_9fa2b1c6_d353_11ea_8086_10ddb19df918row4_col3\" class=\"data row4 col3\" >-11.36%</td>\n                        <td id=\"T_9fa2b1c6_d353_11ea_8086_10ddb19df918row4_col4\" class=\"data row4 col4\" >1,108,000.0</td>\n                        <td id=\"T_9fa2b1c6_d353_11ea_8086_10ddb19df918row4_col5\" class=\"data row4 col5\" >2,120,955.0</td>\n                        <td id=\"T_9fa2b1c6_d353_11ea_8086_10ddb19df918row4_col6\" class=\"data row4 col6\" >1,012,955.0</td>\n                        <td id=\"T_9fa2b1c6_d353_11ea_8086_10ddb19df918row4_col7\" class=\"data row4 col7\" >91.42%</td>\n                        <td id=\"T_9fa2b1c6_d353_11ea_8086_10ddb19df918row4_col8\" class=\"data row4 col8\" >1,467,537.32</td>\n                        <td id=\"T_9fa2b1c6_d353_11ea_8086_10ddb19df918row4_col9\" class=\"data row4 col9\" >-653,417.68</td>\n                        <td id=\"T_9fa2b1c6_d353_11ea_8086_10ddb19df918row4_col10\" class=\"data row4 col10\" >-30.81%</td>\n                        <td id=\"T_9fa2b1c6_d353_11ea_8086_10ddb19df918row4_col11\" class=\"data row4 col11\" >359,537.32</td>\n                        <td id=\"T_9fa2b1c6_d353_11ea_8086_10ddb19df918row4_col12\" class=\"data row4 col12\" >24.50%</td>\n            </tr>\n            <tr>\n                        <th id=\"T_9fa2b1c6_d353_11ea_8086_10ddb19df918level0_row5\" class=\"row_heading level0 row5\" >66/11kV Transformers</th>\n                        <td id=\"T_9fa2b1c6_d353_11ea_8086_10ddb19df918row5_col0\" class=\"data row5 col0\" >1</td>\n                        <td id=\"T_9fa2b1c6_d353_11ea_8086_10ddb19df918row5_col1\" class=\"data row5 col1\" >1,456,820.0</td>\n                        <td id=\"T_9fa2b1c6_d353_11ea_8086_10ddb19df918row5_col2\" class=\"data row5 col2\" >-218,520.0</td>\n                        <td id=\"T_9fa2b1c6_d353_11ea_8086_10ddb19df918row5_col3\" class=\"data row5 col3\" >-15.00%</td>\n                        <td id=\"T_9fa2b1c6_d353_11ea_8086_10ddb19df918row5_col4\" class=\"data row5 col4\" >1,238,300.0</td>\n                        <td id=\"T_9fa2b1c6_d353_11ea_8086_10ddb19df918row5_col5\" class=\"data row5 col5\" >1,808,100.0</td>\n                        <td id=\"T_9fa2b1c6_d353_11ea_8086_10ddb19df918row5_col6\" class=\"data row5 col6\" >569,800.0</td>\n                        <td id=\"T_9fa2b1c6_d353_11ea_8086_10ddb19df918row5_col7\" class=\"data row5 col7\" >46.01%</td>\n                        <td id=\"T_9fa2b1c6_d353_11ea_8086_10ddb19df918row5_col8\" class=\"data row5 col8\" >1,567,907.96</td>\n                        <td id=\"T_9fa2b1c6_d353_11ea_8086_10ddb19df918row5_col9\" class=\"data row5 col9\" >-240,192.04</td>\n                        <td id=\"T_9fa2b1c6_d353_11ea_8086_10ddb19df918row5_col10\" class=\"data row5 col10\" >-13.28%</td>\n                        <td id=\"T_9fa2b1c6_d353_11ea_8086_10ddb19df918row5_col11\" class=\"data row5 col11\" >329,607.96</td>\n                        <td id=\"T_9fa2b1c6_d353_11ea_8086_10ddb19df918row5_col12\" class=\"data row5 col12\" >21.02%</td>\n            </tr>\n            <tr>\n                        <th id=\"T_9fa2b1c6_d353_11ea_8086_10ddb19df918level0_row6\" class=\"row_heading level0 row6\" >33kV UG Cable</th>\n                        <td id=\"T_9fa2b1c6_d353_11ea_8086_10ddb19df918row6_col0\" class=\"data row6 col0\" >2</td>\n                        <td id=\"T_9fa2b1c6_d353_11ea_8086_10ddb19df918row6_col1\" class=\"data row6 col1\" >491,790.0</td>\n                        <td id=\"T_9fa2b1c6_d353_11ea_8086_10ddb19df918row6_col2\" class=\"data row6 col2\" >-73,770.0</td>\n                        <td id=\"T_9fa2b1c6_d353_11ea_8086_10ddb19df918row6_col3\" class=\"data row6 col3\" >-15.00%</td>\n                        <td id=\"T_9fa2b1c6_d353_11ea_8086_10ddb19df918row6_col4\" class=\"data row6 col4\" >418,020.0</td>\n                        <td id=\"T_9fa2b1c6_d353_11ea_8086_10ddb19df918row6_col5\" class=\"data row6 col5\" >777,340.0</td>\n                        <td id=\"T_9fa2b1c6_d353_11ea_8086_10ddb19df918row6_col6\" class=\"data row6 col6\" >359,320.0</td>\n                        <td id=\"T_9fa2b1c6_d353_11ea_8086_10ddb19df918row6_col7\" class=\"data row6 col7\" >85.96%</td>\n                        <td id=\"T_9fa2b1c6_d353_11ea_8086_10ddb19df918row6_col8\" class=\"data row6 col8\" >650,528.38</td>\n                        <td id=\"T_9fa2b1c6_d353_11ea_8086_10ddb19df918row6_col9\" class=\"data row6 col9\" >-126,811.62</td>\n                        <td id=\"T_9fa2b1c6_d353_11ea_8086_10ddb19df918row6_col10\" class=\"data row6 col10\" >-16.31%</td>\n                        <td id=\"T_9fa2b1c6_d353_11ea_8086_10ddb19df918row6_col11\" class=\"data row6 col11\" >232,508.38</td>\n                        <td id=\"T_9fa2b1c6_d353_11ea_8086_10ddb19df918row6_col12\" class=\"data row6 col12\" >35.74%</td>\n            </tr>\n            <tr>\n                        <th id=\"T_9fa2b1c6_d353_11ea_8086_10ddb19df918level0_row7\" class=\"row_heading level0 row7\" >11kV CB</th>\n                        <td id=\"T_9fa2b1c6_d353_11ea_8086_10ddb19df918row7_col0\" class=\"data row7 col0\" >3</td>\n                        <td id=\"T_9fa2b1c6_d353_11ea_8086_10ddb19df918row7_col1\" class=\"data row7 col1\" >2,837,200.0</td>\n                        <td id=\"T_9fa2b1c6_d353_11ea_8086_10ddb19df918row7_col2\" class=\"data row7 col2\" >-424,580.0</td>\n                        <td id=\"T_9fa2b1c6_d353_11ea_8086_10ddb19df918row7_col3\" class=\"data row7 col3\" >-14.96%</td>\n                        <td id=\"T_9fa2b1c6_d353_11ea_8086_10ddb19df918row7_col4\" class=\"data row7 col4\" >2,412,620.0</td>\n                        <td id=\"T_9fa2b1c6_d353_11ea_8086_10ddb19df918row7_col5\" class=\"data row7 col5\" >2,691,446.0</td>\n                        <td id=\"T_9fa2b1c6_d353_11ea_8086_10ddb19df918row7_col6\" class=\"data row7 col6\" >278,826.0</td>\n                        <td id=\"T_9fa2b1c6_d353_11ea_8086_10ddb19df918row7_col7\" class=\"data row7 col7\" >11.56%</td>\n                        <td id=\"T_9fa2b1c6_d353_11ea_8086_10ddb19df918row7_col8\" class=\"data row7 col8\" >2,450,288.62</td>\n                        <td id=\"T_9fa2b1c6_d353_11ea_8086_10ddb19df918row7_col9\" class=\"data row7 col9\" >-241,157.38</td>\n                        <td id=\"T_9fa2b1c6_d353_11ea_8086_10ddb19df918row7_col10\" class=\"data row7 col10\" >-8.96%</td>\n                        <td id=\"T_9fa2b1c6_d353_11ea_8086_10ddb19df918row7_col11\" class=\"data row7 col11\" >37,668.62</td>\n                        <td id=\"T_9fa2b1c6_d353_11ea_8086_10ddb19df918row7_col12\" class=\"data row7 col12\" >1.54%</td>\n            </tr>\n            <tr>\n                        <th id=\"T_9fa2b1c6_d353_11ea_8086_10ddb19df918level0_row8\" class=\"row_heading level0 row8\" >33/11kV Transformers</th>\n                        <td id=\"T_9fa2b1c6_d353_11ea_8086_10ddb19df918row8_col0\" class=\"data row8 col0\" >10</td>\n                        <td id=\"T_9fa2b1c6_d353_11ea_8086_10ddb19df918row8_col1\" class=\"data row8 col1\" >1,121,780.0</td>\n                        <td id=\"T_9fa2b1c6_d353_11ea_8086_10ddb19df918row8_col2\" class=\"data row8 col2\" >-168,250.0</td>\n                        <td id=\"T_9fa2b1c6_d353_11ea_8086_10ddb19df918row8_col3\" class=\"data row8 col3\" >-15.00%</td>\n                        <td id=\"T_9fa2b1c6_d353_11ea_8086_10ddb19df918row8_col4\" class=\"data row8 col4\" >953,530.0</td>\n                        <td id=\"T_9fa2b1c6_d353_11ea_8086_10ddb19df918row8_col5\" class=\"data row8 col5\" >1,295,200.0</td>\n                        <td id=\"T_9fa2b1c6_d353_11ea_8086_10ddb19df918row8_col6\" class=\"data row8 col6\" >341,670.0</td>\n                        <td id=\"T_9fa2b1c6_d353_11ea_8086_10ddb19df918row8_col7\" class=\"data row8 col7\" >35.83%</td>\n                        <td id=\"T_9fa2b1c6_d353_11ea_8086_10ddb19df918row8_col8\" class=\"data row8 col8\" >989,839.14</td>\n                        <td id=\"T_9fa2b1c6_d353_11ea_8086_10ddb19df918row8_col9\" class=\"data row8 col9\" >-305,360.86</td>\n                        <td id=\"T_9fa2b1c6_d353_11ea_8086_10ddb19df918row8_col10\" class=\"data row8 col10\" >-23.58%</td>\n                        <td id=\"T_9fa2b1c6_d353_11ea_8086_10ddb19df918row8_col11\" class=\"data row8 col11\" >36,309.14</td>\n                        <td id=\"T_9fa2b1c6_d353_11ea_8086_10ddb19df918row8_col12\" class=\"data row8 col12\" >3.67%</td>\n            </tr>\n            <tr>\n                        <th id=\"T_9fa2b1c6_d353_11ea_8086_10ddb19df918level0_row9\" class=\"row_heading level0 row9\" >11kV Switchgear</th>\n                        <td id=\"T_9fa2b1c6_d353_11ea_8086_10ddb19df918row9_col0\" class=\"data row9 col0\" >5</td>\n                        <td id=\"T_9fa2b1c6_d353_11ea_8086_10ddb19df918row9_col1\" class=\"data row9 col1\" >509,160.0</td>\n                        <td id=\"T_9fa2b1c6_d353_11ea_8086_10ddb19df918row9_col2\" class=\"data row9 col2\" >-61,910.0</td>\n                        <td id=\"T_9fa2b1c6_d353_11ea_8086_10ddb19df918row9_col3\" class=\"data row9 col3\" >-12.16%</td>\n                        <td id=\"T_9fa2b1c6_d353_11ea_8086_10ddb19df918row9_col4\" class=\"data row9 col4\" >447,250.0</td>\n                        <td id=\"T_9fa2b1c6_d353_11ea_8086_10ddb19df918row9_col5\" class=\"data row9 col5\" >563,256.0</td>\n                        <td id=\"T_9fa2b1c6_d353_11ea_8086_10ddb19df918row9_col6\" class=\"data row9 col6\" >116,006.0</td>\n                        <td id=\"T_9fa2b1c6_d353_11ea_8086_10ddb19df918row9_col7\" class=\"data row9 col7\" >25.94%</td>\n                        <td id=\"T_9fa2b1c6_d353_11ea_8086_10ddb19df918row9_col8\" class=\"data row9 col8\" >466,347.13</td>\n                        <td id=\"T_9fa2b1c6_d353_11ea_8086_10ddb19df918row9_col9\" class=\"data row9 col9\" >-96,908.87</td>\n                        <td id=\"T_9fa2b1c6_d353_11ea_8086_10ddb19df918row9_col10\" class=\"data row9 col10\" >-17.21%</td>\n                        <td id=\"T_9fa2b1c6_d353_11ea_8086_10ddb19df918row9_col11\" class=\"data row9 col11\" >19,097.13</td>\n                        <td id=\"T_9fa2b1c6_d353_11ea_8086_10ddb19df918row9_col12\" class=\"data row9 col12\" >4.10%</td>\n            </tr>\n            <tr>\n                        <th id=\"T_9fa2b1c6_d353_11ea_8086_10ddb19df918level0_row10\" class=\"row_heading level0 row10\" >33kV Pole</th>\n                        <td id=\"T_9fa2b1c6_d353_11ea_8086_10ddb19df918row10_col0\" class=\"data row10 col0\" >1</td>\n                        <td id=\"T_9fa2b1c6_d353_11ea_8086_10ddb19df918row10_col1\" class=\"data row10 col1\" >40,000.0</td>\n                        <td id=\"T_9fa2b1c6_d353_11ea_8086_10ddb19df918row10_col2\" class=\"data row10 col2\" >0.0</td>\n                        <td id=\"T_9fa2b1c6_d353_11ea_8086_10ddb19df918row10_col3\" class=\"data row10 col3\" >0.00%</td>\n                        <td id=\"T_9fa2b1c6_d353_11ea_8086_10ddb19df918row10_col4\" class=\"data row10 col4\" >40,000.0</td>\n                        <td id=\"T_9fa2b1c6_d353_11ea_8086_10ddb19df918row10_col5\" class=\"data row10 col5\" >40,082.0</td>\n                        <td id=\"T_9fa2b1c6_d353_11ea_8086_10ddb19df918row10_col6\" class=\"data row10 col6\" >82.0</td>\n                        <td id=\"T_9fa2b1c6_d353_11ea_8086_10ddb19df918row10_col7\" class=\"data row10 col7\" >0.21%</td>\n                        <td id=\"T_9fa2b1c6_d353_11ea_8086_10ddb19df918row10_col8\" class=\"data row10 col8\" >25,082.0</td>\n                        <td id=\"T_9fa2b1c6_d353_11ea_8086_10ddb19df918row10_col9\" class=\"data row10 col9\" >-15,000.0</td>\n                        <td id=\"T_9fa2b1c6_d353_11ea_8086_10ddb19df918row10_col10\" class=\"data row10 col10\" >-37.42%</td>\n                        <td id=\"T_9fa2b1c6_d353_11ea_8086_10ddb19df918row10_col11\" class=\"data row10 col11\" >-14,918.0</td>\n                        <td id=\"T_9fa2b1c6_d353_11ea_8086_10ddb19df918row10_col12\" class=\"data row10 col12\" >-59.48%</td>\n            </tr>\n            <tr>\n                        <th id=\"T_9fa2b1c6_d353_11ea_8086_10ddb19df918level0_row11\" class=\"row_heading level0 row11\" >132kV Conductor Replacement</th>\n                        <td id=\"T_9fa2b1c6_d353_11ea_8086_10ddb19df918row11_col0\" class=\"data row11 col0\" >1</td>\n                        <td id=\"T_9fa2b1c6_d353_11ea_8086_10ddb19df918row11_col1\" class=\"data row11 col1\" >53,390.0</td>\n                        <td id=\"T_9fa2b1c6_d353_11ea_8086_10ddb19df918row11_col2\" class=\"data row11 col2\" >-8,010.0</td>\n                        <td id=\"T_9fa2b1c6_d353_11ea_8086_10ddb19df918row11_col3\" class=\"data row11 col3\" >-15.00%</td>\n                        <td id=\"T_9fa2b1c6_d353_11ea_8086_10ddb19df918row11_col4\" class=\"data row11 col4\" >45,380.0</td>\n                        <td id=\"T_9fa2b1c6_d353_11ea_8086_10ddb19df918row11_col5\" class=\"data row11 col5\" >26,550.0</td>\n                        <td id=\"T_9fa2b1c6_d353_11ea_8086_10ddb19df918row11_col6\" class=\"data row11 col6\" >-18,830.0</td>\n                        <td id=\"T_9fa2b1c6_d353_11ea_8086_10ddb19df918row11_col7\" class=\"data row11 col7\" >-41.49%</td>\n                        <td id=\"T_9fa2b1c6_d353_11ea_8086_10ddb19df918row11_col8\" class=\"data row11 col8\" >9,500.0</td>\n                        <td id=\"T_9fa2b1c6_d353_11ea_8086_10ddb19df918row11_col9\" class=\"data row11 col9\" >-17,050.0</td>\n                        <td id=\"T_9fa2b1c6_d353_11ea_8086_10ddb19df918row11_col10\" class=\"data row11 col10\" >-64.22%</td>\n                        <td id=\"T_9fa2b1c6_d353_11ea_8086_10ddb19df918row11_col11\" class=\"data row11 col11\" >-35,880.0</td>\n                        <td id=\"T_9fa2b1c6_d353_11ea_8086_10ddb19df918row11_col12\" class=\"data row11 col12\" >-377.68%</td>\n            </tr>\n            <tr>\n                        <th id=\"T_9fa2b1c6_d353_11ea_8086_10ddb19df918level0_row12\" class=\"row_heading level0 row12\" >132kV Fittings Replacement</th>\n                        <td id=\"T_9fa2b1c6_d353_11ea_8086_10ddb19df918row12_col0\" class=\"data row12 col0\" >1</td>\n                        <td id=\"T_9fa2b1c6_d353_11ea_8086_10ddb19df918row12_col1\" class=\"data row12 col1\" >522,515.0</td>\n                        <td id=\"T_9fa2b1c6_d353_11ea_8086_10ddb19df918row12_col2\" class=\"data row12 col2\" >-99,278.0</td>\n                        <td id=\"T_9fa2b1c6_d353_11ea_8086_10ddb19df918row12_col3\" class=\"data row12 col3\" >-19.00%</td>\n                        <td id=\"T_9fa2b1c6_d353_11ea_8086_10ddb19df918row12_col4\" class=\"data row12 col4\" >423,237.0</td>\n                        <td id=\"T_9fa2b1c6_d353_11ea_8086_10ddb19df918row12_col5\" class=\"data row12 col5\" >523,799.0</td>\n                        <td id=\"T_9fa2b1c6_d353_11ea_8086_10ddb19df918row12_col6\" class=\"data row12 col6\" >100,562.0</td>\n                        <td id=\"T_9fa2b1c6_d353_11ea_8086_10ddb19df918row12_col7\" class=\"data row12 col7\" >23.76%</td>\n                        <td id=\"T_9fa2b1c6_d353_11ea_8086_10ddb19df918row12_col8\" class=\"data row12 col8\" >302,281.99</td>\n                        <td id=\"T_9fa2b1c6_d353_11ea_8086_10ddb19df918row12_col9\" class=\"data row12 col9\" >-221,517.01</td>\n                        <td id=\"T_9fa2b1c6_d353_11ea_8086_10ddb19df918row12_col10\" class=\"data row12 col10\" >-42.29%</td>\n                        <td id=\"T_9fa2b1c6_d353_11ea_8086_10ddb19df918row12_col11\" class=\"data row12 col11\" >-120,955.01</td>\n                        <td id=\"T_9fa2b1c6_d353_11ea_8086_10ddb19df918row12_col12\" class=\"data row12 col12\" >-40.01%</td>\n            </tr>\n            <tr>\n                        <th id=\"T_9fa2b1c6_d353_11ea_8086_10ddb19df918level0_row13\" class=\"row_heading level0 row13\" >unkonown</th>\n                        <td id=\"T_9fa2b1c6_d353_11ea_8086_10ddb19df918row13_col0\" class=\"data row13 col0\" >41</td>\n                        <td id=\"T_9fa2b1c6_d353_11ea_8086_10ddb19df918row13_col1\" class=\"data row13 col1\" >17,101,278.27</td>\n                        <td id=\"T_9fa2b1c6_d353_11ea_8086_10ddb19df918row13_col2\" class=\"data row13 col2\" >-1,618,266.43</td>\n                        <td id=\"T_9fa2b1c6_d353_11ea_8086_10ddb19df918row13_col3\" class=\"data row13 col3\" >-9.46%</td>\n                        <td id=\"T_9fa2b1c6_d353_11ea_8086_10ddb19df918row13_col4\" class=\"data row13 col4\" >15,483,011.84</td>\n                        <td id=\"T_9fa2b1c6_d353_11ea_8086_10ddb19df918row13_col5\" class=\"data row13 col5\" >13,212,544.09</td>\n                        <td id=\"T_9fa2b1c6_d353_11ea_8086_10ddb19df918row13_col6\" class=\"data row13 col6\" >-2,270,467.75</td>\n                        <td id=\"T_9fa2b1c6_d353_11ea_8086_10ddb19df918row13_col7\" class=\"data row13 col7\" >-14.66%</td>\n                        <td id=\"T_9fa2b1c6_d353_11ea_8086_10ddb19df918row13_col8\" class=\"data row13 col8\" >7,780,198.86</td>\n                        <td id=\"T_9fa2b1c6_d353_11ea_8086_10ddb19df918row13_col9\" class=\"data row13 col9\" >-5,432,345.23</td>\n                        <td id=\"T_9fa2b1c6_d353_11ea_8086_10ddb19df918row13_col10\" class=\"data row13 col10\" >-41.12%</td>\n                        <td id=\"T_9fa2b1c6_d353_11ea_8086_10ddb19df918row13_col11\" class=\"data row13 col11\" >-7,702,812.98</td>\n                        <td id=\"T_9fa2b1c6_d353_11ea_8086_10ddb19df918row13_col12\" class=\"data row13 col12\" >-99.01%</td>\n            </tr>\n    </tbody></table>",
          "text/plain": "<pandas.io.formats.style.Styler at 0x7ff612f3b2b0>"
         },
         "metadata": {},
         "output_type": "display_data"
        }
       ]
      }
     }
    },
    "version_major": 2,
    "version_minor": 0
   }
  }
 },
 "nbformat": 4,
 "nbformat_minor": 4
}
